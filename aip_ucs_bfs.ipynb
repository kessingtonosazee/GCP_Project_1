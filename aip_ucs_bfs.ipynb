{
  "nbformat": 4,
  "nbformat_minor": 0,
  "metadata": {
    "colab": {
      "provenance": [],
      "authorship_tag": "ABX9TyN7cM3IlpZDFBcd+WJhuBeE",
      "include_colab_link": true
    },
    "kernelspec": {
      "name": "python3",
      "display_name": "Python 3"
    },
    "language_info": {
      "name": "python"
    }
  },
  "cells": [
    {
      "cell_type": "markdown",
      "metadata": {
        "id": "view-in-github",
        "colab_type": "text"
      },
      "source": [
        "<a href=\"https://colab.research.google.com/github/kessingtonosazee/GCP_Project_1/blob/master/aip_ucs_bfs.ipynb\" target=\"_parent\"><img src=\"https://colab.research.google.com/assets/colab-badge.svg\" alt=\"Open In Colab\"/></a>"
      ]
    },
    {
      "cell_type": "code",
      "execution_count": null,
      "metadata": {
        "id": "HwWN18x8yXlD"
      },
      "outputs": [],
      "source": [
        "class UCS {\n",
        "    // Define a class named UCS\n",
        "    solve(start, target, grid) {\n",
        "        // Define a method named solve within the UCS class, which takes start, target, and grid as parameters.\n",
        "\n",
        "        const animationOrder = [];\n",
        "        // Initialize an empty array named animationOrder to store the order of visited cells for animation.\n",
        "\n",
        "        const queue = [[start, [start], 0]];\n",
        "        // Initialize a queue with the first element being an array containing start position, path, and cost.\n",
        "\n",
        "        while (queue.length) {\n",
        "            // Start a while loop that continues as long as the queue is not empty.\n",
        "\n",
        "            const [current, path, cost] = queue.shift();\n",
        "            // Dequeue the first element from the queue and assign its components to variables current, path, and cost.\n",
        "\n",
        "            if (current.x === target.x && current.y === target.y) {\n",
        "                // Check if the current position is equal to the target position.\n",
        "                return [animationOrder, path];\n",
        "                // If true, return an array containing the animationOrder and the final path.\n",
        "            }\n",
        "\n",
        "            current.neighbours(grid)\n",
        "                .map((cell, j) => {\n",
        "                    // Call the neighbours method on the current cell, which returns an array of neighboring cells.\n",
        "                    if (!cell.visited) {\n",
        "                        // Check if the neighboring cell has not been visited.\n",
        "                        cell.visited = true;\n",
        "                        // Mark the neighboring cell as visited.\n",
        "                        queue.push([cell, [...path, cell], cost + 1]);\n",
        "                        // Enqueue the neighboring cell along with an updated path and increased cost.\n",
        "                        animationOrder.push(cell);\n",
        "                        // Add the neighboring cell to the animationOrder array.\n",
        "                    }\n",
        "                });\n",
        "\n",
        "            // Sort the costs to cheapest path\n",
        "            queue.sort((a, b) => a[2] - b[2]);\n",
        "            // Sort the elements in the queue based on the cost in ascending order.\n",
        "        }\n",
        "    }\n",
        "}\n"
      ]
    },
    {
      "cell_type": "code",
      "source": [],
      "metadata": {
        "id": "Fd0a7Gi9GGw7"
      },
      "execution_count": null,
      "outputs": []
    },
    {
      "cell_type": "code",
      "source": [],
      "metadata": {
        "id": "ps7PJ1DxGHHy"
      },
      "execution_count": null,
      "outputs": []
    },
    {
      "cell_type": "code",
      "source": [
        "class UCSTree {\n",
        "    // Define a class named UCSTree.\n",
        "    solve(start, target, grid) {\n",
        "        // Define a method named solve within the UCSTree class, which takes start, target, and grid as parameters.\n",
        "\n",
        "        let cycles = 0;\n",
        "        // Initialize a variable named cycles to 0 to count the number of iterations in the while loop.\n",
        "\n",
        "        const maxCycles = grid.cells.length * grid.cells[0].length * 1;\n",
        "        // Calculate the maximum number of cycles allowed based on the size of the grid.\n",
        "\n",
        "        const animationOrder = [];\n",
        "        // Initialize an empty array named animationOrder to store the order of visited cells for animation.\n",
        "\n",
        "        const queue = [[start, [start], 0]];\n",
        "        // Initialize a queue with the first element being an array containing start position, path, and cost.\n",
        "\n",
        "        while (queue.length && cycles < maxCycles) {\n",
        "            // Start a while loop that continues as long as the queue is not empty and the number of cycles is less than the maximum allowed.\n",
        "\n",
        "            const [current, path, cost] = queue.shift();\n",
        "            // Dequeue the first element from the queue and assign its components to variables current, path, and cost.\n",
        "\n",
        "            if (current.x === target.x && current.y === target.y) {\n",
        "                // Check if the current position is equal to the target position.\n",
        "                return [animationOrder, path];\n",
        "                // If true, return an array containing the animationOrder and the final path.\n",
        "            }\n",
        "\n",
        "            current.neighbours(grid)\n",
        "                .map((cell, j) => {\n",
        "                    // Call the neighbours method on the current cell, which returns an array of neighboring cells.\n",
        "                    cell.visited = true;\n",
        "                    // Mark the neighboring cell as visited.\n",
        "                    queue.push([cell, [...path, cell], cost + cell.cost]);\n",
        "                    // Enqueue the neighboring cell along with an updated path and increased cost.\n",
        "                    animationOrder.push(cell);\n",
        "                    // Add the neighboring cell to the animationOrder array.\n",
        "                });\n",
        "\n",
        "            // Sort the costs to cheapest path\n",
        "            queue.sort((a, b) => a[2] - b[2]);\n",
        "            // Sort the elements in the queue based on the cost in ascending order.\n",
        "            cycles++;\n",
        "            // Increment the cycles counter.\n",
        "        }\n",
        "    }\n",
        "}\n"
      ],
      "metadata": {
        "id": "G8AYcdN_GHVS"
      },
      "execution_count": null,
      "outputs": []
    },
    {
      "cell_type": "code",
      "source": [],
      "metadata": {
        "id": "VnO6uhaXGoX5"
      },
      "execution_count": null,
      "outputs": []
    },
    {
      "cell_type": "code",
      "source": [],
      "metadata": {
        "id": "CpB_B3ZFGojo"
      },
      "execution_count": null,
      "outputs": []
    },
    {
      "cell_type": "code",
      "source": [
        "class BFS {\n",
        "    // Define a class named BFS.\n",
        "    solve(start, target, grid) {\n",
        "        // Define a method named solve within the BFS class, which takes start, target, and grid as parameters.\n",
        "\n",
        "        const animationOrder = [];\n",
        "        // Initialize an empty array named animationOrder to store the order of visited cells for animation.\n",
        "\n",
        "        const queue = [[start, [start]]];\n",
        "        // Initialize a queue with the first element being an array containing start position and path.\n",
        "\n",
        "        while (queue.length) {\n",
        "            // Start a while loop that continues as long as the queue is not empty.\n",
        "\n",
        "            const [current, path] = queue.pop();\n",
        "            // Dequeue the last element from the queue and assign its components to variables current and path.\n",
        "\n",
        "            if (current.x === target.x && current.y === target.y) {\n",
        "                // Check if the current position is equal to the target position.\n",
        "                return [animationOrder, path];\n",
        "                // If true, return an array containing the animationOrder and the final path.\n",
        "            }\n",
        "\n",
        "            current.neighbours(grid)\n",
        "                .map((cell, j) => {\n",
        "                    // Call the neighbours method on the current cell, which returns an array of neighboring cells.\n",
        "                    if (!cell.visited) {\n",
        "                        // Check if the neighboring cell has not been visited.\n",
        "                        cell.visited = true;\n",
        "                        // Mark the neighboring cell as visited.\n",
        "                        animationOrder.push(current);\n",
        "                        // Add the current cell to the animationOrder array.\n",
        "                        queue.unshift([cell, [...path, cell]]);\n",
        "                        // Enqueue the neighboring cell along with an updated path.\n",
        "                    }\n",
        "                });\n",
        "        }\n",
        "    }\n",
        "}\n"
      ],
      "metadata": {
        "id": "pw0ZzLrRGosQ"
      },
      "execution_count": null,
      "outputs": []
    },
    {
      "cell_type": "code",
      "source": [],
      "metadata": {
        "id": "n-NQ0jjCG_IY"
      },
      "execution_count": null,
      "outputs": []
    },
    {
      "cell_type": "code",
      "source": [],
      "metadata": {
        "id": "flMA9Ve8G_TA"
      },
      "execution_count": null,
      "outputs": []
    },
    {
      "cell_type": "code",
      "source": [
        "class BFSTree {\n",
        "    // Define a class named BFSTree.\n",
        "    solve(start, target, grid) {\n",
        "        // Define a method named solve within the BFSTree class, which takes start, target, and grid as parameters.\n",
        "\n",
        "        // This algorithm will not work with cycles in the grid.\n",
        "        // To prevent it from crashing the browser, a generous limit is added.\n",
        "        let cycles = 0;\n",
        "        // Initialize a variable named cycles to 0 to count the number of iterations in the while loop.\n",
        "\n",
        "        const maxCycles = grid.cells.length * grid.cells[0].length * 1;\n",
        "        // Calculate the maximum number of cycles allowed based on the size of the grid.\n",
        "\n",
        "        const animationOrder = [];\n",
        "        // Initialize an empty array named animationOrder to store the order of visited cells for animation.\n",
        "\n",
        "        const queue = [[start, [start]]];\n",
        "        // Initialize a queue with the first element being an array containing start position and path.\n",
        "\n",
        "        while (queue.length && cycles < maxCycles) {\n",
        "            // Start a while loop that continues as long as the queue is not empty and the number of cycles is less than the maximum allowed.\n",
        "\n",
        "            const [current, path] = queue.shift();\n",
        "            // Dequeue the first element from the queue and assign its components to variables current and path.\n",
        "\n",
        "            if (current.x === target.x && current.y === target.y) {\n",
        "                // Check if the current position is equal to the target position.\n",
        "                return [animationOrder, path];\n",
        "                // If true, return an array containing the animationOrder and the final path.\n",
        "            }\n",
        "\n",
        "            current.neighbours(grid)\n",
        "                .map((cell, j) => {\n",
        "                    // Call the neighbours method on the current cell, which returns an array of neighboring cells.\n",
        "                    queue.push([cell, [...path, cell]]);\n",
        "                    // Enqueue the neighboring cell along with an updated path.\n",
        "                    animationOrder.push(cell);\n",
        "                    // Add the neighboring cell to the animationOrder array.\n",
        "                });\n",
        "\n",
        "            cycles++;\n",
        "            // Increment the cycles counter.\n",
        "        }\n",
        "    }\n",
        "}\n"
      ],
      "metadata": {
        "id": "barp9sUWG_a4"
      },
      "execution_count": null,
      "outputs": []
    }
  ]
}