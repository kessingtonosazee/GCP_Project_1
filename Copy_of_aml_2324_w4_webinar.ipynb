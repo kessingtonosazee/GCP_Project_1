{
  "nbformat": 4,
  "nbformat_minor": 0,
  "metadata": {
    "colab": {
      "provenance": [],
      "include_colab_link": true
    },
    "kernelspec": {
      "name": "python3",
      "display_name": "Python 3"
    },
    "language_info": {
      "name": "python"
    }
  },
  "cells": [
    {
      "cell_type": "markdown",
      "metadata": {
        "id": "view-in-github",
        "colab_type": "text"
      },
      "source": [
        "<a href=\"https://colab.research.google.com/github/kessingtonosazee/GCP_Project_1/blob/master/Copy_of_aml_2324_w4_webinar.ipynb\" target=\"_parent\"><img src=\"https://colab.research.google.com/assets/colab-badge.svg\" alt=\"Open In Colab\"/></a>"
      ]
    },
    {
      "cell_type": "markdown",
      "source": [
        "* SHAP are estimations of the average effect of the feature on the output of the model\n",
        "\n",
        "* Let us pick a wine from the dataset\n",
        "\n",
        "* Alcohol=10; volatile acidity=5; sulfides=3\n",
        "\n",
        "* We look at all possible combinations of the features involving the one of interest - say, alcohol\n",
        "\n",
        "* A: Alcohol, V: Volatile Acidity, S: Sulfides\n",
        "\n",
        "* Feature of interest is A\n",
        "\n",
        "* A, A V, A S, A S V\n",
        "\n",
        "* Then, we try those combinations (coalitions, are they are usually referred to in SHAP contexts) **with** and **without** the feature of interest and see what the difference in the model output is.\n",
        "\n",
        "* f():\n",
        "    - f(A=10, V=5) = 8;   f(V=5) = 7\n",
        "    - f(A=10, S=3) = 7.5; f(S=3) = 6.4\n",
        "    - SHAP will be the average change in prediction from with to without feature of interest"
      ],
      "metadata": {
        "id": "hzigF59Dz3SY"
      }
    },
    {
      "cell_type": "code",
      "source": [],
      "metadata": {
        "id": "c_7XR6qAU-BB"
      },
      "execution_count": null,
      "outputs": []
    },
    {
      "cell_type": "code",
      "source": [],
      "metadata": {
        "id": "wMydomKO0HOU"
      },
      "execution_count": null,
      "outputs": []
    }
  ]
}