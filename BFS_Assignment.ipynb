{
  "nbformat": 4,
  "nbformat_minor": 0,
  "metadata": {
    "colab": {
      "provenance": [],
      "authorship_tag": "ABX9TyM4vIgqOtvyCHlIRaooQRJa",
      "include_colab_link": true
    },
    "kernelspec": {
      "name": "python3",
      "display_name": "Python 3"
    },
    "language_info": {
      "name": "python"
    }
  },
  "cells": [
    {
      "cell_type": "markdown",
      "metadata": {
        "id": "view-in-github",
        "colab_type": "text"
      },
      "source": [
        "<a href=\"https://colab.research.google.com/github/kessingtonosazee/GCP_Project_1/blob/master/BFS_Assignment.ipynb\" target=\"_parent\"><img src=\"https://colab.research.google.com/assets/colab-badge.svg\" alt=\"Open In Colab\"/></a>"
      ]
    },
    {
      "cell_type": "code",
      "execution_count": null,
      "metadata": {
        "id": "LWSEq76sBYTL"
      },
      "outputs": [],
      "source": [
        "class BFS {\n",
        "    // The BFS class has a method named solve that takes three parameters: start, target, and grid.\n",
        "    solve(start, target, grid) {\n",
        "        // Initialize an array to keep track of the animation order.\n",
        "        const animationOrder = [];\n",
        "        // Initialize a queue with the start node and its path.\n",
        "        const queue = [[start, [start]]];\n",
        "\n",
        "        // Start a while loop that continues until the queue is not empty.\n",
        "        while (queue.length) {\n",
        "            // Dequeue the front element of the queue, which is an array containing the current node and its path.\n",
        "            const [current, path] = queue.pop();\n",
        "\n",
        "            // Check if the current node is the target node.\n",
        "            if (current.x === target.x && current.y === target.y) {\n",
        "                // If yes, return the animation order and the path.\n",
        "                return [animationOrder, path];\n",
        "            }\n",
        "\n",
        "            // Get the neighbors of the current node using the neighbours method, passing the grid.\n",
        "            current.neighbours(grid)\n",
        "                // Map over the neighbors.\n",
        "                .map((cell, j) => {\n",
        "                    // Check if the neighbor has not been visited.\n",
        "                    if (!cell.visited) {\n",
        "                        // Mark the neighbor as visited.\n",
        "                        cell.visited = true;\n",
        "                        // Push the current node to the animation order array.\n",
        "                        animationOrder.push(current);\n",
        "                        // Enqueue the neighbor and its path to the front of the queue.\n",
        "                        queue.unshift([cell, [...path, cell]]);\n",
        "                    }\n",
        "                });\n",
        "        }\n",
        "    }\n",
        "}\n",
        "\n",
        "// This class is missing a definition for the `neighbours` method, which is used in the solve method.\n"
      ]
    }
  ]
}