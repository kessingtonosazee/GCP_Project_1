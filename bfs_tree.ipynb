{
  "nbformat": 4,
  "nbformat_minor": 0,
  "metadata": {
    "colab": {
      "provenance": [],
      "authorship_tag": "ABX9TyPoCDZ4XiqjclzOPEwkAHhS",
      "include_colab_link": true
    },
    "kernelspec": {
      "name": "python3",
      "display_name": "Python 3"
    },
    "language_info": {
      "name": "python"
    }
  },
  "cells": [
    {
      "cell_type": "markdown",
      "metadata": {
        "id": "view-in-github",
        "colab_type": "text"
      },
      "source": [
        "<a href=\"https://colab.research.google.com/github/kessingtonosazee/GCP_Project_1/blob/master/bfs_tree.ipynb\" target=\"_parent\"><img src=\"https://colab.research.google.com/assets/colab-badge.svg\" alt=\"Open In Colab\"/></a>"
      ]
    },
    {
      "cell_type": "code",
      "execution_count": null,
      "metadata": {
        "id": "LWSEq76sBYTL"
      },
      "outputs": [],
      "source": [
        "// Define a class named BFSTree.\n",
        "class BFSTree {\n",
        "\n",
        "    /**\n",
        "     * Solves the shortest path problem from start to target using Breadth-First Search (BFS) algorithm.\n",
        "     *\n",
        "     * @param {Cell} start - The starting cell.\n",
        "     * @param {Cell} target - The target cell to reach.\n",
        "     * @param {Grid} grid - The grid containing the cells and their connections.\n",
        "     * @returns {Array[]} An array containing the animation order and the shortest path.\n",
        "     * @memberof BFSTree\n",
        "     */\n",
        "    solve(start, target, grid) {\n",
        "        // Initialize variables to track cycles, animation order, and the queue for BFS.\n",
        "        let cycles = 0;\n",
        "        const maxCycles = grid.cells.length * grid.cells[0].length * 4; // A generous limit to prevent infinite loops.\n",
        "        const animationOrder = [];\n",
        "        const queue = [[start, [start]]];\n",
        "\n",
        "        // Continue the BFS until the queue is empty or the cycle limit is reached.\n",
        "        while (queue.length && cycles < maxCycles) {\n",
        "            // Dequeue the front element of the queue, which is an array containing the current node and its path.\n",
        "            const [current, path] = queue.shift();\n",
        "\n",
        "            // Check if the current node is the target node.\n",
        "            if (current.x === target.x && current.y === target.y) {\n",
        "                // If yes, return the animation order and the path.\n",
        "                return [animationOrder, path];\n",
        "            }\n",
        "\n",
        "            // Get the neighbors of the current node using the neighbours method, passing the grid.\n",
        "            current.neighbours(grid)\n",
        "                // Map over the neighbors.\n",
        "                .map((cell, j) => {\n",
        "                    // Enqueue the neighbor and its path to the end of the queue.\n",
        "                    queue.push([cell, [...path, cell]]);\n",
        "                    // Push the neighbor to the animation order array.\n",
        "                    animationOrder.push(cell);\n",
        "                });\n",
        "\n",
        "            // Increment the cycle count.\n",
        "            cycles++;\n",
        "        }\n",
        "    }\n",
        "}\n"
      ]
    }
  ]
}