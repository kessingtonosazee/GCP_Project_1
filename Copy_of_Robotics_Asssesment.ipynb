{
  "nbformat": 4,
  "nbformat_minor": 0,
  "metadata": {
    "colab": {
      "provenance": [],
      "authorship_tag": "ABX9TyPuK42HVbY3XlPd3aErku2E",
      "include_colab_link": true
    },
    "kernelspec": {
      "name": "python3",
      "display_name": "Python 3"
    },
    "language_info": {
      "name": "python"
    }
  },
  "cells": [
    {
      "cell_type": "markdown",
      "metadata": {
        "id": "view-in-github",
        "colab_type": "text"
      },
      "source": [
        "<a href=\"https://colab.research.google.com/github/kessingtonosazee/GCP_Project_1/blob/master/Copy_of_Robotics_Asssesment.ipynb\" target=\"_parent\"><img src=\"https://colab.research.google.com/assets/colab-badge.svg\" alt=\"Open In Colab\"/></a>"
      ]
    },
    {
      "cell_type": "markdown",
      "source": [
        "**Question 2 Python File**"
      ],
      "metadata": {
        "id": "i3p1ecxh6eLt"
      }
    },
    {
      "cell_type": "code",
      "source": [
        "#!/usr/bin/env python3\n",
        "\n",
        "# imports rospy module and twist message type\n",
        "import rospy\n",
        "from geometry_msgs.msg import Twist\n",
        "import math\n",
        "\n",
        "class MoveTurtleBot():\n",
        "\n",
        "    # initialize class attributes\n",
        "    def __init__(self):\n",
        "        self.turtlebot_vel_publisher = rospy.Publisher('/cmd_vel', Twist, queue_size=1) # creates a publisher for cmd_vel topic, specify twist message, sets queue size\n",
        "        self.cmd = Twist()   # initializes a twist object\n",
        "        self.ctrl_c = False  # initializes a flag for shutdown\n",
        "        self.rate = rospy.Rate(1) # initializes the rate of publising\n",
        "        rospy.on_shutdown(self.shutdownhook) # sets the on_shutdown method to shutdownhook function when it is shutting down.\n",
        "\n",
        "    def publish_once_in_cmd_vel(self):\n",
        "        \"\"\"\n",
        "        This is because publishing in topics sometimes fails the first time you publish.\n",
        "        In continuos publishing systems there is no big deal but in systems that publish only\n",
        "        once it IS very important as it ensures the velocity command is published atleast once.\n",
        "        \"\"\"\n",
        "        while not self.ctrl_c:\n",
        "            connections = self.turtlebot_vel_publisher.get_num_connections()\n",
        "            if connections > 0:\n",
        "                self.turtlebot_vel_publisher.publish(self.cmd)\n",
        "                rospy.loginfo(\"Cmd Published\")\n",
        "                break\n",
        "            else:\n",
        "                self.rate.sleep()\n",
        "\n",
        "    def shutdownhook(self):\n",
        "        # works better than the rospy.is_shutdown()\n",
        "        self.stop_turtlebot()\n",
        "        self.ctrl_c = True\n",
        "\n",
        "    def stop_turtlebot(self):\n",
        "        rospy.loginfo(\"shutdown time! Stop the robot\")\n",
        "        self.cmd.linear.x = 0.0\n",
        "        self.cmd.angular.z = 0.0\n",
        "        self.publish_once_in_cmd_vel()\n",
        "\n",
        "    def MoveTurtleBot(self, moving_time, linear_speed=0.2, angular_speed=0.2):\n",
        "        self.cmd.linear.x = linear_speed\n",
        "        self.cmd.angular.z = angular_speed\n",
        "\n",
        "        i = 0\n",
        "        rospy.loginfo(\"Moving TurtleBot!\")\n",
        "        while not self.ctrl_c and i <= moving_time:\n",
        "            self.publish_once_in_cmd_vel()\n",
        "            i = i+1\n",
        "            self.rate.sleep()\n",
        "\n",
        "        self.stop_turtlebot()\n",
        "\n",
        "    def MoveRectangle(self, moving_time, linear_speed=0.2, angular_speed=0.2):\n",
        "        for _ in range(4):\n",
        "            self.cmd.linear.x = linear_speed\n",
        "            self.cmd.angular.z = 0.0\n",
        "            i = 0\n",
        "\n",
        "            rospy.loginfo(\"Moving TurtleBot in a straight line\")\n",
        "            while not self.ctrl_c and i <= moving_time:\n",
        "                self.publish_once_in_cmd_vel()\n",
        "                i = i+1\n",
        "                self.rate.sleep()\n",
        "\n",
        "            # Stop briefly\n",
        "            self.stop_turtlebot()\n",
        "            rospy.sleep(1.0)\n",
        "\n",
        "            # turns 90 degrees to the right\n",
        "            desired_angle_degrees = 90.0\n",
        "            time_duration_seconds = 5.0\n",
        "\n",
        "            # Convert degrees to radians\n",
        "            desired_angle_radians = desired_angle_degrees*(math.pi/180.0) # (180 degrees = pi radians)\n",
        "\n",
        "            # Calculate angular speed\n",
        "            angular_speed = desired_angle_radians / time_duration_seconds\n",
        "\n",
        "            # Set linear and angular speed values\n",
        "            self.cmd.linear.x = 0.0\n",
        "            self.cmd.angular.z = angular_speed\n",
        "\n",
        "            # log and publish to topic\n",
        "            rospy.loginfo(\"TurtleBot turns 90 degrees to the right!\")\n",
        "            self.publish_once_in_cmd_vel()\n",
        "            rospy.sleep(5.0)\n",
        "\n",
        "\n",
        "            # Stop briefly\n",
        "            self.stop_turtlebot()\n",
        "            rospy.sleep(1.0)\n",
        "\n",
        "    def MoveCircle(self, duration=10, radius=1.0):\n",
        "\n",
        "        # Calculate linear velocity to achieve a complete circle\n",
        "        linear_speed = 2 * math.pi * radius / duration\n",
        "\n",
        "        # Calculate angular velocity based on linear velocity and radius\n",
        "        angular_speed = linear_speed / radius\n",
        "\n",
        "        # Set values for linear and angular speed\n",
        "        self.cmd.linear.x = linear_speed\n",
        "        self.cmd.angular.z = angular_speed\n",
        "\n",
        "        # log info\n",
        "        rospy.loginfo(f\"Moving TurtleBot in a circle for {duration} seconds.\")\n",
        "        start_time = rospy.get_time()\n",
        "\n",
        "        while rospy.get_time() - start_time <= duration:\n",
        "            self.turtlebot_vel_publisher.publish(self.cmd)\n",
        "            self.rate.sleep()\n",
        "\n",
        "        self.stop_turtlebot()\n",
        "        rospy.sleep(1.0)\n",
        "\n",
        "\n",
        "if __name__ == '__main__':\n",
        "    rospy.init_node('move_turtlebot_test', anonymous=True)\n",
        "    moveturtlebot_object = MoveTurtleBot()\n",
        "\n",
        "    try:\n",
        "        moveturtlebot_object.MoveRectangle(10)\n",
        "        moveturtlebot_object.MoveCircle(10, 1.0)\n",
        "\n",
        "    except rospy.ROSInterruptException:\n",
        "        pass"
      ],
      "metadata": {
        "id": "HEmQRoJm7LBe"
      },
      "execution_count": null,
      "outputs": []
    },
    {
      "cell_type": "markdown",
      "source": [
        "**Question 2 Bash File**"
      ],
      "metadata": {
        "id": "eMyE028U7l1n"
      }
    },
    {
      "cell_type": "code",
      "source": [
        "ARG1=$1\n",
        "\n",
        "if [ \"$ARG1\" == \"circle\" ]; then\n",
        "   echo \"circling\";\n",
        "   rosrun rss_linux_pkg move_turtlebot_circle.py\n",
        "\n",
        "elif [ \"$ARG1\" == 'forward_backward' ]; then\n",
        "     echo \"back and forth\";\n",
        "     rosrun rss_linux_pkg move_turtlebot_forward_backward.py\n",
        "\n",
        "elif [ \"$ARG1\" == 'rectangle_circle' ]; then\n",
        "     echo \"rectangle and circle\";\n",
        "     rosrun rss_linux_pkg move_turtlebot_rectangle_circle.py\n",
        "else\n",
        "echo \"Please enter one of the following;\n",
        "circle\n",
        "forward_backward\n",
        "rectangle_circle\"\n",
        "\n",
        "fi"
      ],
      "metadata": {
        "id": "8brezx2j9dbj"
      },
      "execution_count": null,
      "outputs": []
    },
    {
      "cell_type": "markdown",
      "source": [
        "**Question 1**"
      ],
      "metadata": {
        "id": "lQb8ENTZ-ZMw"
      }
    },
    {
      "cell_type": "code",
      "source": [
        "#!/usr/bin/env python3\n",
        "\n",
        "# initiate variable\n",
        "sum_result = 0\n",
        "\n",
        "# define the range: 0 : 99\n",
        "number_set = range(0,100)\n",
        "\n",
        "# Calculate the sum from 0 to 99\n",
        "for number_index in number_set:\n",
        "    sum_result += number_index\n",
        "\n",
        "# Print Result\n",
        "print('Sum of numbers from 0 to 99:', sum_result)"
      ],
      "metadata": {
        "id": "BAsjglbr-dWW"
      },
      "execution_count": null,
      "outputs": []
    },
    {
      "cell_type": "markdown",
      "source": [
        "**Question 1 Continued**\n",
        "Detail what commands you used and for what purpose ?\n",
        "1. touch\n",
        "2. vim\n",
        "3. chmod\n",
        "4. ./"
      ],
      "metadata": {
        "id": "4biU-spW-pbo"
      }
    }
  ]
}