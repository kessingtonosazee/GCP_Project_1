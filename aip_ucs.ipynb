{
  "nbformat": 4,
  "nbformat_minor": 0,
  "metadata": {
    "colab": {
      "provenance": [],
      "authorship_tag": "ABX9TyPfahaq8umpkxdfVxChXXFI",
      "include_colab_link": true
    },
    "kernelspec": {
      "name": "python3",
      "display_name": "Python 3"
    },
    "language_info": {
      "name": "python"
    }
  },
  "cells": [
    {
      "cell_type": "markdown",
      "metadata": {
        "id": "view-in-github",
        "colab_type": "text"
      },
      "source": [
        "<a href=\"https://colab.research.google.com/github/kessingtonosazee/GCP_Project_1/blob/master/aip_ucs.ipynb\" target=\"_parent\"><img src=\"https://colab.research.google.com/assets/colab-badge.svg\" alt=\"Open In Colab\"/></a>"
      ]
    },
    {
      "cell_type": "code",
      "execution_count": null,
      "metadata": {
        "id": "HwWN18x8yXlD"
      },
      "outputs": [],
      "source": [
        "class UCS {\n",
        "    // Define a class named UCS\n",
        "    solve(start, target, grid) {\n",
        "        // Define a method named solve within the UCS class, which takes start, target, and grid as parameters.\n",
        "\n",
        "        const animationOrder = [];\n",
        "        // Initialize an empty array named animationOrder to store the order of visited cells for animation.\n",
        "\n",
        "        const queue = [[start, [start], 0]];\n",
        "        // Initialize a queue with the first element being an array containing start position, path, and cost.\n",
        "\n",
        "        while (queue.length) {\n",
        "            // Start a while loop that continues as long as the queue is not empty.\n",
        "\n",
        "            const [current, path, cost] = queue.shift();\n",
        "            // Dequeue the first element from the queue and assign its components to variables current, path, and cost.\n",
        "\n",
        "            if (current.x === target.x && current.y === target.y) {\n",
        "                // Check if the current position is equal to the target position.\n",
        "                return [animationOrder, path];\n",
        "                // If true, return an array containing the animationOrder and the final path.\n",
        "            }\n",
        "\n",
        "            current.neighbours(grid)\n",
        "                .map((cell, j) => {\n",
        "                    // Call the neighbours method on the current cell, which returns an array of neighboring cells.\n",
        "                    if (!cell.visited) {\n",
        "                        // Check if the neighboring cell has not been visited.\n",
        "                        cell.visited = true;\n",
        "                        // Mark the neighboring cell as visited.\n",
        "                        queue.push([cell, [...path, cell], cost + 1]);\n",
        "                        // Enqueue the neighboring cell along with an updated path and increased cost.\n",
        "                        animationOrder.push(cell);\n",
        "                        // Add the neighboring cell to the animationOrder array.\n",
        "                    }\n",
        "                });\n",
        "\n",
        "            // Sort the costs to cheapest path\n",
        "            queue.sort((a, b) => a[2] - b[2]);\n",
        "            // Sort the elements in the queue based on the cost in ascending order.\n",
        "        }\n",
        "    }\n",
        "}\n"
      ]
    }
  ]
}