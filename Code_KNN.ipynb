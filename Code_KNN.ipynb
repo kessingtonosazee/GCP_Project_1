{
  "nbformat": 4,
  "nbformat_minor": 0,
  "metadata": {
    "colab": {
      "provenance": [],
      "authorship_tag": "ABX9TyOZXq7K12G0OQDVKuKOTHm9",
      "include_colab_link": true
    },
    "kernelspec": {
      "name": "python3",
      "display_name": "Python 3"
    },
    "language_info": {
      "name": "python"
    }
  },
  "cells": [
    {
      "cell_type": "markdown",
      "metadata": {
        "id": "view-in-github",
        "colab_type": "text"
      },
      "source": [
        "<a href=\"https://colab.research.google.com/github/kessingtonosazee/GCP_Project_1/blob/master/Code_KNN.ipynb\" target=\"_parent\"><img src=\"https://colab.research.google.com/assets/colab-badge.svg\" alt=\"Open In Colab\"/></a>"
      ]
    },
    {
      "cell_type": "code",
      "execution_count": 211,
      "metadata": {
        "colab": {
          "base_uri": "https://localhost:8080/"
        },
        "id": "8_Mv9k5zx3Kc",
        "outputId": "ad7ab2a8-33d0-4167-9b5d-61c2907cc2cb"
      },
      "outputs": [
        {
          "output_type": "stream",
          "name": "stdout",
          "text": [
            "Requirement already satisfied: pulp in /usr/local/lib/python3.10/dist-packages (2.7.0)\n"
          ]
        }
      ],
      "source": [
        "# Install packages\n",
        "!pip install pulp\n"
      ]
    },
    {
      "cell_type": "code",
      "source": [
        "# Import Libraries\n",
        "import numpy as np\n",
        "from pulp import LpMaximize, LpMinimize, LpProblem, LpVariable\n"
      ],
      "metadata": {
        "id": "EKyk_B-m0HwZ"
      },
      "execution_count": 245,
      "outputs": []
    },
    {
      "cell_type": "code",
      "source": [
        "# Load data\n",
        "wards = [\"ward1\", \"ward2\", \"ward3\"]\n",
        "max_beds_per_ward = {\"ward1\": 60, \"ward2\": 50, \"ward3\": 50}"
      ],
      "metadata": {
        "id": "DJda8gK80hq8"
      },
      "execution_count": 246,
      "outputs": []
    },
    {
      "cell_type": "code",
      "source": [
        "# Simulate uncertain demand using a normal distribution\n",
        "np.random.seed(42)  # Set seed for reproducibility\n",
        "demand_mean = {\"ward1\": 10, \"ward2\": 10, \"ward3\": 10}\n",
        "demand_std_dev = {\"ward1\": 3, \"ward2\": 2, \"ward3\": 4}\n",
        "demand = {ward: max(0, int(np.random.normal(demand_mean[ward], demand_std_dev[ward]))) for ward in wards}"
      ],
      "metadata": {
        "id": "ARy5UXyI1ADX"
      },
      "execution_count": 247,
      "outputs": []
    },
    {
      "cell_type": "code",
      "source": [
        "# Priority for each ward (you can adjust these values)\n",
        "# ward_priority = {\"ward1\": 2, \"ward2\": 1, \"ward3\": 3}"
      ],
      "metadata": {
        "id": "7smt0O381_0I"
      },
      "execution_count": 215,
      "outputs": []
    },
    {
      "cell_type": "code",
      "source": [
        "# Real-time bed availability\n",
        "real_time_availability = {\"ward1\": 40, \"ward2\":30, \"ward3\": 30}  # Replace with actual real-time data\n"
      ],
      "metadata": {
        "id": "KiL7K3Kn2Niz"
      },
      "execution_count": 248,
      "outputs": []
    },
    {
      "cell_type": "code",
      "source": [
        "# Priority as a function of demand and availability\n",
        "# def ward_priority(ward):\n",
        "#     # Define your priority function here\n",
        "#     # This is a simple example; you should tailor it to your specific needs\n",
        "#     # In this example, priority is higher when demand is higher and availability is lower\n",
        "#     return demand[ward]  # Adding 1 to avoid division by zero\n",
        "\n",
        "def ward_priority(ward):\n",
        "    # Define custom weights based on specific criteria\n",
        "    weights = {\"ward1\": 1.0, \"ward2\": 0.5, \"ward3\": 0.2}\n",
        "    return weights[ward]\n"
      ],
      "metadata": {
        "id": "YSPIUZoTDsrJ"
      },
      "execution_count": 249,
      "outputs": []
    },
    {
      "cell_type": "code",
      "source": [
        "# Create a linear programming problem\n",
        "model = LpProblem(name=\"Healthcare_Bed_Mininmum_Allocation\", sense=LpMinimize)"
      ],
      "metadata": {
        "id": "Vpej3evU2fJS"
      },
      "execution_count": 252,
      "outputs": []
    },
    {
      "cell_type": "code",
      "source": [
        "# Decision Variables: Number of beds assigned to each ward\n",
        "beds = {ward: LpVariable(name=f\"{ward}_beds\", lowBound=0, cat=\"Integer\") for ward in wards}"
      ],
      "metadata": {
        "id": "NrU9Y42s2sim"
      },
      "execution_count": 253,
      "outputs": []
    },
    {
      "cell_type": "code",
      "source": [
        "# Objective Function: Maximize the total weighted number of beds\n",
        "model += sum(ward_priority(ward) * beds[ward] for ward in wards), \"Total_Weighted_Beds\""
      ],
      "metadata": {
        "id": "0jV-I5av3t3K"
      },
      "execution_count": 254,
      "outputs": []
    },
    {
      "cell_type": "code",
      "source": [
        "# Constraints: Demand must be met for each ward, and the number of beds cannot exceed the maximum for each ward\n",
        "for ward in wards:\n",
        "    model += beds[ward] >= demand[ward], f\"Ward_Demand_{ward}\"\n",
        "    model += beds[ward] <= max_beds_per_ward[ward], f\"Max_Bed_{ward}\"\n",
        "    model += beds[ward] <= real_time_availability[ward], f\"Real_Time_Availability_{ward}\"\n"
      ],
      "metadata": {
        "id": "HVHO6KUX4Wq1"
      },
      "execution_count": 255,
      "outputs": []
    },
    {
      "cell_type": "code",
      "source": [
        "# Solve the linear programming problem\n",
        "model.solve()"
      ],
      "metadata": {
        "colab": {
          "base_uri": "https://localhost:8080/"
        },
        "id": "bP3zxGBH8rzb",
        "outputId": "a095fbbe-8f28-4766-c03a-9946e67dea74"
      },
      "execution_count": 256,
      "outputs": [
        {
          "output_type": "execute_result",
          "data": {
            "text/plain": [
              "1"
            ]
          },
          "metadata": {},
          "execution_count": 256
        }
      ]
    },
    {
      "cell_type": "code",
      "source": [
        "# Display the results\n",
        "if model.status == 1:  # Optimal solution found\n",
        "    for ward in wards:\n",
        "        print(f\"Minimum number of beds for {ward}: {beds[ward].varValue}\")\n",
        "else:\n",
        "    print(\"No optimal solution found.\")\n",
        ""
      ],
      "metadata": {
        "colab": {
          "base_uri": "https://localhost:8080/"
        },
        "id": "JvJt4POw1a_i",
        "outputId": "991f10ef-6bf1-465d-b62b-16afe83248f6"
      },
      "execution_count": 257,
      "outputs": [
        {
          "output_type": "stream",
          "name": "stdout",
          "text": [
            "Minimum number of beds for ward1: 11.0\n",
            "Minimum number of beds for ward2: 9.0\n",
            "Minimum number of beds for ward3: 12.0\n"
          ]
        }
      ]
    },
    {
      "cell_type": "code",
      "source": [],
      "metadata": {
        "id": "MX9ayXsWYFbc"
      },
      "execution_count": null,
      "outputs": []
    }
  ]
}