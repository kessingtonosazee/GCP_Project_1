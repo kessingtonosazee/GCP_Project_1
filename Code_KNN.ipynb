{
  "nbformat": 4,
  "nbformat_minor": 0,
  "metadata": {
    "colab": {
      "provenance": [],
      "authorship_tag": "ABX9TyNkQYhkro3lEG52kkv0rlW4",
      "include_colab_link": true
    },
    "kernelspec": {
      "name": "python3",
      "display_name": "Python 3"
    },
    "language_info": {
      "name": "python"
    }
  },
  "cells": [
    {
      "cell_type": "markdown",
      "metadata": {
        "id": "view-in-github",
        "colab_type": "text"
      },
      "source": [
        "<a href=\"https://colab.research.google.com/github/kessingtonosazee/GCP_Project_1/blob/master/Code_KNN.ipynb\" target=\"_parent\"><img src=\"https://colab.research.google.com/assets/colab-badge.svg\" alt=\"Open In Colab\"/></a>"
      ]
    },
    {
      "cell_type": "code",
      "execution_count": 66,
      "metadata": {
        "colab": {
          "base_uri": "https://localhost:8080/"
        },
        "id": "8_Mv9k5zx3Kc",
        "outputId": "b442e036-ca61-484e-e0c4-affa5d530296"
      },
      "outputs": [
        {
          "output_type": "stream",
          "name": "stdout",
          "text": [
            "Requirement already satisfied: pulp in /usr/local/lib/python3.10/dist-packages (2.7.0)\n"
          ]
        }
      ],
      "source": [
        "# Install packages\n",
        "!pip install pulp\n",
        "import math\n"
      ]
    },
    {
      "cell_type": "code",
      "source": [
        "# Import Libraries\n",
        "import numpy as np\n",
        "from pulp import LpMaximize, LpMinimize, LpProblem, LpVariable, lpSum\n"
      ],
      "metadata": {
        "id": "EKyk_B-m0HwZ"
      },
      "execution_count": 73,
      "outputs": []
    },
    {
      "cell_type": "code",
      "source": [
        "# Load data\n",
        "wards = [\"ward1\", \"ward2\", \"ward3\", \"ward4\", \"ward5\", \"ward6\", \"ward7\", \"ward8\", \"ward9\", \"ward10\"]\n",
        "max_beds_per_ward = {\"ward1\": 15, \"ward2\": 10, \"ward3\": 10, \"ward4\": 15, \"ward5\": 10, \"ward6\": 10, \"ward7\": 10, \"ward8\": 15, \"ward9\":10 , \"ward10\": 15}"
      ],
      "metadata": {
        "id": "DJda8gK80hq8"
      },
      "execution_count": 54,
      "outputs": []
    },
    {
      "cell_type": "code",
      "source": [
        "\n",
        "\n",
        "# Assigning priority\n",
        "def priority_levels(ward):\n",
        "    # Define custom weights based on specific criteria\n",
        "    weights = {\"ward1\":1.0,\"ward2\":0.5,\"ward3\":0.2,\"ward4\":0.5,\"ward5\":0.2,\"ward6\":0.2,\"ward7\":0.2,\"ward8\":0.5,\"ward9\":0.2,\"ward10\":0.5}\n",
        "    return weights[ward]\n"
      ],
      "metadata": {
        "id": "oIpQ9aHyIJBS"
      },
      "execution_count": 69,
      "outputs": []
    },
    {
      "cell_type": "code",
      "source": [
        "# Simulate uncertain demand using a normal distribution\n",
        "np.random.seed(42)  # Set seed for reproducibility\n",
        "demand_mean = {\"ward1\": 10, \"ward2\": 5, \"ward3\": 5, \"ward4\": 10, \"ward5\": 5, \"ward6\": 5, \"ward7\": 4, \"ward8\": 10, \"ward9\": 5, \"ward10\": 10}\n",
        "demand_std_dev = {\"ward1\": 3, \"ward2\": 2, \"ward3\": 1, \"ward4\": 3, \"ward5\":2 , \"ward6\": 1, \"ward7\": 2, \"ward8\": 2, \"ward9\": 2, \"ward10\": 3}\n",
        "demand = {ward: max(0, int(math.ceil(np.random.normal(demand_mean[ward], demand_std_dev[ward])* priority_levels(ward)))) for ward in wards}"
      ],
      "metadata": {
        "id": "ARy5UXyI1ADX"
      },
      "execution_count": 70,
      "outputs": []
    },
    {
      "cell_type": "code",
      "source": [
        "demand"
      ],
      "metadata": {
        "colab": {
          "base_uri": "https://localhost:8080/"
        },
        "id": "hu0-8zKG4f-A",
        "outputId": "b75af3f8-122c-4678-d1b9-674053faf203"
      },
      "execution_count": 71,
      "outputs": [
        {
          "output_type": "execute_result",
          "data": {
            "text/plain": [
              "{'ward1': 12,\n",
              " 'ward2': 3,\n",
              " 'ward3': 2,\n",
              " 'ward4': 8,\n",
              " 'ward5': 1,\n",
              " 'ward6': 1,\n",
              " 'ward7': 2,\n",
              " 'ward8': 6,\n",
              " 'ward9': 1,\n",
              " 'ward10': 6}"
            ]
          },
          "metadata": {},
          "execution_count": 71
        }
      ]
    },
    {
      "cell_type": "code",
      "source": [
        "# Priority for each ward (you can adjust these values)\n",
        "# ward_priority = {\"ward1\": 2, \"ward2\": 1, \"ward3\": 3}"
      ],
      "metadata": {
        "id": "7smt0O381_0I"
      },
      "execution_count": 74,
      "outputs": []
    },
    {
      "cell_type": "code",
      "source": [
        "# Real-time bed availability\n",
        "real_time_availability = {\"ward1\":12,\"ward2\":8,\"ward3\":7 ,\"ward4\":15 ,\"ward5\":7 ,\"ward6\":5,\"ward7\":10, \"ward8\":12, \"ward9\":6, \"ward10\":12}\n"
      ],
      "metadata": {
        "id": "KiL7K3Kn2Niz"
      },
      "execution_count": 75,
      "outputs": []
    },
    {
      "cell_type": "code",
      "source": [
        "# Create a linear programming problem\n",
        "model_min = LpProblem(name=\"Healthcare_Bed_Minimum_Allocation\", sense=LpMinimize)"
      ],
      "metadata": {
        "id": "Vpej3evU2fJS"
      },
      "execution_count": 97,
      "outputs": []
    },
    {
      "cell_type": "code",
      "source": [
        "# Decision Variables: Number of beds assigned to each ward\n",
        "beds = {ward: LpVariable(name=f\"{ward}_beds\", lowBound=0, cat=\"Integer\") for ward in wards}"
      ],
      "metadata": {
        "id": "NrU9Y42s2sim"
      },
      "execution_count": 98,
      "outputs": []
    },
    {
      "cell_type": "code",
      "source": [
        "# Objective Function: Minimize the total weighted number of beds\n",
        "model_min += lpSum(priority_levels(ward) * beds[ward] for ward in wards), \"Total_Weighted_Beds\""
      ],
      "metadata": {
        "id": "0jV-I5av3t3K"
      },
      "execution_count": 100,
      "outputs": []
    },
    {
      "cell_type": "code",
      "source": [
        "# Constraints: Demand must be met for each ward, and the number of beds cannot exceed the maximum for each ward\n",
        "for ward in wards:\n",
        "    model_min += beds[ward] >= demand[ward], f\"Ward_Demand_{ward}\"\n",
        "    model_min += beds[ward] <= max_beds_per_ward[ward], f\"Max_Bed_{ward}\"\n",
        "    model_min += beds[ward] <= real_time_availability[ward], f\"Real_Time_Availability_{ward}\"\n"
      ],
      "metadata": {
        "id": "HVHO6KUX4Wq1"
      },
      "execution_count": 101,
      "outputs": []
    },
    {
      "cell_type": "code",
      "source": [
        "# Solve the linear programming problem\n",
        "model_min.solve()"
      ],
      "metadata": {
        "colab": {
          "base_uri": "https://localhost:8080/"
        },
        "id": "bP3zxGBH8rzb",
        "outputId": "9135f086-2d85-4633-89d0-33e01f381c46"
      },
      "execution_count": 102,
      "outputs": [
        {
          "output_type": "execute_result",
          "data": {
            "text/plain": [
              "1"
            ]
          },
          "metadata": {},
          "execution_count": 102
        }
      ]
    },
    {
      "cell_type": "code",
      "source": [
        "# Display the results\n",
        "if model_min.status == 1:  # Optimal solution found\n",
        "    for ward in wards:\n",
        "        print(f\"Minimum number of beds for {ward}: {beds[ward].varValue}\")\n",
        "else:\n",
        "    print(\"No optimal solution found.\")\n"
      ],
      "metadata": {
        "colab": {
          "base_uri": "https://localhost:8080/"
        },
        "id": "JvJt4POw1a_i",
        "outputId": "5ea9c6cd-e0f5-48a3-ee71-ef1cccbd8afa"
      },
      "execution_count": 103,
      "outputs": [
        {
          "output_type": "stream",
          "name": "stdout",
          "text": [
            "Minimum number of beds for ward1: 12.0\n",
            "Minimum number of beds for ward2: 3.0\n",
            "Minimum number of beds for ward3: 2.0\n",
            "Minimum number of beds for ward4: 8.0\n",
            "Minimum number of beds for ward5: 1.0\n",
            "Minimum number of beds for ward6: 1.0\n",
            "Minimum number of beds for ward7: 2.0\n",
            "Minimum number of beds for ward8: 6.0\n",
            "Minimum number of beds for ward9: 1.0\n",
            "Minimum number of beds for ward10: 6.0\n"
          ]
        }
      ]
    },
    {
      "cell_type": "code",
      "source": [
        "# Create a linear programming problem for maximization\n",
        "model_max = LpProblem(name=\"Healthcare_Bed_Maximum_Allocation\", sense=LpMaximize)"
      ],
      "metadata": {
        "id": "MX9ayXsWYFbc"
      },
      "execution_count": 91,
      "outputs": []
    },
    {
      "cell_type": "code",
      "source": [
        "# Objective Function: Maximize the total weighted number of beds\n",
        "model_max += lpSum(priority_levels(ward) * beds[ward] for ward in wards), \"Total_Weighted_Beds\""
      ],
      "metadata": {
        "id": "OvD2L7zpXcLU"
      },
      "execution_count": 92,
      "outputs": []
    },
    {
      "cell_type": "code",
      "source": [
        "# Constraints: Demand must be met for each ward, and the number of beds cannot exceed the maximum for each ward\n",
        "for ward in wards:\n",
        "    model_max += beds[ward] >= demand[ward], f\"Ward_Demand_{ward}\"\n",
        "    model_max += beds[ward] <= max_beds_per_ward[ward], f\"Max_Bed_{ward}\"\n",
        "    model_max += beds[ward] <= real_time_availability[ward], f\"Real_Time_Availability_{ward}\""
      ],
      "metadata": {
        "id": "uuGnMnBlXsEn"
      },
      "execution_count": 93,
      "outputs": []
    },
    {
      "cell_type": "code",
      "source": [
        "# Solve the linear programming problem\n",
        "model_max.solve()"
      ],
      "metadata": {
        "colab": {
          "base_uri": "https://localhost:8080/"
        },
        "id": "QPnO3SFYX7xG",
        "outputId": "09897c34-45b1-4ed7-a082-1a90996218e4"
      },
      "execution_count": 94,
      "outputs": [
        {
          "output_type": "execute_result",
          "data": {
            "text/plain": [
              "1"
            ]
          },
          "metadata": {},
          "execution_count": 94
        }
      ]
    },
    {
      "cell_type": "code",
      "source": [
        "# Display the results\n",
        "if model_max.status == 1:  # Optimal solution found\n",
        "    for ward in wards:\n",
        "        print(f\"Maximum number of beds for {ward}: {beds[ward].varValue}\")\n",
        "else:\n",
        "    print(\"No optimal solution found.\")\n"
      ],
      "metadata": {
        "colab": {
          "base_uri": "https://localhost:8080/"
        },
        "id": "kpXotxqqYEIj",
        "outputId": "c1878687-a461-4319-b9d0-19105a8fb0ee"
      },
      "execution_count": 96,
      "outputs": [
        {
          "output_type": "stream",
          "name": "stdout",
          "text": [
            "Maximum number of beds for ward1: 12.0\n",
            "Maximum number of beds for ward2: 8.0\n",
            "Maximum number of beds for ward3: 7.0\n",
            "Maximum number of beds for ward4: 15.0\n",
            "Maximum number of beds for ward5: 7.0\n",
            "Maximum number of beds for ward6: 5.0\n",
            "Maximum number of beds for ward7: 10.0\n",
            "Maximum number of beds for ward8: 12.0\n",
            "Maximum number of beds for ward9: 6.0\n",
            "Maximum number of beds for ward10: 12.0\n"
          ]
        }
      ]
    }
  ]
}