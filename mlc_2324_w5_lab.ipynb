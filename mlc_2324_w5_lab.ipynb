{
  "nbformat": 4,
  "nbformat_minor": 0,
  "metadata": {
    "colab": {
      "provenance": [],
      "include_colab_link": true
    },
    "kernelspec": {
      "name": "python3",
      "display_name": "Python 3"
    },
    "language_info": {
      "name": "python"
    }
  },
  "cells": [
    {
      "cell_type": "markdown",
      "metadata": {
        "id": "view-in-github",
        "colab_type": "text"
      },
      "source": [
        "<a href=\"https://colab.research.google.com/github/kessingtonosazee/GCP_Project_1/blob/master/mlc_2324_w5_lab.ipynb\" target=\"_parent\"><img src=\"https://colab.research.google.com/assets/colab-badge.svg\" alt=\"Open In Colab\"/></a>"
      ]
    },
    {
      "cell_type": "markdown",
      "metadata": {
        "id": "c063f326"
      },
      "source": [
        "# Lab Exercise: Cross Validation, Grid Search, Classification\n",
        "\n",
        "* Machine Learning Concepts (MLC)\n",
        "* Week 5, 2023/24\n",
        "* Luciano Gerber"
      ]
    },
    {
      "cell_type": "markdown",
      "metadata": {
        "id": "KH2ZbplREP3r"
      },
      "source": [
        "## Preamble: Importing and Configuring Essential Packages\n"
      ]
    },
    {
      "cell_type": "code",
      "execution_count": 30,
      "metadata": {
        "id": "20Z59KIbEP3s"
      },
      "outputs": [],
      "source": [
        "%matplotlib inline\n",
        "import numpy as np\n",
        "import pandas as pd\n",
        "import matplotlib.pyplot as plt\n",
        "import seaborn as sns\n",
        "sns.set(\n",
        "    { \"figure.figsize\": (6, 4) },\n",
        "    style='ticks',\n",
        "    color_codes=True,\n",
        "    font_scale=0.8\n",
        ")\n",
        "%config InlineBackend.figure_format = 'retina'\n",
        "import warnings\n",
        "warnings.filterwarnings('ignore')\n",
        "\n",
        "from sklearn.model_selection import train_test_split\n",
        "from sklearn.tree import DecisionTreeClassifier\n",
        "from sklearn.tree import export_text\n",
        "\n",
        "from sklearn.metrics import balanced_accuracy_score\n",
        "from sklearn.metrics import confusion_matrix, ConfusionMatrixDisplay\n",
        "\n",
        "import sys\n",
        "if 'google.colab' in sys.modules:\n",
        "    !pip install -q dtreeviz\n",
        "import dtreeviz"
      ]
    },
    {
      "cell_type": "markdown",
      "metadata": {
        "id": "f09bb33a"
      },
      "source": [
        "## Use Case: Titanic Dataset"
      ]
    },
    {
      "cell_type": "code",
      "execution_count": 31,
      "metadata": {
        "id": "5d13b65c"
      },
      "outputs": [],
      "source": [
        "# documentation can be found here: https://www.kaggle.com/competitions/titanic/data\n",
        "titanic = pd.read_csv('https://raw.githubusercontent.com/gerberl/6G7V0015-2324/main/datasets/titanic.csv')"
      ]
    },
    {
      "cell_type": "code",
      "execution_count": 32,
      "metadata": {
        "colab": {
          "base_uri": "https://localhost:8080/",
          "height": 81
        },
        "id": "427faeba",
        "outputId": "95ce3d78-af62-43e9-9bfa-d3ac00d67ed4"
      },
      "outputs": [
        {
          "output_type": "execute_result",
          "data": {
            "text/plain": [
              "   PassengerId  Survived  Pclass                     Name   Sex   Age  SibSp  \\\n",
              "0            1         0       3  Braund, Mr. Owen Harris  male  22.0      1   \n",
              "\n",
              "   Parch     Ticket  Fare Cabin Embarked  \n",
              "0      0  A/5 21171  7.25   NaN        S  "
            ],
            "text/html": [
              "\n",
              "  <div id=\"df-856f1497-714d-4951-a208-c91149689532\" class=\"colab-df-container\">\n",
              "    <div>\n",
              "<style scoped>\n",
              "    .dataframe tbody tr th:only-of-type {\n",
              "        vertical-align: middle;\n",
              "    }\n",
              "\n",
              "    .dataframe tbody tr th {\n",
              "        vertical-align: top;\n",
              "    }\n",
              "\n",
              "    .dataframe thead th {\n",
              "        text-align: right;\n",
              "    }\n",
              "</style>\n",
              "<table border=\"1\" class=\"dataframe\">\n",
              "  <thead>\n",
              "    <tr style=\"text-align: right;\">\n",
              "      <th></th>\n",
              "      <th>PassengerId</th>\n",
              "      <th>Survived</th>\n",
              "      <th>Pclass</th>\n",
              "      <th>Name</th>\n",
              "      <th>Sex</th>\n",
              "      <th>Age</th>\n",
              "      <th>SibSp</th>\n",
              "      <th>Parch</th>\n",
              "      <th>Ticket</th>\n",
              "      <th>Fare</th>\n",
              "      <th>Cabin</th>\n",
              "      <th>Embarked</th>\n",
              "    </tr>\n",
              "  </thead>\n",
              "  <tbody>\n",
              "    <tr>\n",
              "      <th>0</th>\n",
              "      <td>1</td>\n",
              "      <td>0</td>\n",
              "      <td>3</td>\n",
              "      <td>Braund, Mr. Owen Harris</td>\n",
              "      <td>male</td>\n",
              "      <td>22.0</td>\n",
              "      <td>1</td>\n",
              "      <td>0</td>\n",
              "      <td>A/5 21171</td>\n",
              "      <td>7.25</td>\n",
              "      <td>NaN</td>\n",
              "      <td>S</td>\n",
              "    </tr>\n",
              "  </tbody>\n",
              "</table>\n",
              "</div>\n",
              "    <div class=\"colab-df-buttons\">\n",
              "\n",
              "  <div class=\"colab-df-container\">\n",
              "    <button class=\"colab-df-convert\" onclick=\"convertToInteractive('df-856f1497-714d-4951-a208-c91149689532')\"\n",
              "            title=\"Convert this dataframe to an interactive table.\"\n",
              "            style=\"display:none;\">\n",
              "\n",
              "  <svg xmlns=\"http://www.w3.org/2000/svg\" height=\"24px\" viewBox=\"0 -960 960 960\">\n",
              "    <path d=\"M120-120v-720h720v720H120Zm60-500h600v-160H180v160Zm220 220h160v-160H400v160Zm0 220h160v-160H400v160ZM180-400h160v-160H180v160Zm440 0h160v-160H620v160ZM180-180h160v-160H180v160Zm440 0h160v-160H620v160Z\"/>\n",
              "  </svg>\n",
              "    </button>\n",
              "\n",
              "  <style>\n",
              "    .colab-df-container {\n",
              "      display:flex;\n",
              "      gap: 12px;\n",
              "    }\n",
              "\n",
              "    .colab-df-convert {\n",
              "      background-color: #E8F0FE;\n",
              "      border: none;\n",
              "      border-radius: 50%;\n",
              "      cursor: pointer;\n",
              "      display: none;\n",
              "      fill: #1967D2;\n",
              "      height: 32px;\n",
              "      padding: 0 0 0 0;\n",
              "      width: 32px;\n",
              "    }\n",
              "\n",
              "    .colab-df-convert:hover {\n",
              "      background-color: #E2EBFA;\n",
              "      box-shadow: 0px 1px 2px rgba(60, 64, 67, 0.3), 0px 1px 3px 1px rgba(60, 64, 67, 0.15);\n",
              "      fill: #174EA6;\n",
              "    }\n",
              "\n",
              "    .colab-df-buttons div {\n",
              "      margin-bottom: 4px;\n",
              "    }\n",
              "\n",
              "    [theme=dark] .colab-df-convert {\n",
              "      background-color: #3B4455;\n",
              "      fill: #D2E3FC;\n",
              "    }\n",
              "\n",
              "    [theme=dark] .colab-df-convert:hover {\n",
              "      background-color: #434B5C;\n",
              "      box-shadow: 0px 1px 3px 1px rgba(0, 0, 0, 0.15);\n",
              "      filter: drop-shadow(0px 1px 2px rgba(0, 0, 0, 0.3));\n",
              "      fill: #FFFFFF;\n",
              "    }\n",
              "  </style>\n",
              "\n",
              "    <script>\n",
              "      const buttonEl =\n",
              "        document.querySelector('#df-856f1497-714d-4951-a208-c91149689532 button.colab-df-convert');\n",
              "      buttonEl.style.display =\n",
              "        google.colab.kernel.accessAllowed ? 'block' : 'none';\n",
              "\n",
              "      async function convertToInteractive(key) {\n",
              "        const element = document.querySelector('#df-856f1497-714d-4951-a208-c91149689532');\n",
              "        const dataTable =\n",
              "          await google.colab.kernel.invokeFunction('convertToInteractive',\n",
              "                                                    [key], {});\n",
              "        if (!dataTable) return;\n",
              "\n",
              "        const docLinkHtml = 'Like what you see? Visit the ' +\n",
              "          '<a target=\"_blank\" href=https://colab.research.google.com/notebooks/data_table.ipynb>data table notebook</a>'\n",
              "          + ' to learn more about interactive tables.';\n",
              "        element.innerHTML = '';\n",
              "        dataTable['output_type'] = 'display_data';\n",
              "        await google.colab.output.renderOutput(dataTable, element);\n",
              "        const docLink = document.createElement('div');\n",
              "        docLink.innerHTML = docLinkHtml;\n",
              "        element.appendChild(docLink);\n",
              "      }\n",
              "    </script>\n",
              "  </div>\n",
              "\n",
              "    </div>\n",
              "  </div>\n"
            ]
          },
          "metadata": {},
          "execution_count": 32
        }
      ],
      "source": [
        "titanic.head(1)"
      ]
    },
    {
      "cell_type": "code",
      "source": [
        "titanic['Sex'].value_counts()"
      ],
      "metadata": {
        "colab": {
          "base_uri": "https://localhost:8080/"
        },
        "id": "SlxKBlrKFt4B",
        "outputId": "bcc27131-9392-4082-a86b-630929e2cf4b"
      },
      "execution_count": 33,
      "outputs": [
        {
          "output_type": "execute_result",
          "data": {
            "text/plain": [
              "male      577\n",
              "female    314\n",
              "Name: Sex, dtype: int64"
            ]
          },
          "metadata": {},
          "execution_count": 33
        }
      ]
    },
    {
      "cell_type": "markdown",
      "metadata": {
        "id": "66ad68a9"
      },
      "source": [
        "## Pre-Processing"
      ]
    },
    {
      "cell_type": "code",
      "source": [
        "# I'll make it possible for us to use `Sex` in our machine learning but\n",
        "# mapping into a numeric feature using a simple strategy\n",
        "tic = titanic.copy(deep=True)\n",
        "tic['Sex'] = tic['Sex'].map({ 'male': 0, 'female': 1, np.NaN: 0} )\n",
        "# Why not aggregate the number of people one travelled with?\n",
        "tic['Companions'] = tic['SibSp'] + tic['Parch']\n",
        "# remove categorical features (with string values) and other non-informative\n",
        "# features\n",
        "tic = tic[ ['Survived', 'Age', 'Sex', 'Pclass', 'Fare', 'Companions']]\n",
        "# fill in missing values with the simplest strategy so as not to break the ML\n",
        "tic = tic.fillna(tic.mean())"
      ],
      "metadata": {
        "id": "mtRtQv7WErFt"
      },
      "execution_count": 34,
      "outputs": []
    },
    {
      "cell_type": "code",
      "execution_count": 35,
      "metadata": {
        "id": "12b927eb"
      },
      "outputs": [],
      "source": [
        "X, y = tic.drop(columns='Survived'), tic['Survived']"
      ]
    },
    {
      "cell_type": "code",
      "execution_count": 36,
      "metadata": {
        "id": "5b1f7be0"
      },
      "outputs": [],
      "source": [
        "X_train, X_test, y_train, y_test = train_test_split(X, y, random_state=0)"
      ]
    },
    {
      "cell_type": "markdown",
      "metadata": {
        "id": "73075169"
      },
      "source": [
        "## A First Decision Tree for Illustration"
      ]
    },
    {
      "cell_type": "code",
      "execution_count": 37,
      "metadata": {
        "colab": {
          "base_uri": "https://localhost:8080/",
          "height": 405
        },
        "id": "3003a58d",
        "outputId": "70aaf49d-b71b-4cfc-ce8c-03501b937f61"
      },
      "outputs": [
        {
          "output_type": "stream",
          "name": "stdout",
          "text": [
            "0.7847891851011533 0.77068345323741\n"
          ]
        },
        {
          "output_type": "display_data",
          "data": {
            "text/plain": [
              "<Figure size 600x400 with 2 Axes>"
            ],
            "image/png": "[encoded data removed]"
          },
          "metadata": {
            "image/png": {
              "width": 436,
              "height": 371
            }
          }
        }
      ],
      "source": [
        "dt = DecisionTreeClassifier(max_depth=2)\n",
        "dt.fit(X_train, y_train)\n",
        "print(\n",
        "    balanced_accuracy_score(y_train, dt.predict(X_train)),\n",
        "    balanced_accuracy_score(y_test, dt.predict(X_test))\n",
        ")\n",
        "ConfusionMatrixDisplay(\n",
        "    confusion_matrix=confusion_matrix(y_test, dt.predict(X_test), normalize='true')\n",
        ").plot();"
      ]
    },
    {
      "cell_type": "code",
      "source": [
        "print(\n",
        "    export_text(dt, feature_names=X.columns.to_list())\n",
        ")\n",
        "dtviz = dtreeviz.model(\n",
        "    dt, X, y, target_name='Survived', feature_names=X.columns,\n",
        "    class_names=[\"No\", \"Yes\"]\n",
        ")\n",
        "dtviz.view(scale=1.5, fontname='sans-serif')"
      ],
      "metadata": {
        "colab": {
          "base_uri": "https://localhost:8080/",
          "height": 655
        },
        "id": "SoTaXArDHwpr",
        "outputId": "481714fc-ca65-4835-9344-0cc51c8279eb"
      },
      "execution_count": 38,
      "outputs": [
        {
          "output_type": "stream",
          "name": "stdout",
          "text": [
            "|--- Sex <= 0.50\n",
            "|   |--- Age <= 14.00\n",
            "|   |   |--- class: 1\n",
            "|   |--- Age >  14.00\n",
            "|   |   |--- class: 0\n",
            "|--- Sex >  0.50\n",
            "|   |--- Pclass <= 2.50\n",
            "|   |   |--- class: 1\n",
            "|   |--- Pclass >  2.50\n",
            "|   |   |--- class: 1\n",
            "\n"
          ]
        },
        {
          "output_type": "execute_result",
          "data": {
            "text/plain": [
              "<dtreeviz.utils.DTreeVizRender at 0x7ccf30ea6c50>"
            ],
            "image/svg+xml": "<svg xmlns=\"http://www.w3.org/2000/svg\" xmlns:dc=\"http://purl.org/dc/elements/1.1/\" xmlns:ns2=\"http://creativecommons.org/ns#\" xmlns:rdf=\"http://www.w3.org/1999/02/22-rdf-syntax-ns#\" xmlns:xlink=\"http://www.w3.org/1999/xlink\" width=\"519.0\" height=\"442.5\" viewBox=\"0.0 0.0 519.0 442.5\">\n<g id=\"graph0\" class=\"graph\" transform=\"scale(1.5 1.5) rotate(0) translate(4 291)\">\n<title>G</title>\n<polygon fill=\"white\" stroke=\"transparent\" points=\"-4,4 -4,-291 342,-291 342,4 -4,4\" />\n<g id=\"clust4\" class=\"cluster\">\n<title>cluster_legend</title>\n</g>\n\n<g id=\"node1\" class=\"node\">\n<title>node1</title>\n<svg width=\"154px\" height=\"51px\" viewBox=\"0 0 206.41 68.563523\" version=\"1.1\" preserveAspectRatio=\"xMinYMin meet\" x=\"4\" y=\"-155.5\">\n <metadata>\n  <rdf:RDF>\n   <ns2:Work>\n    <dc:type rdf:resource=\"http://purl.org/dc/dcmitype/StillImage\" />\n    <dc:date>2023-11-02T12:34:42.396749</dc:date>\n    <dc:format>image/svg+xml</dc:format>\n    <dc:creator>\n     <ns2:Agent>\n      <dc:title>Matplotlib v3.7.1, https://matplotlib.org/</dc:title>\n     </ns2:Agent>\n    </dc:creator>\n   </ns2:Work>\n  </rdf:RDF>\n </metadata>\n <defs>\n  <style type=\"text/css\">*{stroke-linejoin: round; stroke-linecap: butt}</style>\n </defs>\n <g id=\"figure_1\">\n  <g id=\"patch_1\">\n   <path d=\"M 0 68.563523  L 206.41 68.563523  L 206.41 0  L 0 0  z \" style=\"fill: #ffffff\" />\n  </g>\n  <g id=\"axes_1\">\n   <g id=\"patch_2\">\n    <path d=\"M 22.27 33.707273  L 206.41 33.707273  L 206.41 1.50598  L 22.27 1.50598  z \" style=\"fill: #ffffff\" />\n   </g>\n   <g id=\"matplotlib.axis_1\">\n    <g id=\"xtick_1\">\n     <g id=\"line2d_1\">\n      <defs>\n       <path id=\"m19b942e160\" d=\"M 0 0  L 0 3.5  \" style=\"stroke: #262626; stroke-width: 0.3\" />\n      </defs>\n      <g>\n       <use xlink:href=\"#m19b942e160\" x=\"38.282174\" y=\"33.707273\" style=\"fill: #262626; stroke: #262626; stroke-width: 0.3\" />\n      </g>\n     </g>\n     <g id=\"text_1\">\n      \n      <g style=\"fill: #444443\" transform=\"translate(29.375924 51.286023) scale(0.08 -0.08)\">\n       <defs>\n        <path id=\"DejaVuSans-30\" d=\"M 2034 4250  Q 1547 4250 1301 3770  Q 1056 3291 1056 2328  Q 1056 1369 1301 889  Q 1547 409 2034 409  Q 2525 409 2770 889  Q 3016 1369 3016 2328  Q 3016 3291 2770 3770  Q 2525 4250 2034 4250  z M 2034 4750  Q 2819 4750 3233 4129  Q 3647 3509 3647 2328  Q 3647 1150 3233 529  Q 2819 -91 2034 -91  Q 1250 -91 836 529  Q 422 1150 422 2328  Q 422 3509 836 4129  Q 1250 4750 2034 4750  z \" transform=\"scale(0.015625)\" />\n        <path id=\"DejaVuSans-2e\" d=\"M 684 794  L 1344 794  L 1344 0  L 684 0  L 684 794  z \" transform=\"scale(0.015625)\" />\n        <path id=\"DejaVuSans-34\" d=\"M 2419 4116  L 825 1625  L 2419 1625  L 2419 4116  z M 2253 4666  L 3047 4666  L 3047 1625  L 3713 1625  L 3713 1100  L 3047 1100  L 3047 0  L 2419 0  L 2419 1100  L 313 1100  L 313 1709  L 2253 4666  z \" transform=\"scale(0.015625)\" />\n        <path id=\"DejaVuSans-32\" d=\"M 1228 531  L 3431 531  L 3431 0  L 469 0  L 469 531  Q 828 903 1448 1529  Q 2069 2156 2228 2338  Q 2531 2678 2651 2914  Q 2772 3150 2772 3378  Q 2772 3750 2511 3984  Q 2250 4219 1831 4219  Q 1534 4219 1204 4116  Q 875 4013 500 3803  L 500 4441  Q 881 4594 1212 4672  Q 1544 4750 1819 4750  Q 2544 4750 2975 4387  Q 3406 4025 3406 3419  Q 3406 3131 3298 2873  Q 3191 2616 2906 2266  Q 2828 2175 2409 1742  Q 1991 1309 1228 531  z \" transform=\"scale(0.015625)\" />\n       </defs>\n       <use xlink:href=\"#DejaVuSans-30\" />\n       <use xlink:href=\"#DejaVuSans-2e\" x=\"63.623047\" />\n       <use xlink:href=\"#DejaVuSans-34\" x=\"95.410156\" />\n       <use xlink:href=\"#DejaVuSans-32\" x=\"159.033203\" />\n      </g>\n     </g>\n    </g>\n    <g id=\"xtick_2\">\n     <g id=\"line2d_2\">\n      <g>\n       <use xlink:href=\"#m19b942e160\" x=\"64.240085\" y=\"33.707273\" style=\"fill: #262626; stroke: #262626; stroke-width: 0.3\" />\n      </g>\n     </g>\n     <g id=\"text_2\">\n      \n      <g style=\"fill: #444443\" transform=\"translate(52.788835 51.286023) scale(0.08 -0.08)\">\n       <defs>\n        <path id=\"DejaVuSans-31\" d=\"M 794 531  L 1825 531  L 1825 4091  L 703 3866  L 703 4441  L 1819 4666  L 2450 4666  L 2450 531  L 3481 531  L 3481 0  L 794 0  L 794 531  z \" transform=\"scale(0.015625)\" />\n       </defs>\n       <use xlink:href=\"#DejaVuSans-31\" />\n       <use xlink:href=\"#DejaVuSans-34\" x=\"63.623047\" />\n       <use xlink:href=\"#DejaVuSans-2e\" x=\"127.246094\" />\n       <use xlink:href=\"#DejaVuSans-30\" x=\"159.033203\" />\n       <use xlink:href=\"#DejaVuSans-30\" x=\"222.65625\" />\n      </g>\n     </g>\n    </g>\n    <g id=\"xtick_3\">\n     <g id=\"line2d_3\">\n      <g>\n       <use xlink:href=\"#m19b942e160\" x=\"190.397826\" y=\"33.707273\" style=\"fill: #262626; stroke: #262626; stroke-width: 0.3\" />\n      </g>\n     </g>\n     <g id=\"text_3\">\n      \n      <g style=\"fill: #444443\" transform=\"translate(178.946576 51.286023) scale(0.08 -0.08)\">\n       <defs>\n        <path id=\"DejaVuSans-38\" d=\"M 2034 2216  Q 1584 2216 1326 1975  Q 1069 1734 1069 1313  Q 1069 891 1326 650  Q 1584 409 2034 409  Q 2484 409 2743 651  Q 3003 894 3003 1313  Q 3003 1734 2745 1975  Q 2488 2216 2034 2216  z M 1403 2484  Q 997 2584 770 2862  Q 544 3141 544 3541  Q 544 4100 942 4425  Q 1341 4750 2034 4750  Q 2731 4750 3128 4425  Q 3525 4100 3525 3541  Q 3525 3141 3298 2862  Q 3072 2584 2669 2484  Q 3125 2378 3379 2068  Q 3634 1759 3634 1313  Q 3634 634 3220 271  Q 2806 -91 2034 -91  Q 1263 -91 848 271  Q 434 634 434 1313  Q 434 1759 690 2068  Q 947 2378 1403 2484  z M 1172 3481  Q 1172 3119 1398 2916  Q 1625 2713 2034 2713  Q 2441 2713 2670 2916  Q 2900 3119 2900 3481  Q 2900 3844 2670 4047  Q 2441 4250 2034 4250  Q 1625 4250 1398 4047  Q 1172 3844 1172 3481  z \" transform=\"scale(0.015625)\" />\n       </defs>\n       <use xlink:href=\"#DejaVuSans-38\" />\n       <use xlink:href=\"#DejaVuSans-30\" x=\"63.623047\" />\n       <use xlink:href=\"#DejaVuSans-2e\" x=\"127.246094\" />\n       <use xlink:href=\"#DejaVuSans-30\" x=\"159.033203\" />\n       <use xlink:href=\"#DejaVuSans-30\" x=\"222.65625\" />\n      </g>\n     </g>\n    </g>\n    <g id=\"text_4\">\n     \n     <g style=\"fill: #444443\" transform=\"translate(102.734687 66.067898) scale(0.12 -0.12)\">\n      <defs>\n       <path id=\"DejaVuSans-41\" d=\"M 2188 4044  L 1331 1722  L 3047 1722  L 2188 4044  z M 1831 4666  L 2547 4666  L 4325 0  L 3669 0  L 3244 1197  L 1141 1197  L 716 0  L 50 0  L 1831 4666  z \" transform=\"scale(0.015625)\" />\n       <path id=\"DejaVuSans-67\" d=\"M 2906 1791  Q 2906 2416 2648 2759  Q 2391 3103 1925 3103  Q 1463 3103 1205 2759  Q 947 2416 947 1791  Q 947 1169 1205 825  Q 1463 481 1925 481  Q 2391 481 2648 825  Q 2906 1169 2906 1791  z M 3481 434  Q 3481 -459 3084 -895  Q 2688 -1331 1869 -1331  Q 1566 -1331 1297 -1286  Q 1028 -1241 775 -1147  L 775 -588  Q 1028 -725 1275 -790  Q 1522 -856 1778 -856  Q 2344 -856 2625 -561  Q 2906 -266 2906 331  L 2906 616  Q 2728 306 2450 153  Q 2172 0 1784 0  Q 1141 0 747 490  Q 353 981 353 1791  Q 353 2603 747 3093  Q 1141 3584 1784 3584  Q 2172 3584 2450 3431  Q 2728 3278 2906 2969  L 2906 3500  L 3481 3500  L 3481 434  z \" transform=\"scale(0.015625)\" />\n       <path id=\"DejaVuSans-65\" d=\"M 3597 1894  L 3597 1613  L 953 1613  Q 991 1019 1311 708  Q 1631 397 2203 397  Q 2534 397 2845 478  Q 3156 559 3463 722  L 3463 178  Q 3153 47 2828 -22  Q 2503 -91 2169 -91  Q 1331 -91 842 396  Q 353 884 353 1716  Q 353 2575 817 3079  Q 1281 3584 2069 3584  Q 2775 3584 3186 3129  Q 3597 2675 3597 1894  z M 3022 2063  Q 3016 2534 2758 2815  Q 2500 3097 2075 3097  Q 1594 3097 1305 2825  Q 1016 2553 972 2059  L 3022 2063  z \" transform=\"scale(0.015625)\" />\n      </defs>\n      <use xlink:href=\"#DejaVuSans-41\" />\n      <use xlink:href=\"#DejaVuSans-67\" x=\"68.408203\" />\n      <use xlink:href=\"#DejaVuSans-65\" x=\"131.884766\" />\n     </g>\n    </g>\n   </g>\n   <g id=\"matplotlib.axis_2\">\n    <g id=\"ytick_1\">\n     <g id=\"line2d_4\">\n      <defs>\n       <path id=\"mb7102fd5e3\" d=\"M 0 0  L -3.5 0  \" style=\"stroke: #262626; stroke-width: 0.3\" />\n      </defs>\n      <g>\n       <use xlink:href=\"#mb7102fd5e3\" x=\"22.27\" y=\"33.707273\" style=\"fill: #262626; stroke: #262626; stroke-width: 0.3\" />\n      </g>\n     </g>\n     <g id=\"text_5\">\n      \n      <g style=\"fill: #444443\" transform=\"translate(10.18 36.746648) scale(0.08 -0.08)\">\n       <use xlink:href=\"#DejaVuSans-30\" />\n      </g>\n     </g>\n    </g>\n    <g id=\"ytick_2\">\n     <g id=\"line2d_5\">\n      <g>\n       <use xlink:href=\"#mb7102fd5e3\" x=\"22.27\" y=\"3.039375\" style=\"fill: #262626; stroke: #262626; stroke-width: 0.3\" />\n      </g>\n     </g>\n     <g id=\"text_6\">\n      \n      <g style=\"fill: #444443\" transform=\"translate(0 6.07875) scale(0.08 -0.08)\">\n       <use xlink:href=\"#DejaVuSans-31\" />\n       <use xlink:href=\"#DejaVuSans-38\" x=\"63.623047\" />\n       <use xlink:href=\"#DejaVuSans-32\" x=\"127.246094\" />\n      </g>\n     </g>\n    </g>\n   </g>\n   <g id=\"patch_3\">\n    <path d=\"M 38.282174 33.707273  L 46.288261 33.707273  L 46.288261 32.359234  L 38.282174 32.359234  z \" clip-path=\"url(#p0f1f2737d0)\" style=\"fill: #fefebb; stroke: #444443; stroke-width: 0.5; stroke-linejoin: miter\" />\n   </g>\n   <g id=\"patch_4\">\n    <path d=\"M 46.288261 33.707273  L 54.294348 33.707273  L 54.294348 33.201759  L 46.288261 33.201759  z \" clip-path=\"url(#p0f1f2737d0)\" style=\"fill: #fefebb; stroke: #444443; stroke-width: 0.5; stroke-linejoin: miter\" />\n   </g>\n   <g id=\"patch_5\">\n    <path d=\"M 54.294348 33.707273  L 62.300435 33.707273  L 62.300435 32.864749  L 54.294348 32.864749  z \" clip-path=\"url(#p0f1f2737d0)\" style=\"fill: #fefebb; stroke: #444443; stroke-width: 0.5; stroke-linejoin: miter\" />\n   </g>\n   <g id=\"patch_6\">\n    <path d=\"M 62.300435 33.707273  L 70.306522 33.707273  L 70.306522 30.50568  L 62.300435 30.50568  z \" clip-path=\"url(#p0f1f2737d0)\" style=\"fill: #fefebb; stroke: #444443; stroke-width: 0.5; stroke-linejoin: miter\" />\n   </g>\n   <g id=\"patch_7\">\n    <path d=\"M 70.306522 33.707273  L 78.312609 33.707273  L 78.312609 24.439502  L 70.306522 24.439502  z \" clip-path=\"url(#p0f1f2737d0)\" style=\"fill: #fefebb; stroke: #444443; stroke-width: 0.5; stroke-linejoin: miter\" />\n   </g>\n   <g id=\"patch_8\">\n    <path d=\"M 78.312609 33.707273  L 86.318696 33.707273  L 86.318696 24.945017  L 78.312609 24.945017  z \" clip-path=\"url(#p0f1f2737d0)\" style=\"fill: #fefebb; stroke: #444443; stroke-width: 0.5; stroke-linejoin: miter\" />\n   </g>\n   <g id=\"patch_9\">\n    <path d=\"M 86.318696 33.707273  L 94.324783 33.707273  L 94.324783 8.094523  L 86.318696 8.094523  z \" clip-path=\"url(#p0f1f2737d0)\" style=\"fill: #fefebb; stroke: #444443; stroke-width: 0.5; stroke-linejoin: miter\" />\n   </g>\n   <g id=\"patch_10\">\n    <path d=\"M 94.324783 33.707273  L 102.33087 33.707273  L 102.33087 27.135581  L 94.324783 27.135581  z \" clip-path=\"url(#p0f1f2737d0)\" style=\"fill: #fefebb; stroke: #444443; stroke-width: 0.5; stroke-linejoin: miter\" />\n   </g>\n   <g id=\"patch_11\">\n    <path d=\"M 102.33087 33.707273  L 110.336957 33.707273  L 110.336957 27.304086  L 102.33087 27.304086  z \" clip-path=\"url(#p0f1f2737d0)\" style=\"fill: #fefebb; stroke: #444443; stroke-width: 0.5; stroke-linejoin: miter\" />\n   </g>\n   <g id=\"patch_12\">\n    <path d=\"M 110.336957 33.707273  L 118.343043 33.707273  L 118.343043 29.663155  L 110.336957 29.663155  z \" clip-path=\"url(#p0f1f2737d0)\" style=\"fill: #fefebb; stroke: #444443; stroke-width: 0.5; stroke-linejoin: miter\" />\n   </g>\n   <g id=\"patch_13\">\n    <path d=\"M 118.343043 33.707273  L 126.34913 33.707273  L 126.34913 30.842689  L 118.343043 30.842689  z \" clip-path=\"url(#p0f1f2737d0)\" style=\"fill: #fefebb; stroke: #444443; stroke-width: 0.5; stroke-linejoin: miter\" />\n   </g>\n   <g id=\"patch_14\">\n    <path d=\"M 126.34913 33.707273  L 134.355217 33.707273  L 134.355217 31.179699  L 126.34913 31.179699  z \" clip-path=\"url(#p0f1f2737d0)\" style=\"fill: #fefebb; stroke: #444443; stroke-width: 0.5; stroke-linejoin: miter\" />\n   </g>\n   <g id=\"patch_15\">\n    <path d=\"M 134.355217 33.707273  L 142.361304 33.707273  L 142.361304 31.516709  L 134.355217 31.516709  z \" clip-path=\"url(#p0f1f2737d0)\" style=\"fill: #fefebb; stroke: #444443; stroke-width: 0.5; stroke-linejoin: miter\" />\n   </g>\n   <g id=\"patch_16\">\n    <path d=\"M 142.361304 33.707273  L 150.367391 33.707273  L 150.367391 32.190729  L 142.361304 32.190729  z \" clip-path=\"url(#p0f1f2737d0)\" style=\"fill: #fefebb; stroke: #444443; stroke-width: 0.5; stroke-linejoin: miter\" />\n   </g>\n   <g id=\"patch_17\">\n    <path d=\"M 150.367391 33.707273  L 158.373478 33.707273  L 158.373478 32.527739  L 150.367391 32.527739  z \" clip-path=\"url(#p0f1f2737d0)\" style=\"fill: #fefebb; stroke: #444443; stroke-width: 0.5; stroke-linejoin: miter\" />\n   </g>\n   <g id=\"patch_18\">\n    <path d=\"M 158.373478 33.707273  L 166.379565 33.707273  L 166.379565 32.696244  L 158.373478 32.696244  z \" clip-path=\"url(#p0f1f2737d0)\" style=\"fill: #fefebb; stroke: #444443; stroke-width: 0.5; stroke-linejoin: miter\" />\n   </g>\n   <g id=\"patch_19\">\n    <path d=\"M 166.379565 33.707273  L 174.385652 33.707273  L 174.385652 32.864749  L 166.379565 32.864749  z \" clip-path=\"url(#p0f1f2737d0)\" style=\"fill: #fefebb; stroke: #444443; stroke-width: 0.5; stroke-linejoin: miter\" />\n   </g>\n   <g id=\"patch_20\">\n    <path d=\"M 174.385652 33.707273  L 182.391739 33.707273  L 182.391739 33.538768  L 174.385652 33.538768  z \" clip-path=\"url(#p0f1f2737d0)\" style=\"fill: #fefebb; stroke: #444443; stroke-width: 0.5; stroke-linejoin: miter\" />\n   </g>\n   <g id=\"patch_21\">\n    <path d=\"M 182.391739 33.707273  L 190.397826 33.707273  L 190.397826 33.707273  L 182.391739 33.707273  z \" clip-path=\"url(#p0f1f2737d0)\" style=\"fill: #fefebb; stroke: #444443; stroke-width: 0.5; stroke-linejoin: miter\" />\n   </g>\n   <g id=\"patch_22\">\n    <path d=\"M 38.282174 32.359234  L 46.288261 32.359234  L 46.288261 29.83166  L 38.282174 29.83166  z \" clip-path=\"url(#p0f1f2737d0)\" style=\"fill: #a1dab4; stroke: #444443; stroke-width: 0.5; stroke-linejoin: miter\" />\n   </g>\n   <g id=\"patch_23\">\n    <path d=\"M 46.288261 33.201759  L 54.294348 33.201759  L 54.294348 32.864749  L 46.288261 32.864749  z \" clip-path=\"url(#p0f1f2737d0)\" style=\"fill: #a1dab4; stroke: #444443; stroke-width: 0.5; stroke-linejoin: miter\" />\n   </g>\n   <g id=\"patch_24\">\n    <path d=\"M 54.294348 32.864749  L 62.300435 32.864749  L 62.300435 32.190729  L 54.294348 32.190729  z \" clip-path=\"url(#p0f1f2737d0)\" style=\"fill: #a1dab4; stroke: #444443; stroke-width: 0.5; stroke-linejoin: miter\" />\n   </g>\n   <g id=\"patch_25\">\n    <path d=\"M 62.300435 30.50568  L 70.306522 30.50568  L 70.306522 30.16867  L 62.300435 30.16867  z \" clip-path=\"url(#p0f1f2737d0)\" style=\"fill: #a1dab4; stroke: #444443; stroke-width: 0.5; stroke-linejoin: miter\" />\n   </g>\n   <g id=\"patch_26\">\n    <path d=\"M 70.306522 24.439502  L 78.312609 24.439502  L 78.312609 23.259967  L 70.306522 23.259967  z \" clip-path=\"url(#p0f1f2737d0)\" style=\"fill: #a1dab4; stroke: #444443; stroke-width: 0.5; stroke-linejoin: miter\" />\n   </g>\n   <g id=\"patch_27\">\n    <path d=\"M 78.312609 24.945017  L 86.318696 24.945017  L 86.318696 23.765482  L 78.312609 23.765482  z \" clip-path=\"url(#p0f1f2737d0)\" style=\"fill: #a1dab4; stroke: #444443; stroke-width: 0.5; stroke-linejoin: miter\" />\n   </g>\n   <g id=\"patch_28\">\n    <path d=\"M 86.318696 8.094523  L 94.324783 8.094523  L 94.324783 3.039375  L 86.318696 3.039375  z \" clip-path=\"url(#p0f1f2737d0)\" style=\"fill: #a1dab4; stroke: #444443; stroke-width: 0.5; stroke-linejoin: miter\" />\n   </g>\n   <g id=\"patch_29\">\n    <path d=\"M 94.324783 27.135581  L 102.33087 27.135581  L 102.33087 25.282027  L 94.324783 25.282027  z \" clip-path=\"url(#p0f1f2737d0)\" style=\"fill: #a1dab4; stroke: #444443; stroke-width: 0.5; stroke-linejoin: miter\" />\n   </g>\n   <g id=\"patch_30\">\n    <path d=\"M 102.33087 27.304086  L 110.336957 27.304086  L 110.336957 25.450532  L 102.33087 25.450532  z \" clip-path=\"url(#p0f1f2737d0)\" style=\"fill: #a1dab4; stroke: #444443; stroke-width: 0.5; stroke-linejoin: miter\" />\n   </g>\n   <g id=\"patch_31\">\n    <path d=\"M 110.336957 29.663155  L 118.343043 29.663155  L 118.343043 28.82063  L 110.336957 28.82063  z \" clip-path=\"url(#p0f1f2737d0)\" style=\"fill: #a1dab4; stroke: #444443; stroke-width: 0.5; stroke-linejoin: miter\" />\n   </g>\n   <g id=\"patch_32\">\n    <path d=\"M 118.343043 30.842689  L 126.34913 30.842689  L 126.34913 30.337175  L 118.343043 30.337175  z \" clip-path=\"url(#p0f1f2737d0)\" style=\"fill: #a1dab4; stroke: #444443; stroke-width: 0.5; stroke-linejoin: miter\" />\n   </g>\n   <g id=\"patch_33\">\n    <path d=\"M 126.34913 31.179699  L 134.355217 31.179699  L 134.355217 30.16867  L 126.34913 30.16867  z \" clip-path=\"url(#p0f1f2737d0)\" style=\"fill: #a1dab4; stroke: #444443; stroke-width: 0.5; stroke-linejoin: miter\" />\n   </g>\n   <g id=\"patch_34\">\n    <path d=\"M 134.355217 31.516709  L 142.361304 31.516709  L 142.361304 31.179699  L 134.355217 31.179699  z \" clip-path=\"url(#p0f1f2737d0)\" style=\"fill: #a1dab4; stroke: #444443; stroke-width: 0.5; stroke-linejoin: miter\" />\n   </g>\n   <g id=\"patch_35\">\n    <path d=\"M 142.361304 32.190729  L 150.367391 32.190729  L 150.367391 32.022224  L 142.361304 32.022224  z \" clip-path=\"url(#p0f1f2737d0)\" style=\"fill: #a1dab4; stroke: #444443; stroke-width: 0.5; stroke-linejoin: miter\" />\n   </g>\n   <g id=\"patch_36\">\n    <path d=\"M 150.367391 32.527739  L 158.373478 32.527739  L 158.373478 32.190729  L 150.367391 32.190729  z \" clip-path=\"url(#p0f1f2737d0)\" style=\"fill: #a1dab4; stroke: #444443; stroke-width: 0.5; stroke-linejoin: miter\" />\n   </g>\n   <g id=\"patch_37\">\n    <path d=\"M 158.373478 32.696244  L 166.379565 32.696244  L 166.379565 32.696244  L 158.373478 32.696244  z \" clip-path=\"url(#p0f1f2737d0)\" style=\"fill: #a1dab4; stroke: #444443; stroke-width: 0.5; stroke-linejoin: miter\" />\n   </g>\n   <g id=\"patch_38\">\n    <path d=\"M 166.379565 32.864749  L 174.385652 32.864749  L 174.385652 32.864749  L 166.379565 32.864749  z \" clip-path=\"url(#p0f1f2737d0)\" style=\"fill: #a1dab4; stroke: #444443; stroke-width: 0.5; stroke-linejoin: miter\" />\n   </g>\n   <g id=\"patch_39\">\n    <path d=\"M 174.385652 33.538768  L 182.391739 33.538768  L 182.391739 33.538768  L 174.385652 33.538768  z \" clip-path=\"url(#p0f1f2737d0)\" style=\"fill: #a1dab4; stroke: #444443; stroke-width: 0.5; stroke-linejoin: miter\" />\n   </g>\n   <g id=\"patch_40\">\n    <path d=\"M 182.391739 33.707273  L 190.397826 33.707273  L 190.397826 33.538768  L 182.391739 33.538768  z \" clip-path=\"url(#p0f1f2737d0)\" style=\"fill: #a1dab4; stroke: #444443; stroke-width: 0.5; stroke-linejoin: miter\" />\n   </g>\n   <g id=\"patch_41\">\n    <path d=\"M 64.240085 34.538873  L 60.925565 42.854873  L 67.554605 42.854873  z \" style=\"fill: #444443; stroke: #ffffff; stroke-linejoin: miter\" />\n   </g>\n   <g id=\"patch_42\">\n    <path d=\"M 22.27 33.707273  L 22.27 1.50598  \" style=\"fill: none; stroke: #444443; stroke-width: 0.3; stroke-linejoin: miter; stroke-linecap: square\" />\n   </g>\n   <g id=\"patch_43\">\n    <path d=\"M 22.27 33.707273  L 206.41 33.707273  \" style=\"fill: none; stroke: #444443; stroke-width: 0.3; stroke-linejoin: miter; stroke-linecap: square\" />\n   </g>\n  </g>\n </g>\n <defs>\n  <clipPath id=\"p0f1f2737d0\">\n   <rect x=\"22.27\" y=\"1.50598\" width=\"184.14\" height=\"32.201293\" />\n  </clipPath>\n </defs>\n</svg></g>\n\n<g id=\"node2\" class=\"node\">\n<title>node4</title>\n<svg width=\"154px\" height=\"48px\" viewBox=\"0 0 206.41 64.295625\" version=\"1.1\" preserveAspectRatio=\"xMinYMin meet\" x=\"180\" y=\"-154.5\">\n <metadata>\n  <rdf:RDF>\n   <ns2:Work>\n    <dc:type rdf:resource=\"http://purl.org/dc/dcmitype/StillImage\" />\n    <dc:date>2023-11-02T12:34:42.642729</dc:date>\n    <dc:format>image/svg+xml</dc:format>\n    <dc:creator>\n     <ns2:Agent>\n      <dc:title>Matplotlib v3.7.1, https://matplotlib.org/</dc:title>\n     </ns2:Agent>\n    </dc:creator>\n   </ns2:Work>\n  </rdf:RDF>\n </metadata>\n <defs>\n  <style type=\"text/css\">*{stroke-linejoin: round; stroke-linecap: butt}</style>\n </defs>\n <g id=\"figure_1\">\n  <g id=\"patch_1\">\n   <path d=\"M 0 64.295625  L 206.41 64.295625  L 206.41 -0  L 0 -0  z \" style=\"fill: #ffffff\" />\n  </g>\n  <g id=\"axes_1\">\n   <g id=\"patch_2\">\n    <path d=\"M 22.27 29.439375  L 206.41 29.439375  L 206.41 1.719375  L 22.27 1.719375  z \" style=\"fill: #ffffff\" />\n   </g>\n   <g id=\"matplotlib.axis_1\">\n    <g id=\"xtick_1\">\n     <g id=\"line2d_1\">\n      <defs>\n       <path id=\"m9d888efd4c\" d=\"M 0 0  L 0 3.5  \" style=\"stroke: #262626; stroke-width: 0.3\" />\n      </defs>\n      <g>\n       <use xlink:href=\"#m9d888efd4c\" x=\"38.282174\" y=\"29.439375\" style=\"fill: #262626; stroke: #262626; stroke-width: 0.3\" />\n      </g>\n     </g>\n     <g id=\"text_1\">\n      \n      <g style=\"fill: #444443\" transform=\"translate(31.920924 47.018125) scale(0.08 -0.08)\">\n       <defs>\n        <path id=\"DejaVuSans-31\" d=\"M 794 531  L 1825 531  L 1825 4091  L 703 3866  L 703 4441  L 1819 4666  L 2450 4666  L 2450 531  L 3481 531  L 3481 0  L 794 0  L 794 531  z \" transform=\"scale(0.015625)\" />\n        <path id=\"DejaVuSans-2e\" d=\"M 684 794  L 1344 794  L 1344 0  L 684 0  L 684 794  z \" transform=\"scale(0.015625)\" />\n        <path id=\"DejaVuSans-30\" d=\"M 2034 4250  Q 1547 4250 1301 3770  Q 1056 3291 1056 2328  Q 1056 1369 1301 889  Q 1547 409 2034 409  Q 2525 409 2770 889  Q 3016 1369 3016 2328  Q 3016 3291 2770 3770  Q 2525 4250 2034 4250  z M 2034 4750  Q 2819 4750 3233 4129  Q 3647 3509 3647 2328  Q 3647 1150 3233 529  Q 2819 -91 2034 -91  Q 1250 -91 836 529  Q 422 1150 422 2328  Q 422 3509 836 4129  Q 1250 4750 2034 4750  z \" transform=\"scale(0.015625)\" />\n       </defs>\n       <use xlink:href=\"#DejaVuSans-31\" />\n       <use xlink:href=\"#DejaVuSans-2e\" x=\"63.623047\" />\n       <use xlink:href=\"#DejaVuSans-30\" x=\"95.410156\" />\n      </g>\n     </g>\n    </g>\n    <g id=\"xtick_2\">\n     <g id=\"line2d_2\">\n      <g>\n       <use xlink:href=\"#m9d888efd4c\" x=\"152.368913\" y=\"29.439375\" style=\"fill: #262626; stroke: #262626; stroke-width: 0.3\" />\n      </g>\n     </g>\n     <g id=\"text_2\">\n      \n      <g style=\"fill: #444443\" transform=\"translate(146.007663 47.018125) scale(0.08 -0.08)\">\n       <defs>\n        <path id=\"DejaVuSans-32\" d=\"M 1228 531  L 3431 531  L 3431 0  L 469 0  L 469 531  Q 828 903 1448 1529  Q 2069 2156 2228 2338  Q 2531 2678 2651 2914  Q 2772 3150 2772 3378  Q 2772 3750 2511 3984  Q 2250 4219 1831 4219  Q 1534 4219 1204 4116  Q 875 4013 500 3803  L 500 4441  Q 881 4594 1212 4672  Q 1544 4750 1819 4750  Q 2544 4750 2975 4387  Q 3406 4025 3406 3419  Q 3406 3131 3298 2873  Q 3191 2616 2906 2266  Q 2828 2175 2409 1742  Q 1991 1309 1228 531  z \" transform=\"scale(0.015625)\" />\n        <path id=\"DejaVuSans-35\" d=\"M 691 4666  L 3169 4666  L 3169 4134  L 1269 4134  L 1269 2991  Q 1406 3038 1543 3061  Q 1681 3084 1819 3084  Q 2600 3084 3056 2656  Q 3513 2228 3513 1497  Q 3513 744 3044 326  Q 2575 -91 1722 -91  Q 1428 -91 1123 -41  Q 819 9 494 109  L 494 744  Q 775 591 1075 516  Q 1375 441 1709 441  Q 2250 441 2565 725  Q 2881 1009 2881 1497  Q 2881 1984 2565 2268  Q 2250 2553 1709 2553  Q 1456 2553 1204 2497  Q 953 2441 691 2322  L 691 4666  z \" transform=\"scale(0.015625)\" />\n       </defs>\n       <use xlink:href=\"#DejaVuSans-32\" />\n       <use xlink:href=\"#DejaVuSans-2e\" x=\"63.623047\" />\n       <use xlink:href=\"#DejaVuSans-35\" x=\"95.410156\" />\n      </g>\n     </g>\n    </g>\n    <g id=\"xtick_3\">\n     <g id=\"line2d_3\">\n      <g>\n       <use xlink:href=\"#m9d888efd4c\" x=\"190.397826\" y=\"29.439375\" style=\"fill: #262626; stroke: #262626; stroke-width: 0.3\" />\n      </g>\n     </g>\n     <g id=\"text_3\">\n      \n      <g style=\"fill: #444443\" transform=\"translate(184.036576 47.018125) scale(0.08 -0.08)\">\n       <defs>\n        <path id=\"DejaVuSans-33\" d=\"M 2597 2516  Q 3050 2419 3304 2112  Q 3559 1806 3559 1356  Q 3559 666 3084 287  Q 2609 -91 1734 -91  Q 1441 -91 1130 -33  Q 819 25 488 141  L 488 750  Q 750 597 1062 519  Q 1375 441 1716 441  Q 2309 441 2620 675  Q 2931 909 2931 1356  Q 2931 1769 2642 2001  Q 2353 2234 1838 2234  L 1294 2234  L 1294 2753  L 1863 2753  Q 2328 2753 2575 2939  Q 2822 3125 2822 3475  Q 2822 3834 2567 4026  Q 2313 4219 1838 4219  Q 1578 4219 1281 4162  Q 984 4106 628 3988  L 628 4550  Q 988 4650 1302 4700  Q 1616 4750 1894 4750  Q 2613 4750 3031 4423  Q 3450 4097 3450 3541  Q 3450 3153 3228 2886  Q 3006 2619 2597 2516  z \" transform=\"scale(0.015625)\" />\n       </defs>\n       <use xlink:href=\"#DejaVuSans-33\" />\n       <use xlink:href=\"#DejaVuSans-2e\" x=\"63.623047\" />\n       <use xlink:href=\"#DejaVuSans-30\" x=\"95.410156\" />\n      </g>\n     </g>\n    </g>\n    <g id=\"text_4\">\n     \n     <g style=\"fill: #444443\" transform=\"translate(95.828125 61.8) scale(0.12 -0.12)\">\n      <defs>\n       <path id=\"DejaVuSans-50\" d=\"M 1259 4147  L 1259 2394  L 2053 2394  Q 2494 2394 2734 2622  Q 2975 2850 2975 3272  Q 2975 3691 2734 3919  Q 2494 4147 2053 4147  L 1259 4147  z M 628 4666  L 2053 4666  Q 2838 4666 3239 4311  Q 3641 3956 3641 3272  Q 3641 2581 3239 2228  Q 2838 1875 2053 1875  L 1259 1875  L 1259 0  L 628 0  L 628 4666  z \" transform=\"scale(0.015625)\" />\n       <path id=\"DejaVuSans-63\" d=\"M 3122 3366  L 3122 2828  Q 2878 2963 2633 3030  Q 2388 3097 2138 3097  Q 1578 3097 1268 2742  Q 959 2388 959 1747  Q 959 1106 1268 751  Q 1578 397 2138 397  Q 2388 397 2633 464  Q 2878 531 3122 666  L 3122 134  Q 2881 22 2623 -34  Q 2366 -91 2075 -91  Q 1284 -91 818 406  Q 353 903 353 1747  Q 353 2603 823 3093  Q 1294 3584 2113 3584  Q 2378 3584 2631 3529  Q 2884 3475 3122 3366  z \" transform=\"scale(0.015625)\" />\n       <path id=\"DejaVuSans-6c\" d=\"M 603 4863  L 1178 4863  L 1178 0  L 603 0  L 603 4863  z \" transform=\"scale(0.015625)\" />\n       <path id=\"DejaVuSans-61\" d=\"M 2194 1759  Q 1497 1759 1228 1600  Q 959 1441 959 1056  Q 959 750 1161 570  Q 1363 391 1709 391  Q 2188 391 2477 730  Q 2766 1069 2766 1631  L 2766 1759  L 2194 1759  z M 3341 1997  L 3341 0  L 2766 0  L 2766 531  Q 2569 213 2275 61  Q 1981 -91 1556 -91  Q 1019 -91 701 211  Q 384 513 384 1019  Q 384 1609 779 1909  Q 1175 2209 1959 2209  L 2766 2209  L 2766 2266  Q 2766 2663 2505 2880  Q 2244 3097 1772 3097  Q 1472 3097 1187 3025  Q 903 2953 641 2809  L 641 3341  Q 956 3463 1253 3523  Q 1550 3584 1831 3584  Q 2591 3584 2966 3190  Q 3341 2797 3341 1997  z \" transform=\"scale(0.015625)\" />\n       <path id=\"DejaVuSans-73\" d=\"M 2834 3397  L 2834 2853  Q 2591 2978 2328 3040  Q 2066 3103 1784 3103  Q 1356 3103 1142 2972  Q 928 2841 928 2578  Q 928 2378 1081 2264  Q 1234 2150 1697 2047  L 1894 2003  Q 2506 1872 2764 1633  Q 3022 1394 3022 966  Q 3022 478 2636 193  Q 2250 -91 1575 -91  Q 1294 -91 989 -36  Q 684 19 347 128  L 347 722  Q 666 556 975 473  Q 1284 391 1588 391  Q 1994 391 2212 530  Q 2431 669 2431 922  Q 2431 1156 2273 1281  Q 2116 1406 1581 1522  L 1381 1569  Q 847 1681 609 1914  Q 372 2147 372 2553  Q 372 3047 722 3315  Q 1072 3584 1716 3584  Q 2034 3584 2315 3537  Q 2597 3491 2834 3397  z \" transform=\"scale(0.015625)\" />\n      </defs>\n      <use xlink:href=\"#DejaVuSans-50\" />\n      <use xlink:href=\"#DejaVuSans-63\" x=\"60.302734\" />\n      <use xlink:href=\"#DejaVuSans-6c\" x=\"115.283203\" />\n      <use xlink:href=\"#DejaVuSans-61\" x=\"143.066406\" />\n      <use xlink:href=\"#DejaVuSans-73\" x=\"204.345703\" />\n      <use xlink:href=\"#DejaVuSans-73\" x=\"256.445312\" />\n     </g>\n    </g>\n   </g>\n   <g id=\"matplotlib.axis_2\">\n    <g id=\"ytick_1\">\n     <g id=\"line2d_4\">\n      <defs>\n       <path id=\"ma7a02ffd6d\" d=\"M 0 0  L -3.5 0  \" style=\"stroke: #262626; stroke-width: 0.3\" />\n      </defs>\n      <g>\n       <use xlink:href=\"#ma7a02ffd6d\" x=\"22.27\" y=\"29.439375\" style=\"fill: #262626; stroke: #262626; stroke-width: 0.3\" />\n      </g>\n     </g>\n     <g id=\"text_5\">\n      \n      <g style=\"fill: #444443\" transform=\"translate(10.18 32.47875) scale(0.08 -0.08)\">\n       <use xlink:href=\"#DejaVuSans-30\" />\n      </g>\n     </g>\n    </g>\n    <g id=\"ytick_2\">\n     <g id=\"line2d_5\">\n      <g>\n       <use xlink:href=\"#ma7a02ffd6d\" x=\"22.27\" y=\"3.039375\" style=\"fill: #262626; stroke: #262626; stroke-width: 0.3\" />\n      </g>\n     </g>\n     <g id=\"text_6\">\n      \n      <g style=\"fill: #444443\" transform=\"translate(0 6.07875) scale(0.08 -0.08)\">\n       <defs>\n        <path id=\"DejaVuSans-34\" d=\"M 2419 4116  L 825 1625  L 2419 1625  L 2419 4116  z M 2253 4666  L 3047 4666  L 3047 1625  L 3713 1625  L 3713 1100  L 3047 1100  L 3047 0  L 2419 0  L 2419 1100  L 313 1100  L 313 1709  L 2253 4666  z \" transform=\"scale(0.015625)\" />\n       </defs>\n       <use xlink:href=\"#DejaVuSans-31\" />\n       <use xlink:href=\"#DejaVuSans-34\" x=\"63.623047\" />\n       <use xlink:href=\"#DejaVuSans-34\" x=\"127.246094\" />\n      </g>\n     </g>\n    </g>\n   </g>\n   <g id=\"patch_3\">\n    <path d=\"M 38.282174 29.439375  L 46.288261 29.439375  L 46.288261 28.889375  L 38.282174 28.889375  z \" clip-path=\"url(#p01a75ad230)\" style=\"fill: #fefebb; stroke: #444443; stroke-width: 0.5; stroke-linejoin: miter\" />\n   </g>\n   <g id=\"patch_4\">\n    <path d=\"M 46.288261 29.439375  L 54.294348 29.439375  L 54.294348 29.439375  L 46.288261 29.439375  z \" clip-path=\"url(#p01a75ad230)\" style=\"fill: #fefebb; stroke: #444443; stroke-width: 0.5; stroke-linejoin: miter\" />\n   </g>\n   <g id=\"patch_5\">\n    <path d=\"M 54.294348 29.439375  L 62.300435 29.439375  L 62.300435 29.439375  L 54.294348 29.439375  z \" clip-path=\"url(#p01a75ad230)\" style=\"fill: #fefebb; stroke: #444443; stroke-width: 0.5; stroke-linejoin: miter\" />\n   </g>\n   <g id=\"patch_6\">\n    <path d=\"M 62.300435 29.439375  L 70.306522 29.439375  L 70.306522 29.439375  L 62.300435 29.439375  z \" clip-path=\"url(#p01a75ad230)\" style=\"fill: #fefebb; stroke: #444443; stroke-width: 0.5; stroke-linejoin: miter\" />\n   </g>\n   <g id=\"patch_7\">\n    <path d=\"M 70.306522 29.439375  L 78.312609 29.439375  L 78.312609 29.439375  L 70.306522 29.439375  z \" clip-path=\"url(#p01a75ad230)\" style=\"fill: #fefebb; stroke: #444443; stroke-width: 0.5; stroke-linejoin: miter\" />\n   </g>\n   <g id=\"patch_8\">\n    <path d=\"M 78.312609 29.439375  L 86.318696 29.439375  L 86.318696 29.439375  L 78.312609 29.439375  z \" clip-path=\"url(#p01a75ad230)\" style=\"fill: #fefebb; stroke: #444443; stroke-width: 0.5; stroke-linejoin: miter\" />\n   </g>\n   <g id=\"patch_9\">\n    <path d=\"M 86.318696 29.439375  L 94.324783 29.439375  L 94.324783 29.439375  L 86.318696 29.439375  z \" clip-path=\"url(#p01a75ad230)\" style=\"fill: #fefebb; stroke: #444443; stroke-width: 0.5; stroke-linejoin: miter\" />\n   </g>\n   <g id=\"patch_10\">\n    <path d=\"M 94.324783 29.439375  L 102.33087 29.439375  L 102.33087 29.439375  L 94.324783 29.439375  z \" clip-path=\"url(#p01a75ad230)\" style=\"fill: #fefebb; stroke: #444443; stroke-width: 0.5; stroke-linejoin: miter\" />\n   </g>\n   <g id=\"patch_11\">\n    <path d=\"M 102.33087 29.439375  L 110.336957 29.439375  L 110.336957 29.439375  L 102.33087 29.439375  z \" clip-path=\"url(#p01a75ad230)\" style=\"fill: #fefebb; stroke: #444443; stroke-width: 0.5; stroke-linejoin: miter\" />\n   </g>\n   <g id=\"patch_12\">\n    <path d=\"M 110.336957 29.439375  L 118.343043 29.439375  L 118.343043 28.339375  L 110.336957 28.339375  z \" clip-path=\"url(#p01a75ad230)\" style=\"fill: #fefebb; stroke: #444443; stroke-width: 0.5; stroke-linejoin: miter\" />\n   </g>\n   <g id=\"patch_13\">\n    <path d=\"M 118.343043 29.439375  L 126.34913 29.439375  L 126.34913 29.439375  L 118.343043 29.439375  z \" clip-path=\"url(#p01a75ad230)\" style=\"fill: #fefebb; stroke: #444443; stroke-width: 0.5; stroke-linejoin: miter\" />\n   </g>\n   <g id=\"patch_14\">\n    <path d=\"M 126.34913 29.439375  L 134.355217 29.439375  L 134.355217 29.439375  L 126.34913 29.439375  z \" clip-path=\"url(#p01a75ad230)\" style=\"fill: #fefebb; stroke: #444443; stroke-width: 0.5; stroke-linejoin: miter\" />\n   </g>\n   <g id=\"patch_15\">\n    <path d=\"M 134.355217 29.439375  L 142.361304 29.439375  L 142.361304 29.439375  L 134.355217 29.439375  z \" clip-path=\"url(#p01a75ad230)\" style=\"fill: #fefebb; stroke: #444443; stroke-width: 0.5; stroke-linejoin: miter\" />\n   </g>\n   <g id=\"patch_16\">\n    <path d=\"M 142.361304 29.439375  L 150.367391 29.439375  L 150.367391 29.439375  L 142.361304 29.439375  z \" clip-path=\"url(#p01a75ad230)\" style=\"fill: #fefebb; stroke: #444443; stroke-width: 0.5; stroke-linejoin: miter\" />\n   </g>\n   <g id=\"patch_17\">\n    <path d=\"M 150.367391 29.439375  L 158.373478 29.439375  L 158.373478 29.439375  L 150.367391 29.439375  z \" clip-path=\"url(#p01a75ad230)\" style=\"fill: #fefebb; stroke: #444443; stroke-width: 0.5; stroke-linejoin: miter\" />\n   </g>\n   <g id=\"patch_18\">\n    <path d=\"M 158.373478 29.439375  L 166.379565 29.439375  L 166.379565 29.439375  L 158.373478 29.439375  z \" clip-path=\"url(#p01a75ad230)\" style=\"fill: #fefebb; stroke: #444443; stroke-width: 0.5; stroke-linejoin: miter\" />\n   </g>\n   <g id=\"patch_19\">\n    <path d=\"M 166.379565 29.439375  L 174.385652 29.439375  L 174.385652 29.439375  L 166.379565 29.439375  z \" clip-path=\"url(#p01a75ad230)\" style=\"fill: #fefebb; stroke: #444443; stroke-width: 0.5; stroke-linejoin: miter\" />\n   </g>\n   <g id=\"patch_20\">\n    <path d=\"M 174.385652 29.439375  L 182.391739 29.439375  L 182.391739 29.439375  L 174.385652 29.439375  z \" clip-path=\"url(#p01a75ad230)\" style=\"fill: #fefebb; stroke: #444443; stroke-width: 0.5; stroke-linejoin: miter\" />\n   </g>\n   <g id=\"patch_21\">\n    <path d=\"M 182.391739 29.439375  L 190.397826 29.439375  L 190.397826 16.239375  L 182.391739 16.239375  z \" clip-path=\"url(#p01a75ad230)\" style=\"fill: #fefebb; stroke: #444443; stroke-width: 0.5; stroke-linejoin: miter\" />\n   </g>\n   <g id=\"patch_22\">\n    <path d=\"M 38.282174 28.889375  L 46.288261 28.889375  L 46.288261 12.206042  L 38.282174 12.206042  z \" clip-path=\"url(#p01a75ad230)\" style=\"fill: #a1dab4; stroke: #444443; stroke-width: 0.5; stroke-linejoin: miter\" />\n   </g>\n   <g id=\"patch_23\">\n    <path d=\"M 46.288261 29.439375  L 54.294348 29.439375  L 54.294348 29.439375  L 46.288261 29.439375  z \" clip-path=\"url(#p01a75ad230)\" style=\"fill: #a1dab4; stroke: #444443; stroke-width: 0.5; stroke-linejoin: miter\" />\n   </g>\n   <g id=\"patch_24\">\n    <path d=\"M 54.294348 29.439375  L 62.300435 29.439375  L 62.300435 29.439375  L 54.294348 29.439375  z \" clip-path=\"url(#p01a75ad230)\" style=\"fill: #a1dab4; stroke: #444443; stroke-width: 0.5; stroke-linejoin: miter\" />\n   </g>\n   <g id=\"patch_25\">\n    <path d=\"M 62.300435 29.439375  L 70.306522 29.439375  L 70.306522 29.439375  L 62.300435 29.439375  z \" clip-path=\"url(#p01a75ad230)\" style=\"fill: #a1dab4; stroke: #444443; stroke-width: 0.5; stroke-linejoin: miter\" />\n   </g>\n   <g id=\"patch_26\">\n    <path d=\"M 70.306522 29.439375  L 78.312609 29.439375  L 78.312609 29.439375  L 70.306522 29.439375  z \" clip-path=\"url(#p01a75ad230)\" style=\"fill: #a1dab4; stroke: #444443; stroke-width: 0.5; stroke-linejoin: miter\" />\n   </g>\n   <g id=\"patch_27\">\n    <path d=\"M 78.312609 29.439375  L 86.318696 29.439375  L 86.318696 29.439375  L 78.312609 29.439375  z \" clip-path=\"url(#p01a75ad230)\" style=\"fill: #a1dab4; stroke: #444443; stroke-width: 0.5; stroke-linejoin: miter\" />\n   </g>\n   <g id=\"patch_28\">\n    <path d=\"M 86.318696 29.439375  L 94.324783 29.439375  L 94.324783 29.439375  L 86.318696 29.439375  z \" clip-path=\"url(#p01a75ad230)\" style=\"fill: #a1dab4; stroke: #444443; stroke-width: 0.5; stroke-linejoin: miter\" />\n   </g>\n   <g id=\"patch_29\">\n    <path d=\"M 94.324783 29.439375  L 102.33087 29.439375  L 102.33087 29.439375  L 94.324783 29.439375  z \" clip-path=\"url(#p01a75ad230)\" style=\"fill: #a1dab4; stroke: #444443; stroke-width: 0.5; stroke-linejoin: miter\" />\n   </g>\n   <g id=\"patch_30\">\n    <path d=\"M 102.33087 29.439375  L 110.336957 29.439375  L 110.336957 29.439375  L 102.33087 29.439375  z \" clip-path=\"url(#p01a75ad230)\" style=\"fill: #a1dab4; stroke: #444443; stroke-width: 0.5; stroke-linejoin: miter\" />\n   </g>\n   <g id=\"patch_31\">\n    <path d=\"M 110.336957 28.339375  L 118.343043 28.339375  L 118.343043 15.506042  L 110.336957 15.506042  z \" clip-path=\"url(#p01a75ad230)\" style=\"fill: #a1dab4; stroke: #444443; stroke-width: 0.5; stroke-linejoin: miter\" />\n   </g>\n   <g id=\"patch_32\">\n    <path d=\"M 118.343043 29.439375  L 126.34913 29.439375  L 126.34913 29.439375  L 118.343043 29.439375  z \" clip-path=\"url(#p01a75ad230)\" style=\"fill: #a1dab4; stroke: #444443; stroke-width: 0.5; stroke-linejoin: miter\" />\n   </g>\n   <g id=\"patch_33\">\n    <path d=\"M 126.34913 29.439375  L 134.355217 29.439375  L 134.355217 29.439375  L 126.34913 29.439375  z \" clip-path=\"url(#p01a75ad230)\" style=\"fill: #a1dab4; stroke: #444443; stroke-width: 0.5; stroke-linejoin: miter\" />\n   </g>\n   <g id=\"patch_34\">\n    <path d=\"M 134.355217 29.439375  L 142.361304 29.439375  L 142.361304 29.439375  L 134.355217 29.439375  z \" clip-path=\"url(#p01a75ad230)\" style=\"fill: #a1dab4; stroke: #444443; stroke-width: 0.5; stroke-linejoin: miter\" />\n   </g>\n   <g id=\"patch_35\">\n    <path d=\"M 142.361304 29.439375  L 150.367391 29.439375  L 150.367391 29.439375  L 142.361304 29.439375  z \" clip-path=\"url(#p01a75ad230)\" style=\"fill: #a1dab4; stroke: #444443; stroke-width: 0.5; stroke-linejoin: miter\" />\n   </g>\n   <g id=\"patch_36\">\n    <path d=\"M 150.367391 29.439375  L 158.373478 29.439375  L 158.373478 29.439375  L 150.367391 29.439375  z \" clip-path=\"url(#p01a75ad230)\" style=\"fill: #a1dab4; stroke: #444443; stroke-width: 0.5; stroke-linejoin: miter\" />\n   </g>\n   <g id=\"patch_37\">\n    <path d=\"M 158.373478 29.439375  L 166.379565 29.439375  L 166.379565 29.439375  L 158.373478 29.439375  z \" clip-path=\"url(#p01a75ad230)\" style=\"fill: #a1dab4; stroke: #444443; stroke-width: 0.5; stroke-linejoin: miter\" />\n   </g>\n   <g id=\"patch_38\">\n    <path d=\"M 166.379565 29.439375  L 174.385652 29.439375  L 174.385652 29.439375  L 166.379565 29.439375  z \" clip-path=\"url(#p01a75ad230)\" style=\"fill: #a1dab4; stroke: #444443; stroke-width: 0.5; stroke-linejoin: miter\" />\n   </g>\n   <g id=\"patch_39\">\n    <path d=\"M 174.385652 29.439375  L 182.391739 29.439375  L 182.391739 29.439375  L 174.385652 29.439375  z \" clip-path=\"url(#p01a75ad230)\" style=\"fill: #a1dab4; stroke: #444443; stroke-width: 0.5; stroke-linejoin: miter\" />\n   </g>\n   <g id=\"patch_40\">\n    <path d=\"M 182.391739 16.239375  L 190.397826 16.239375  L 190.397826 3.039375  L 182.391739 3.039375  z \" clip-path=\"url(#p01a75ad230)\" style=\"fill: #a1dab4; stroke: #444443; stroke-width: 0.5; stroke-linejoin: miter\" />\n   </g>\n   <g id=\"patch_41\">\n    <path d=\"M 152.368913 30.270975  L 149.054393 38.586975  L 155.683433 38.586975  z \" style=\"fill: #444443; stroke: #ffffff; stroke-linejoin: miter\" />\n   </g>\n   <g id=\"patch_42\">\n    <path d=\"M 22.27 29.439375  L 22.27 1.719375  \" style=\"fill: none; stroke: #444443; stroke-width: 0.3; stroke-linejoin: miter; stroke-linecap: square\" />\n   </g>\n   <g id=\"patch_43\">\n    <path d=\"M 22.27 29.439375  L 206.41 29.439375  \" style=\"fill: none; stroke: #444443; stroke-width: 0.3; stroke-linejoin: miter; stroke-linecap: square\" />\n   </g>\n  </g>\n </g>\n <defs>\n  <clipPath id=\"p01a75ad230\">\n   <rect x=\"22.27\" y=\"1.719375\" width=\"184.14\" height=\"27.72\" />\n  </clipPath>\n </defs>\n</svg></g>\n\n\n<g id=\"node4\" class=\"node\">\n<title>leaf2</title>\n<polygon fill=\"none\" stroke=\"#444443\" stroke-width=\"0\" points=\"52,-75 2,-75 2,-9 52,-9 52,-75\" />\n<svg width=\"42px\" height=\"58px\" viewBox=\"0 0 57.287981 78.367777\" version=\"1.1\" preserveAspectRatio=\"xMinYMin meet\" x=\"6\" y=\"-71\">\n <metadata>\n  <rdf:RDF>\n   <ns2:Work>\n    <dc:type rdf:resource=\"http://purl.org/dc/dcmitype/StillImage\" />\n    <dc:date>2023-11-02T12:34:43.169557</dc:date>\n    <dc:format>image/svg+xml</dc:format>\n    <dc:creator>\n     <ns2:Agent>\n      <dc:title>Matplotlib v3.7.1, https://matplotlib.org/</dc:title>\n     </ns2:Agent>\n    </dc:creator>\n   </ns2:Work>\n  </rdf:RDF>\n </metadata>\n <defs>\n  <style type=\"text/css\">*{stroke-linejoin: round; stroke-linecap: butt}</style>\n </defs>\n <g id=\"figure_1\">\n  <g id=\"patch_1\">\n   <path d=\"M 0 78.367777  L 57.287981 78.367777  L 57.287981 0  L 0 0  z \" style=\"fill: #ffffff\" />\n  </g>\n  <g id=\"axes_1\">\n   <g id=\"patch_2\">\n    <path d=\"M 57.287981 28.643913  C 57.287981 21.646909 54.724195 14.88676 50.084323 9.649427  C 45.444451 4.412095 39.042621 1.052155 32.096634 0.20876  C 25.150646 -0.634636 18.130756 1.095612 12.372334 5.070363  C 6.613913 9.045114 2.506816 14.995272 0.832324 21.788955  L 28.643981 28.643913  z \" style=\"fill: #fefebb; stroke: #444443; stroke-width: 0.5; stroke-linejoin: miter\" />\n   </g>\n   <g id=\"patch_3\">\n    <path d=\"M 0.832324 21.788955  C -0.137598 25.724084 -0.261383 29.820627 0.469173 33.807139  C 1.199728 37.793651 2.768123 41.580091 5.070432 44.915561  C 7.372741 48.251031 10.356964 51.060195 13.825359 53.156913  C 17.293754 55.25363 21.167983 56.590544 25.191331 57.079066  C 29.21468 57.567589 33.296275 57.196686 37.165662 55.990936  C 41.035049 54.785186 44.604832 52.771821 47.63847 50.084252  C 50.672107 47.396683 53.101081 44.095611 54.764442 40.399773  C 56.427803 36.703935 57.287982 32.696806 57.287981 28.643907  L 28.643981 28.643913  z \" style=\"fill: #a1dab4; stroke: #444443; stroke-width: 0.5; stroke-linejoin: miter\" />\n   </g>\n   <g id=\"text_1\">\n    \n    <g style=\"fill: #444443\" transform=\"translate(16.294997 66.418027) scale(0.09 -0.09)\">\n     <defs>\n      <path id=\"DejaVuSans-6e\" d=\"M 3513 2113  L 3513 0  L 2938 0  L 2938 2094  Q 2938 2591 2744 2837  Q 2550 3084 2163 3084  Q 1697 3084 1428 2787  Q 1159 2491 1159 1978  L 1159 0  L 581 0  L 581 3500  L 1159 3500  L 1159 2956  Q 1366 3272 1645 3428  Q 1925 3584 2291 3584  Q 2894 3584 3203 3211  Q 3513 2838 3513 2113  z \" transform=\"scale(0.015625)\" />\n      <path id=\"DejaVuSans-3d\" d=\"M 678 2906  L 4684 2906  L 4684 2381  L 678 2381  L 678 2906  z M 678 1631  L 4684 1631  L 4684 1100  L 678 1100  L 678 1631  z \" transform=\"scale(0.015625)\" />\n      <path id=\"DejaVuSans-33\" d=\"M 2597 2516  Q 3050 2419 3304 2112  Q 3559 1806 3559 1356  Q 3559 666 3084 287  Q 2609 -91 1734 -91  Q 1441 -91 1130 -33  Q 819 25 488 141  L 488 750  Q 750 597 1062 519  Q 1375 441 1716 441  Q 2309 441 2620 675  Q 2931 909 2931 1356  Q 2931 1769 2642 2001  Q 2353 2234 1838 2234  L 1294 2234  L 1294 2753  L 1863 2753  Q 2328 2753 2575 2939  Q 2822 3125 2822 3475  Q 2822 3834 2567 4026  Q 2313 4219 1838 4219  Q 1578 4219 1281 4162  Q 984 4106 628 3988  L 628 4550  Q 988 4650 1302 4700  Q 1616 4750 1894 4750  Q 2613 4750 3031 4423  Q 3450 4097 3450 3541  Q 3450 3153 3228 2886  Q 3006 2619 2597 2516  z \" transform=\"scale(0.015625)\" />\n      <path id=\"DejaVuSans-39\" d=\"M 703 97  L 703 672  Q 941 559 1184 500  Q 1428 441 1663 441  Q 2288 441 2617 861  Q 2947 1281 2994 2138  Q 2813 1869 2534 1725  Q 2256 1581 1919 1581  Q 1219 1581 811 2004  Q 403 2428 403 3163  Q 403 3881 828 4315  Q 1253 4750 1959 4750  Q 2769 4750 3195 4129  Q 3622 3509 3622 2328  Q 3622 1225 3098 567  Q 2575 -91 1691 -91  Q 1453 -91 1209 -44  Q 966 3 703 97  z M 1959 2075  Q 2384 2075 2632 2365  Q 2881 2656 2881 3163  Q 2881 3666 2632 3958  Q 2384 4250 1959 4250  Q 1534 4250 1286 3958  Q 1038 3666 1038 3163  Q 1038 2656 1286 2365  Q 1534 2075 1959 2075  z \" transform=\"scale(0.015625)\" />\n     </defs>\n     <use xlink:href=\"#DejaVuSans-6e\" />\n     <use xlink:href=\"#DejaVuSans-3d\" x=\"63.378906\" />\n     <use xlink:href=\"#DejaVuSans-33\" x=\"147.167969\" />\n     <use xlink:href=\"#DejaVuSans-39\" x=\"210.791016\" />\n    </g>\n    \n    <g style=\"fill: #444443\" transform=\"translate(21.37859 76.496058) scale(0.09 -0.09)\">\n     <defs>\n      <path id=\"DejaVuSans-59\" d=\"M -13 4666  L 666 4666  L 1959 2747  L 3244 4666  L 3922 4666  L 2272 2222  L 2272 0  L 1638 0  L 1638 2222  L -13 4666  z \" transform=\"scale(0.015625)\" />\n      <path id=\"DejaVuSans-65\" d=\"M 3597 1894  L 3597 1613  L 953 1613  Q 991 1019 1311 708  Q 1631 397 2203 397  Q 2534 397 2845 478  Q 3156 559 3463 722  L 3463 178  Q 3153 47 2828 -22  Q 2503 -91 2169 -91  Q 1331 -91 842 396  Q 353 884 353 1716  Q 353 2575 817 3079  Q 1281 3584 2069 3584  Q 2775 3584 3186 3129  Q 3597 2675 3597 1894  z M 3022 2063  Q 3016 2534 2758 2815  Q 2500 3097 2075 3097  Q 1594 3097 1305 2825  Q 1016 2553 972 2059  L 3022 2063  z \" transform=\"scale(0.015625)\" />\n      <path id=\"DejaVuSans-73\" d=\"M 2834 3397  L 2834 2853  Q 2591 2978 2328 3040  Q 2066 3103 1784 3103  Q 1356 3103 1142 2972  Q 928 2841 928 2578  Q 928 2378 1081 2264  Q 1234 2150 1697 2047  L 1894 2003  Q 2506 1872 2764 1633  Q 3022 1394 3022 966  Q 3022 478 2636 193  Q 2250 -91 1575 -91  Q 1294 -91 989 -36  Q 684 19 347 128  L 347 722  Q 666 556 975 473  Q 1284 391 1588 391  Q 1994 391 2212 530  Q 2431 669 2431 922  Q 2431 1156 2273 1281  Q 2116 1406 1581 1522  L 1381 1569  Q 847 1681 609 1914  Q 372 2147 372 2553  Q 372 3047 722 3315  Q 1072 3584 1716 3584  Q 2034 3584 2315 3537  Q 2597 3491 2834 3397  z \" transform=\"scale(0.015625)\" />\n     </defs>\n     <use xlink:href=\"#DejaVuSans-59\" />\n     <use xlink:href=\"#DejaVuSans-65\" x=\"47.833984\" />\n     <use xlink:href=\"#DejaVuSans-73\" x=\"109.357422\" />\n    </g>\n   </g>\n  </g>\n </g>\n</svg></g>\n\n<g id=\"edge1\" class=\"edge\">\n<title>node1-&gt;leaf2</title>\n<path fill=\"none\" stroke=\"#444443\" stroke-width=\"0.3\" d=\"M63.02,-100.7C58.64,-93.69 53.91,-86.1 49.36,-78.81\" />\n<polygon fill=\"#444443\" stroke=\"#444443\" stroke-width=\"0.3\" points=\"50.44,-77.91 47.14,-75.26 48.07,-79.39 50.44,-77.91\" />\n</g>\n\n<g id=\"node5\" class=\"node\">\n<title>leaf3</title>\n<polygon fill=\"none\" stroke=\"#444443\" stroke-width=\"0\" points=\"134,-84 66,-84 66,0 134,0 134,-84\" />\n<svg width=\"60px\" height=\"76px\" viewBox=\"0 0 80.079994 102.071542\" version=\"1.1\" preserveAspectRatio=\"xMinYMin meet\" x=\"70\" y=\"-80\">\n <metadata>\n  <rdf:RDF>\n   <ns2:Work>\n    <dc:type rdf:resource=\"http://purl.org/dc/dcmitype/StillImage\" />\n    <dc:date>2023-11-02T12:34:43.417462</dc:date>\n    <dc:format>image/svg+xml</dc:format>\n    <dc:creator>\n     <ns2:Agent>\n      <dc:title>Matplotlib v3.7.1, https://matplotlib.org/</dc:title>\n     </ns2:Agent>\n    </dc:creator>\n   </ns2:Work>\n  </rdf:RDF>\n </metadata>\n <defs>\n  <style type=\"text/css\">*{stroke-linejoin: round; stroke-linecap: butt}</style>\n </defs>\n <g id=\"figure_1\">\n  <g id=\"patch_1\">\n   <path d=\"M 0 102.071542  L 80.079994 102.071542  L 80.079994 -0  L 0 -0  z \" style=\"fill: #ffffff\" />\n  </g>\n  <g id=\"axes_1\">\n   <g id=\"patch_2\">\n    <path d=\"M 80.079994 40.039998  C 80.079994 35.646245 79.356777 31.282303 77.939391 27.123447  C 76.522005 22.96459 74.429683 19.067255 71.746462 15.587974  C 69.063242 12.108694 65.825533 9.094681 62.163376 6.666991  C 58.501219 4.239302 54.464309 2.430879 50.214786 1.314358  C 45.965263 0.197836 41.560792 -0.211634 37.178275 0.102395  C 32.795758 0.416423 28.494665 1.449688 24.447748 3.160689  C 20.40083 4.87169 16.663003 7.237209 13.384394 10.162238  C 10.105785 13.087266 7.330884 16.532111 5.171143 20.358413  C 3.011402 24.184715 1.496128 28.340552 0.686181 32.659007  C -0.123765 36.977462 -0.217393 41.399935 0.409057 45.7488  C 1.035507 50.097665 2.373535 54.313909 4.3694 58.22819  C 6.365265 62.14247 8.991883 65.701671 12.143758 68.762839  C 15.295633 71.824008 18.929995 74.345604 22.900872 76.22635  C 26.871748 78.107096 31.125256 79.321471 35.490555 79.8207  C 39.855855 80.319928 44.27371 80.097236 48.56668 79.161568  C 52.85965 78.2259 56.969481 76.589952 60.731104 74.319432  L 40.039994 40.039998  z \" style=\"fill: #fefebb; stroke: #444443; stroke-width: 0.5; stroke-linejoin: miter\" />\n   </g>\n   <g id=\"patch_3\">\n    <path d=\"M 60.731104 74.319432  C 66.634896 70.755895 71.519174 65.72689 74.908845 59.721585  C 78.298516 53.71628 80.079993 46.935911 80.079994 40.040002  L 40.039994 40.039998  z \" style=\"fill: #a1dab4; stroke: #444443; stroke-width: 0.5; stroke-linejoin: miter\" />\n   </g>\n   <g id=\"text_1\">\n    \n    <g style=\"fill: #444443\" transform=\"translate(24.827885 90.121792) scale(0.09 -0.09)\">\n     <defs>\n      <path id=\"DejaVuSans-6e\" d=\"M 3513 2113  L 3513 0  L 2938 0  L 2938 2094  Q 2938 2591 2744 2837  Q 2550 3084 2163 3084  Q 1697 3084 1428 2787  Q 1159 2491 1159 1978  L 1159 0  L 581 0  L 581 3500  L 1159 3500  L 1159 2956  Q 1366 3272 1645 3428  Q 1925 3584 2291 3584  Q 2894 3584 3203 3211  Q 3513 2838 3513 2113  z \" transform=\"scale(0.015625)\" />\n      <path id=\"DejaVuSans-3d\" d=\"M 678 2906  L 4684 2906  L 4684 2381  L 678 2381  L 678 2906  z M 678 1631  L 4684 1631  L 4684 1100  L 678 1100  L 678 1631  z \" transform=\"scale(0.015625)\" />\n      <path id=\"DejaVuSans-35\" d=\"M 691 4666  L 3169 4666  L 3169 4134  L 1269 4134  L 1269 2991  Q 1406 3038 1543 3061  Q 1681 3084 1819 3084  Q 2600 3084 3056 2656  Q 3513 2228 3513 1497  Q 3513 744 3044 326  Q 2575 -91 1722 -91  Q 1428 -91 1123 -41  Q 819 9 494 109  L 494 744  Q 775 591 1075 516  Q 1375 441 1709 441  Q 2250 441 2565 725  Q 2881 1009 2881 1497  Q 2881 1984 2565 2268  Q 2250 2553 1709 2553  Q 1456 2553 1204 2497  Q 953 2441 691 2322  L 691 4666  z \" transform=\"scale(0.015625)\" />\n      <path id=\"DejaVuSans-33\" d=\"M 2597 2516  Q 3050 2419 3304 2112  Q 3559 1806 3559 1356  Q 3559 666 3084 287  Q 2609 -91 1734 -91  Q 1441 -91 1130 -33  Q 819 25 488 141  L 488 750  Q 750 597 1062 519  Q 1375 441 1716 441  Q 2309 441 2620 675  Q 2931 909 2931 1356  Q 2931 1769 2642 2001  Q 2353 2234 1838 2234  L 1294 2234  L 1294 2753  L 1863 2753  Q 2328 2753 2575 2939  Q 2822 3125 2822 3475  Q 2822 3834 2567 4026  Q 2313 4219 1838 4219  Q 1578 4219 1281 4162  Q 984 4106 628 3988  L 628 4550  Q 988 4650 1302 4700  Q 1616 4750 1894 4750  Q 2613 4750 3031 4423  Q 3450 4097 3450 3541  Q 3450 3153 3228 2886  Q 3006 2619 2597 2516  z \" transform=\"scale(0.015625)\" />\n      <path id=\"DejaVuSans-38\" d=\"M 2034 2216  Q 1584 2216 1326 1975  Q 1069 1734 1069 1313  Q 1069 891 1326 650  Q 1584 409 2034 409  Q 2484 409 2743 651  Q 3003 894 3003 1313  Q 3003 1734 2745 1975  Q 2488 2216 2034 2216  z M 1403 2484  Q 997 2584 770 2862  Q 544 3141 544 3541  Q 544 4100 942 4425  Q 1341 4750 2034 4750  Q 2731 4750 3128 4425  Q 3525 4100 3525 3541  Q 3525 3141 3298 2862  Q 3072 2584 2669 2484  Q 3125 2378 3379 2068  Q 3634 1759 3634 1313  Q 3634 634 3220 271  Q 2806 -91 2034 -91  Q 1263 -91 848 271  Q 434 634 434 1313  Q 434 1759 690 2068  Q 947 2378 1403 2484  z M 1172 3481  Q 1172 3119 1398 2916  Q 1625 2713 2034 2713  Q 2441 2713 2670 2916  Q 2900 3119 2900 3481  Q 2900 3844 2670 4047  Q 2441 4250 2034 4250  Q 1625 4250 1398 4047  Q 1172 3844 1172 3481  z \" transform=\"scale(0.015625)\" />\n     </defs>\n     <use xlink:href=\"#DejaVuSans-6e\" />\n     <use xlink:href=\"#DejaVuSans-3d\" x=\"63.378906\" />\n     <use xlink:href=\"#DejaVuSans-35\" x=\"147.167969\" />\n     <use xlink:href=\"#DejaVuSans-33\" x=\"210.791016\" />\n     <use xlink:href=\"#DejaVuSans-38\" x=\"274.414062\" />\n    </g>\n    \n    <g style=\"fill: #444443\" transform=\"translate(33.919994 100.199823) scale(0.09 -0.09)\">\n     <defs>\n      <path id=\"DejaVuSans-4e\" d=\"M 628 4666  L 1478 4666  L 3547 763  L 3547 4666  L 4159 4666  L 4159 0  L 3309 0  L 1241 3903  L 1241 0  L 628 0  L 628 4666  z \" transform=\"scale(0.015625)\" />\n      <path id=\"DejaVuSans-6f\" d=\"M 1959 3097  Q 1497 3097 1228 2736  Q 959 2375 959 1747  Q 959 1119 1226 758  Q 1494 397 1959 397  Q 2419 397 2687 759  Q 2956 1122 2956 1747  Q 2956 2369 2687 2733  Q 2419 3097 1959 3097  z M 1959 3584  Q 2709 3584 3137 3096  Q 3566 2609 3566 1747  Q 3566 888 3137 398  Q 2709 -91 1959 -91  Q 1206 -91 779 398  Q 353 888 353 1747  Q 353 2609 779 3096  Q 1206 3584 1959 3584  z \" transform=\"scale(0.015625)\" />\n     </defs>\n     <use xlink:href=\"#DejaVuSans-4e\" />\n     <use xlink:href=\"#DejaVuSans-6f\" x=\"74.804688\" />\n    </g>\n   </g>\n  </g>\n </g>\n</svg></g>\n\n<g id=\"edge2\" class=\"edge\">\n<title>node1-&gt;leaf3</title>\n<path fill=\"none\" stroke=\"#444443\" stroke-width=\"0.3\" d=\"M87.33,-100.7C88.22,-96.63 89.15,-92.38 90.09,-88.1\" />\n<polygon fill=\"#444443\" stroke=\"#444443\" stroke-width=\"0.3\" points=\"91.47,-88.37 90.96,-84.16 88.73,-87.77 91.47,-88.37\" />\n</g>\n\n<g id=\"node6\" class=\"node\">\n<title>leaf5</title>\n<polygon fill=\"none\" stroke=\"#444443\" stroke-width=\"0\" points=\"250,-84 182,-84 182,0 250,0 250,-84\" />\n<svg width=\"60px\" height=\"76px\" viewBox=\"0 0 80.079987 102.071535\" version=\"1.1\" preserveAspectRatio=\"xMinYMin meet\" x=\"186\" y=\"-80\">\n <metadata>\n  <rdf:RDF>\n   <ns2:Work>\n    <dc:type rdf:resource=\"http://purl.org/dc/dcmitype/StillImage\" />\n    <dc:date>2023-11-02T12:34:43.665452</dc:date>\n    <dc:format>image/svg+xml</dc:format>\n    <dc:creator>\n     <ns2:Agent>\n      <dc:title>Matplotlib v3.7.1, https://matplotlib.org/</dc:title>\n     </ns2:Agent>\n    </dc:creator>\n   </ns2:Work>\n  </rdf:RDF>\n </metadata>\n <defs>\n  <style type=\"text/css\">*{stroke-linejoin: round; stroke-linecap: butt}</style>\n </defs>\n <g id=\"figure_1\">\n  <g id=\"patch_1\">\n   <path d=\"M 0 102.071535  L 80.079987 102.071535  L 80.079987 0  L 0 0  z \" style=\"fill: #ffffff\" />\n  </g>\n  <g id=\"axes_1\">\n   <g id=\"patch_2\">\n    <path d=\"M 80.079987 40.039991  C 80.079987 37.8189 79.895176 35.601655 79.527465 33.411214  C 79.159755 31.220772 78.61042 29.06472 77.885148 26.965381  L 40.039987 40.039991  z \" style=\"fill: #fefebb; stroke: #444443; stroke-width: 0.5; stroke-linejoin: miter\" />\n   </g>\n   <g id=\"patch_3\">\n    <path d=\"M 77.885148 26.965381  C 76.259636 22.26025 73.770834 17.899256 70.54663 14.106492  C 67.322426 10.313728 63.419008 7.155291 59.036956 4.793477  C 54.654904 2.431663 49.870583 0.907632 44.929837 0.299697  C 39.989092 -0.308238 34.978025 0.010518 30.154132 1.239586  C 25.330239 2.468653 20.777586 4.586612 16.730114 7.484632  C 12.682642 10.382651 9.210885 14.010227 6.493242 18.180954  C 3.775599 22.351682 1.85943 26.992877 0.843198 31.866051  C -0.173034 36.739224 -0.271619 41.759451 0.552509 46.668765  C 1.376637 51.578079 3.109116 56.290925 5.660921 60.565131  C 8.212726 64.839337 11.539387 68.600417 15.469963 71.655106  C 19.400539 74.709795 23.86653 77.004859 28.638451 78.422364  C 33.410372 79.83987 38.405061 80.355114 43.365865 79.941622  C 48.326668 79.528129 53.167134 78.193106 57.638533 76.005152  C 62.109932 73.817198 66.13434 70.814443 69.504962 67.151186  C 72.875584 63.487928 75.53368 59.228007 77.342662 54.590321  C 79.151644 49.952635 80.079987 45.018004 80.079987 40.039998  L 40.039987 40.039991  z \" style=\"fill: #a1dab4; stroke: #444443; stroke-width: 0.5; stroke-linejoin: miter\" />\n   </g>\n   <g id=\"text_1\">\n    \n    <g style=\"fill: #444443\" transform=\"translate(24.827878 90.121785) scale(0.09 -0.09)\">\n     <defs>\n      <path id=\"DejaVuSans-6e\" d=\"M 3513 2113  L 3513 0  L 2938 0  L 2938 2094  Q 2938 2591 2744 2837  Q 2550 3084 2163 3084  Q 1697 3084 1428 2787  Q 1159 2491 1159 1978  L 1159 0  L 581 0  L 581 3500  L 1159 3500  L 1159 2956  Q 1366 3272 1645 3428  Q 1925 3584 2291 3584  Q 2894 3584 3203 3211  Q 3513 2838 3513 2113  z \" transform=\"scale(0.015625)\" />\n      <path id=\"DejaVuSans-3d\" d=\"M 678 2906  L 4684 2906  L 4684 2381  L 678 2381  L 678 2906  z M 678 1631  L 4684 1631  L 4684 1100  L 678 1100  L 678 1631  z \" transform=\"scale(0.015625)\" />\n      <path id=\"DejaVuSans-31\" d=\"M 794 531  L 1825 531  L 1825 4091  L 703 3866  L 703 4441  L 1819 4666  L 2450 4666  L 2450 531  L 3481 531  L 3481 0  L 794 0  L 794 531  z \" transform=\"scale(0.015625)\" />\n      <path id=\"DejaVuSans-37\" d=\"M 525 4666  L 3525 4666  L 3525 4397  L 1831 0  L 1172 0  L 2766 4134  L 525 4134  L 525 4666  z \" transform=\"scale(0.015625)\" />\n      <path id=\"DejaVuSans-30\" d=\"M 2034 4250  Q 1547 4250 1301 3770  Q 1056 3291 1056 2328  Q 1056 1369 1301 889  Q 1547 409 2034 409  Q 2525 409 2770 889  Q 3016 1369 3016 2328  Q 3016 3291 2770 3770  Q 2525 4250 2034 4250  z M 2034 4750  Q 2819 4750 3233 4129  Q 3647 3509 3647 2328  Q 3647 1150 3233 529  Q 2819 -91 2034 -91  Q 1250 -91 836 529  Q 422 1150 422 2328  Q 422 3509 836 4129  Q 1250 4750 2034 4750  z \" transform=\"scale(0.015625)\" />\n     </defs>\n     <use xlink:href=\"#DejaVuSans-6e\" />\n     <use xlink:href=\"#DejaVuSans-3d\" x=\"63.378906\" />\n     <use xlink:href=\"#DejaVuSans-31\" x=\"147.167969\" />\n     <use xlink:href=\"#DejaVuSans-37\" x=\"210.791016\" />\n     <use xlink:href=\"#DejaVuSans-30\" x=\"274.414062\" />\n    </g>\n    \n    <g style=\"fill: #444443\" transform=\"translate(32.774597 100.199816) scale(0.09 -0.09)\">\n     <defs>\n      <path id=\"DejaVuSans-59\" d=\"M -13 4666  L 666 4666  L 1959 2747  L 3244 4666  L 3922 4666  L 2272 2222  L 2272 0  L 1638 0  L 1638 2222  L -13 4666  z \" transform=\"scale(0.015625)\" />\n      <path id=\"DejaVuSans-65\" d=\"M 3597 1894  L 3597 1613  L 953 1613  Q 991 1019 1311 708  Q 1631 397 2203 397  Q 2534 397 2845 478  Q 3156 559 3463 722  L 3463 178  Q 3153 47 2828 -22  Q 2503 -91 2169 -91  Q 1331 -91 842 396  Q 353 884 353 1716  Q 353 2575 817 3079  Q 1281 3584 2069 3584  Q 2775 3584 3186 3129  Q 3597 2675 3597 1894  z M 3022 2063  Q 3016 2534 2758 2815  Q 2500 3097 2075 3097  Q 1594 3097 1305 2825  Q 1016 2553 972 2059  L 3022 2063  z \" transform=\"scale(0.015625)\" />\n      <path id=\"DejaVuSans-73\" d=\"M 2834 3397  L 2834 2853  Q 2591 2978 2328 3040  Q 2066 3103 1784 3103  Q 1356 3103 1142 2972  Q 928 2841 928 2578  Q 928 2378 1081 2264  Q 1234 2150 1697 2047  L 1894 2003  Q 2506 1872 2764 1633  Q 3022 1394 3022 966  Q 3022 478 2636 193  Q 2250 -91 1575 -91  Q 1294 -91 989 -36  Q 684 19 347 128  L 347 722  Q 666 556 975 473  Q 1284 391 1588 391  Q 1994 391 2212 530  Q 2431 669 2431 922  Q 2431 1156 2273 1281  Q 2116 1406 1581 1522  L 1381 1569  Q 847 1681 609 1914  Q 372 2147 372 2553  Q 372 3047 722 3315  Q 1072 3584 1716 3584  Q 2034 3584 2315 3537  Q 2597 3491 2834 3397  z \" transform=\"scale(0.015625)\" />\n     </defs>\n     <use xlink:href=\"#DejaVuSans-59\" />\n     <use xlink:href=\"#DejaVuSans-65\" x=\"47.833984\" />\n     <use xlink:href=\"#DejaVuSans-73\" x=\"109.357422\" />\n    </g>\n   </g>\n  </g>\n </g>\n</svg></g>\n\n<g id=\"edge4\" class=\"edge\">\n<title>node4-&gt;leaf5</title>\n<path fill=\"none\" stroke=\"#444443\" stroke-width=\"0.3\" d=\"M244.03,-102.13C241.86,-97.56 239.56,-92.71 237.25,-87.83\" />\n<polygon fill=\"#444443\" stroke=\"#444443\" stroke-width=\"0.3\" points=\"238.46,-87.11 235.48,-84.1 235.93,-88.31 238.46,-87.11\" />\n</g>\n\n<g id=\"node7\" class=\"node\">\n<title>leaf6</title>\n<polygon fill=\"none\" stroke=\"#444443\" stroke-width=\"0\" points=\"332,-84 264,-84 264,0 332,0 332,-84\" />\n<svg width=\"60px\" height=\"76px\" viewBox=\"0 0 80.08 102.071544\" version=\"1.1\" preserveAspectRatio=\"xMinYMin meet\" x=\"268\" y=\"-80\">\n <metadata>\n  <rdf:RDF>\n   <ns2:Work>\n    <dc:type rdf:resource=\"http://purl.org/dc/dcmitype/StillImage\" />\n    <dc:date>2023-11-02T12:34:43.859335</dc:date>\n    <dc:format>image/svg+xml</dc:format>\n    <dc:creator>\n     <ns2:Agent>\n      <dc:title>Matplotlib v3.7.1, https://matplotlib.org/</dc:title>\n     </ns2:Agent>\n    </dc:creator>\n   </ns2:Work>\n  </rdf:RDF>\n </metadata>\n <defs>\n  <style type=\"text/css\">*{stroke-linejoin: round; stroke-linecap: butt}</style>\n </defs>\n <g id=\"figure_1\">\n  <g id=\"patch_1\">\n   <path d=\"M 0 102.071544  L 80.08 102.071544  L 80.08 0  L 0 0  z \" style=\"fill: #ffffff\" />\n  </g>\n  <g id=\"axes_1\">\n   <g id=\"patch_2\">\n    <path d=\"M 80.08 40.04  C 80.08 29.424804 75.858632 19.233521 68.352556 11.727444  C 60.846479 4.221368 50.655196 -0 40.04 -0  C 29.424804 -0 19.233521 4.221368 11.727444 11.727444  C 4.221368 19.233521 0 29.424804 0 40.04  L 40.04 40.04  z \" style=\"fill: #fefebb; stroke: #444443; stroke-width: 0.5; stroke-linejoin: miter\" />\n   </g>\n   <g id=\"patch_3\">\n    <path d=\"M 0 40.04  C 0 50.655196 4.221368 60.846479 11.727444 68.352556  C 19.233521 75.858632 29.424804 80.08 40.04 80.08  C 50.655196 80.08 60.846479 75.858632 68.352556 68.352556  C 75.858632 60.846479 80.08 50.655196 80.08 40.04  L 40.04 40.04  z \" style=\"fill: #a1dab4; stroke: #444443; stroke-width: 0.5; stroke-linejoin: miter\" />\n   </g>\n   <g id=\"text_1\">\n    \n    <g style=\"fill: #444443\" transform=\"translate(24.827891 90.121794) scale(0.09 -0.09)\">\n     <defs>\n      <path id=\"DejaVuSans-6e\" d=\"M 3513 2113  L 3513 0  L 2938 0  L 2938 2094  Q 2938 2591 2744 2837  Q 2550 3084 2163 3084  Q 1697 3084 1428 2787  Q 1159 2491 1159 1978  L 1159 0  L 581 0  L 581 3500  L 1159 3500  L 1159 2956  Q 1366 3272 1645 3428  Q 1925 3584 2291 3584  Q 2894 3584 3203 3211  Q 3513 2838 3513 2113  z \" transform=\"scale(0.015625)\" />\n      <path id=\"DejaVuSans-3d\" d=\"M 678 2906  L 4684 2906  L 4684 2381  L 678 2381  L 678 2906  z M 678 1631  L 4684 1631  L 4684 1100  L 678 1100  L 678 1631  z \" transform=\"scale(0.015625)\" />\n      <path id=\"DejaVuSans-31\" d=\"M 794 531  L 1825 531  L 1825 4091  L 703 3866  L 703 4441  L 1819 4666  L 2450 4666  L 2450 531  L 3481 531  L 3481 0  L 794 0  L 794 531  z \" transform=\"scale(0.015625)\" />\n      <path id=\"DejaVuSans-34\" d=\"M 2419 4116  L 825 1625  L 2419 1625  L 2419 4116  z M 2253 4666  L 3047 4666  L 3047 1625  L 3713 1625  L 3713 1100  L 3047 1100  L 3047 0  L 2419 0  L 2419 1100  L 313 1100  L 313 1709  L 2253 4666  z \" transform=\"scale(0.015625)\" />\n     </defs>\n     <use xlink:href=\"#DejaVuSans-6e\" />\n     <use xlink:href=\"#DejaVuSans-3d\" x=\"63.378906\" />\n     <use xlink:href=\"#DejaVuSans-31\" x=\"147.167969\" />\n     <use xlink:href=\"#DejaVuSans-34\" x=\"210.791016\" />\n     <use xlink:href=\"#DejaVuSans-34\" x=\"274.414062\" />\n    </g>\n    \n    <g style=\"fill: #444443\" transform=\"translate(32.774609 100.199825) scale(0.09 -0.09)\">\n     <defs>\n      <path id=\"DejaVuSans-59\" d=\"M -13 4666  L 666 4666  L 1959 2747  L 3244 4666  L 3922 4666  L 2272 2222  L 2272 0  L 1638 0  L 1638 2222  L -13 4666  z \" transform=\"scale(0.015625)\" />\n      <path id=\"DejaVuSans-65\" d=\"M 3597 1894  L 3597 1613  L 953 1613  Q 991 1019 1311 708  Q 1631 397 2203 397  Q 2534 397 2845 478  Q 3156 559 3463 722  L 3463 178  Q 3153 47 2828 -22  Q 2503 -91 2169 -91  Q 1331 -91 842 396  Q 353 884 353 1716  Q 353 2575 817 3079  Q 1281 3584 2069 3584  Q 2775 3584 3186 3129  Q 3597 2675 3597 1894  z M 3022 2063  Q 3016 2534 2758 2815  Q 2500 3097 2075 3097  Q 1594 3097 1305 2825  Q 1016 2553 972 2059  L 3022 2063  z \" transform=\"scale(0.015625)\" />\n      <path id=\"DejaVuSans-73\" d=\"M 2834 3397  L 2834 2853  Q 2591 2978 2328 3040  Q 2066 3103 1784 3103  Q 1356 3103 1142 2972  Q 928 2841 928 2578  Q 928 2378 1081 2264  Q 1234 2150 1697 2047  L 1894 2003  Q 2506 1872 2764 1633  Q 3022 1394 3022 966  Q 3022 478 2636 193  Q 2250 -91 1575 -91  Q 1294 -91 989 -36  Q 684 19 347 128  L 347 722  Q 666 556 975 473  Q 1284 391 1588 391  Q 1994 391 2212 530  Q 2431 669 2431 922  Q 2431 1156 2273 1281  Q 2116 1406 1581 1522  L 1381 1569  Q 847 1681 609 1914  Q 372 2147 372 2553  Q 372 3047 722 3315  Q 1072 3584 1716 3584  Q 2034 3584 2315 3537  Q 2597 3491 2834 3397  z \" transform=\"scale(0.015625)\" />\n     </defs>\n     <use xlink:href=\"#DejaVuSans-59\" />\n     <use xlink:href=\"#DejaVuSans-65\" x=\"47.833984\" />\n     <use xlink:href=\"#DejaVuSans-73\" x=\"109.357422\" />\n    </g>\n   </g>\n  </g>\n </g>\n</svg></g>\n\n<g id=\"edge5\" class=\"edge\">\n<title>node4-&gt;leaf6</title>\n<path fill=\"none\" stroke=\"#444443\" stroke-width=\"0.3\" d=\"M269.97,-102.13C272.14,-97.56 274.44,-92.71 276.75,-87.83\" />\n<polygon fill=\"#444443\" stroke=\"#444443\" stroke-width=\"0.3\" points=\"278.07,-88.31 278.52,-84.1 275.54,-87.11 278.07,-88.31\" />\n</g>\n\n<g id=\"node3\" class=\"node\">\n<title>node0</title>\n<svg width=\"154px\" height=\"88px\" viewBox=\"0 0 206.41 118.01625\" version=\"1.1\" preserveAspectRatio=\"xMinYMin meet\" x=\"91\" y=\"-283\">\n <metadata>\n  <rdf:RDF>\n   <ns2:Work>\n    <dc:type rdf:resource=\"http://purl.org/dc/dcmitype/StillImage\" />\n    <dc:date>2023-11-02T12:34:42.916638</dc:date>\n    <dc:format>image/svg+xml</dc:format>\n    <dc:creator>\n     <ns2:Agent>\n      <dc:title>Matplotlib v3.7.1, https://matplotlib.org/</dc:title>\n     </ns2:Agent>\n    </dc:creator>\n   </ns2:Work>\n  </rdf:RDF>\n </metadata>\n <defs>\n  <style type=\"text/css\">*{stroke-linejoin: round; stroke-linecap: butt}</style>\n </defs>\n <g id=\"figure_1\">\n  <g id=\"patch_1\">\n   <path d=\"M 0 118.01625  L 206.41 118.01625  L 206.41 0  L 0 0  z \" style=\"fill: #ffffff\" />\n  </g>\n  <g id=\"axes_1\">\n   <g id=\"patch_2\">\n    <path d=\"M 22.27 83.16  L 206.41 83.16  L 206.41 -0  L 22.27 -0  z \" style=\"fill: #ffffff\" />\n   </g>\n   <g id=\"matplotlib.axis_1\">\n    <g id=\"xtick_1\">\n     <g id=\"line2d_1\">\n      <defs>\n       <path id=\"md86825ee30\" d=\"M 0 0  L 0 3.5  \" style=\"stroke: #262626; stroke-width: 0.3\" />\n      </defs>\n      <g>\n       <use xlink:href=\"#md86825ee30\" x=\"38.282174\" y=\"83.16\" style=\"fill: #262626; stroke: #262626; stroke-width: 0.3\" />\n      </g>\n     </g>\n     <g id=\"text_1\">\n      \n      <g style=\"fill: #444443\" transform=\"translate(31.920924 100.73875) scale(0.08 -0.08)\">\n       <defs>\n        <path id=\"DejaVuSans-30\" d=\"M 2034 4250  Q 1547 4250 1301 3770  Q 1056 3291 1056 2328  Q 1056 1369 1301 889  Q 1547 409 2034 409  Q 2525 409 2770 889  Q 3016 1369 3016 2328  Q 3016 3291 2770 3770  Q 2525 4250 2034 4250  z M 2034 4750  Q 2819 4750 3233 4129  Q 3647 3509 3647 2328  Q 3647 1150 3233 529  Q 2819 -91 2034 -91  Q 1250 -91 836 529  Q 422 1150 422 2328  Q 422 3509 836 4129  Q 1250 4750 2034 4750  z \" transform=\"scale(0.015625)\" />\n        <path id=\"DejaVuSans-2e\" d=\"M 684 794  L 1344 794  L 1344 0  L 684 0  L 684 794  z \" transform=\"scale(0.015625)\" />\n       </defs>\n       <use xlink:href=\"#DejaVuSans-30\" />\n       <use xlink:href=\"#DejaVuSans-2e\" x=\"63.623047\" />\n       <use xlink:href=\"#DejaVuSans-30\" x=\"95.410156\" />\n      </g>\n     </g>\n    </g>\n    <g id=\"xtick_2\">\n     <g id=\"line2d_2\">\n      <g>\n       <use xlink:href=\"#md86825ee30\" x=\"114.34\" y=\"83.16\" style=\"fill: #262626; stroke: #262626; stroke-width: 0.3\" />\n      </g>\n     </g>\n     <g id=\"text_2\">\n      \n      <g style=\"fill: #444443\" transform=\"translate(107.97875 100.73875) scale(0.08 -0.08)\">\n       <defs>\n        <path id=\"DejaVuSans-35\" d=\"M 691 4666  L 3169 4666  L 3169 4134  L 1269 4134  L 1269 2991  Q 1406 3038 1543 3061  Q 1681 3084 1819 3084  Q 2600 3084 3056 2656  Q 3513 2228 3513 1497  Q 3513 744 3044 326  Q 2575 -91 1722 -91  Q 1428 -91 1123 -41  Q 819 9 494 109  L 494 744  Q 775 591 1075 516  Q 1375 441 1709 441  Q 2250 441 2565 725  Q 2881 1009 2881 1497  Q 2881 1984 2565 2268  Q 2250 2553 1709 2553  Q 1456 2553 1204 2497  Q 953 2441 691 2322  L 691 4666  z \" transform=\"scale(0.015625)\" />\n       </defs>\n       <use xlink:href=\"#DejaVuSans-30\" />\n       <use xlink:href=\"#DejaVuSans-2e\" x=\"63.623047\" />\n       <use xlink:href=\"#DejaVuSans-35\" x=\"95.410156\" />\n      </g>\n     </g>\n    </g>\n    <g id=\"xtick_3\">\n     <g id=\"line2d_3\">\n      <g>\n       <use xlink:href=\"#md86825ee30\" x=\"190.397826\" y=\"83.16\" style=\"fill: #262626; stroke: #262626; stroke-width: 0.3\" />\n      </g>\n     </g>\n     <g id=\"text_3\">\n      \n      <g style=\"fill: #444443\" transform=\"translate(184.036576 100.73875) scale(0.08 -0.08)\">\n       <defs>\n        <path id=\"DejaVuSans-31\" d=\"M 794 531  L 1825 531  L 1825 4091  L 703 3866  L 703 4441  L 1819 4666  L 2450 4666  L 2450 531  L 3481 531  L 3481 0  L 794 0  L 794 531  z \" transform=\"scale(0.015625)\" />\n       </defs>\n       <use xlink:href=\"#DejaVuSans-31\" />\n       <use xlink:href=\"#DejaVuSans-2e\" x=\"63.623047\" />\n       <use xlink:href=\"#DejaVuSans-30\" x=\"95.410156\" />\n      </g>\n     </g>\n    </g>\n    <g id=\"text_4\">\n     \n     <g style=\"fill: #444443\" transform=\"translate(103.392812 115.520625) scale(0.12 -0.12)\">\n      <defs>\n       <path id=\"DejaVuSans-53\" d=\"M 3425 4513  L 3425 3897  Q 3066 4069 2747 4153  Q 2428 4238 2131 4238  Q 1616 4238 1336 4038  Q 1056 3838 1056 3469  Q 1056 3159 1242 3001  Q 1428 2844 1947 2747  L 2328 2669  Q 3034 2534 3370 2195  Q 3706 1856 3706 1288  Q 3706 609 3251 259  Q 2797 -91 1919 -91  Q 1588 -91 1214 -16  Q 841 59 441 206  L 441 856  Q 825 641 1194 531  Q 1563 422 1919 422  Q 2459 422 2753 634  Q 3047 847 3047 1241  Q 3047 1584 2836 1778  Q 2625 1972 2144 2069  L 1759 2144  Q 1053 2284 737 2584  Q 422 2884 422 3419  Q 422 4038 858 4394  Q 1294 4750 2059 4750  Q 2388 4750 2728 4690  Q 3069 4631 3425 4513  z \" transform=\"scale(0.015625)\" />\n       <path id=\"DejaVuSans-65\" d=\"M 3597 1894  L 3597 1613  L 953 1613  Q 991 1019 1311 708  Q 1631 397 2203 397  Q 2534 397 2845 478  Q 3156 559 3463 722  L 3463 178  Q 3153 47 2828 -22  Q 2503 -91 2169 -91  Q 1331 -91 842 396  Q 353 884 353 1716  Q 353 2575 817 3079  Q 1281 3584 2069 3584  Q 2775 3584 3186 3129  Q 3597 2675 3597 1894  z M 3022 2063  Q 3016 2534 2758 2815  Q 2500 3097 2075 3097  Q 1594 3097 1305 2825  Q 1016 2553 972 2059  L 3022 2063  z \" transform=\"scale(0.015625)\" />\n       <path id=\"DejaVuSans-78\" d=\"M 3513 3500  L 2247 1797  L 3578 0  L 2900 0  L 1881 1375  L 863 0  L 184 0  L 1544 1831  L 300 3500  L 978 3500  L 1906 2253  L 2834 3500  L 3513 3500  z \" transform=\"scale(0.015625)\" />\n      </defs>\n      <use xlink:href=\"#DejaVuSans-53\" />\n      <use xlink:href=\"#DejaVuSans-65\" x=\"63.476562\" />\n      <use xlink:href=\"#DejaVuSans-78\" x=\"123.25\" />\n     </g>\n    </g>\n   </g>\n   <g id=\"matplotlib.axis_2\">\n    <g id=\"ytick_1\">\n     <g id=\"line2d_4\">\n      <defs>\n       <path id=\"m5a1351f002\" d=\"M 0 0  L -3.5 0  \" style=\"stroke: #262626; stroke-width: 0.3\" />\n      </defs>\n      <g>\n       <use xlink:href=\"#m5a1351f002\" x=\"22.27\" y=\"83.16\" style=\"fill: #262626; stroke: #262626; stroke-width: 0.3\" />\n      </g>\n     </g>\n     <g id=\"text_5\">\n      \n      <g style=\"fill: #444443\" transform=\"translate(10.18 86.199375) scale(0.08 -0.08)\">\n       <use xlink:href=\"#DejaVuSans-30\" />\n      </g>\n     </g>\n    </g>\n    <g id=\"ytick_2\">\n     <g id=\"line2d_5\">\n      <g>\n       <use xlink:href=\"#m5a1351f002\" x=\"22.27\" y=\"3.96\" style=\"fill: #262626; stroke: #262626; stroke-width: 0.3\" />\n      </g>\n     </g>\n     <g id=\"text_6\">\n      \n      <g style=\"fill: #444443\" transform=\"translate(0 6.999375) scale(0.08 -0.08)\">\n       <defs>\n        <path id=\"DejaVuSans-37\" d=\"M 525 4666  L 3525 4666  L 3525 4397  L 1831 0  L 1172 0  L 2766 4134  L 525 4134  L 525 4666  z \" transform=\"scale(0.015625)\" />\n       </defs>\n       <use xlink:href=\"#DejaVuSans-35\" />\n       <use xlink:href=\"#DejaVuSans-37\" x=\"63.623047\" />\n       <use xlink:href=\"#DejaVuSans-37\" x=\"127.246094\" />\n      </g>\n     </g>\n    </g>\n   </g>\n   <g id=\"patch_3\">\n    <path d=\"M 38.282174 83.16  L 46.288261 83.16  L 46.288261 18.921525  L 38.282174 18.921525  z \" clip-path=\"url(#pa0abf45817)\" style=\"fill: #fefebb; stroke: #444443; stroke-width: 0.5; stroke-linejoin: miter\" />\n   </g>\n   <g id=\"patch_4\">\n    <path d=\"M 46.288261 83.16  L 54.294348 83.16  L 54.294348 83.16  L 46.288261 83.16  z \" clip-path=\"url(#pa0abf45817)\" style=\"fill: #fefebb; stroke: #444443; stroke-width: 0.5; stroke-linejoin: miter\" />\n   </g>\n   <g id=\"patch_5\">\n    <path d=\"M 54.294348 83.16  L 62.300435 83.16  L 62.300435 83.16  L 54.294348 83.16  z \" clip-path=\"url(#pa0abf45817)\" style=\"fill: #fefebb; stroke: #444443; stroke-width: 0.5; stroke-linejoin: miter\" />\n   </g>\n   <g id=\"patch_6\">\n    <path d=\"M 62.300435 83.16  L 70.306522 83.16  L 70.306522 83.16  L 62.300435 83.16  z \" clip-path=\"url(#pa0abf45817)\" style=\"fill: #fefebb; stroke: #444443; stroke-width: 0.5; stroke-linejoin: miter\" />\n   </g>\n   <g id=\"patch_7\">\n    <path d=\"M 70.306522 83.16  L 78.312609 83.16  L 78.312609 83.16  L 70.306522 83.16  z \" clip-path=\"url(#pa0abf45817)\" style=\"fill: #fefebb; stroke: #444443; stroke-width: 0.5; stroke-linejoin: miter\" />\n   </g>\n   <g id=\"patch_8\">\n    <path d=\"M 78.312609 83.16  L 86.318696 83.16  L 86.318696 83.16  L 78.312609 83.16  z \" clip-path=\"url(#pa0abf45817)\" style=\"fill: #fefebb; stroke: #444443; stroke-width: 0.5; stroke-linejoin: miter\" />\n   </g>\n   <g id=\"patch_9\">\n    <path d=\"M 86.318696 83.16  L 94.324783 83.16  L 94.324783 83.16  L 86.318696 83.16  z \" clip-path=\"url(#pa0abf45817)\" style=\"fill: #fefebb; stroke: #444443; stroke-width: 0.5; stroke-linejoin: miter\" />\n   </g>\n   <g id=\"patch_10\">\n    <path d=\"M 94.324783 83.16  L 102.33087 83.16  L 102.33087 83.16  L 94.324783 83.16  z \" clip-path=\"url(#pa0abf45817)\" style=\"fill: #fefebb; stroke: #444443; stroke-width: 0.5; stroke-linejoin: miter\" />\n   </g>\n   <g id=\"patch_11\">\n    <path d=\"M 102.33087 83.16  L 110.336957 83.16  L 110.336957 83.16  L 102.33087 83.16  z \" clip-path=\"url(#pa0abf45817)\" style=\"fill: #fefebb; stroke: #444443; stroke-width: 0.5; stroke-linejoin: miter\" />\n   </g>\n   <g id=\"patch_12\">\n    <path d=\"M 110.336957 83.16  L 118.343043 83.16  L 118.343043 83.16  L 110.336957 83.16  z \" clip-path=\"url(#pa0abf45817)\" style=\"fill: #fefebb; stroke: #444443; stroke-width: 0.5; stroke-linejoin: miter\" />\n   </g>\n   <g id=\"patch_13\">\n    <path d=\"M 118.343043 83.16  L 126.34913 83.16  L 126.34913 83.16  L 118.343043 83.16  z \" clip-path=\"url(#pa0abf45817)\" style=\"fill: #fefebb; stroke: #444443; stroke-width: 0.5; stroke-linejoin: miter\" />\n   </g>\n   <g id=\"patch_14\">\n    <path d=\"M 126.34913 83.16  L 134.355217 83.16  L 134.355217 83.16  L 126.34913 83.16  z \" clip-path=\"url(#pa0abf45817)\" style=\"fill: #fefebb; stroke: #444443; stroke-width: 0.5; stroke-linejoin: miter\" />\n   </g>\n   <g id=\"patch_15\">\n    <path d=\"M 134.355217 83.16  L 142.361304 83.16  L 142.361304 83.16  L 134.355217 83.16  z \" clip-path=\"url(#pa0abf45817)\" style=\"fill: #fefebb; stroke: #444443; stroke-width: 0.5; stroke-linejoin: miter\" />\n   </g>\n   <g id=\"patch_16\">\n    <path d=\"M 142.361304 83.16  L 150.367391 83.16  L 150.367391 83.16  L 142.361304 83.16  z \" clip-path=\"url(#pa0abf45817)\" style=\"fill: #fefebb; stroke: #444443; stroke-width: 0.5; stroke-linejoin: miter\" />\n   </g>\n   <g id=\"patch_17\">\n    <path d=\"M 150.367391 83.16  L 158.373478 83.16  L 158.373478 83.16  L 150.367391 83.16  z \" clip-path=\"url(#pa0abf45817)\" style=\"fill: #fefebb; stroke: #444443; stroke-width: 0.5; stroke-linejoin: miter\" />\n   </g>\n   <g id=\"patch_18\">\n    <path d=\"M 158.373478 83.16  L 166.379565 83.16  L 166.379565 83.16  L 158.373478 83.16  z \" clip-path=\"url(#pa0abf45817)\" style=\"fill: #fefebb; stroke: #444443; stroke-width: 0.5; stroke-linejoin: miter\" />\n   </g>\n   <g id=\"patch_19\">\n    <path d=\"M 166.379565 83.16  L 174.385652 83.16  L 174.385652 83.16  L 166.379565 83.16  z \" clip-path=\"url(#pa0abf45817)\" style=\"fill: #fefebb; stroke: #444443; stroke-width: 0.5; stroke-linejoin: miter\" />\n   </g>\n   <g id=\"patch_20\">\n    <path d=\"M 174.385652 83.16  L 182.391739 83.16  L 182.391739 83.16  L 174.385652 83.16  z \" clip-path=\"url(#pa0abf45817)\" style=\"fill: #fefebb; stroke: #444443; stroke-width: 0.5; stroke-linejoin: miter\" />\n   </g>\n   <g id=\"patch_21\">\n    <path d=\"M 182.391739 83.16  L 190.397826 83.16  L 190.397826 72.041802  L 182.391739 72.041802  z \" clip-path=\"url(#pa0abf45817)\" style=\"fill: #fefebb; stroke: #444443; stroke-width: 0.5; stroke-linejoin: miter\" />\n   </g>\n   <g id=\"patch_22\">\n    <path d=\"M 38.282174 18.921525  L 46.288261 18.921525  L 46.288261 3.96  L 38.282174 3.96  z \" clip-path=\"url(#pa0abf45817)\" style=\"fill: #a1dab4; stroke: #444443; stroke-width: 0.5; stroke-linejoin: miter\" />\n   </g>\n   <g id=\"patch_23\">\n    <path d=\"M 46.288261 83.16  L 54.294348 83.16  L 54.294348 83.16  L 46.288261 83.16  z \" clip-path=\"url(#pa0abf45817)\" style=\"fill: #a1dab4; stroke: #444443; stroke-width: 0.5; stroke-linejoin: miter\" />\n   </g>\n   <g id=\"patch_24\">\n    <path d=\"M 54.294348 83.16  L 62.300435 83.16  L 62.300435 83.16  L 54.294348 83.16  z \" clip-path=\"url(#pa0abf45817)\" style=\"fill: #a1dab4; stroke: #444443; stroke-width: 0.5; stroke-linejoin: miter\" />\n   </g>\n   <g id=\"patch_25\">\n    <path d=\"M 62.300435 83.16  L 70.306522 83.16  L 70.306522 83.16  L 62.300435 83.16  z \" clip-path=\"url(#pa0abf45817)\" style=\"fill: #a1dab4; stroke: #444443; stroke-width: 0.5; stroke-linejoin: miter\" />\n   </g>\n   <g id=\"patch_26\">\n    <path d=\"M 70.306522 83.16  L 78.312609 83.16  L 78.312609 83.16  L 70.306522 83.16  z \" clip-path=\"url(#pa0abf45817)\" style=\"fill: #a1dab4; stroke: #444443; stroke-width: 0.5; stroke-linejoin: miter\" />\n   </g>\n   <g id=\"patch_27\">\n    <path d=\"M 78.312609 83.16  L 86.318696 83.16  L 86.318696 83.16  L 78.312609 83.16  z \" clip-path=\"url(#pa0abf45817)\" style=\"fill: #a1dab4; stroke: #444443; stroke-width: 0.5; stroke-linejoin: miter\" />\n   </g>\n   <g id=\"patch_28\">\n    <path d=\"M 86.318696 83.16  L 94.324783 83.16  L 94.324783 83.16  L 86.318696 83.16  z \" clip-path=\"url(#pa0abf45817)\" style=\"fill: #a1dab4; stroke: #444443; stroke-width: 0.5; stroke-linejoin: miter\" />\n   </g>\n   <g id=\"patch_29\">\n    <path d=\"M 94.324783 83.16  L 102.33087 83.16  L 102.33087 83.16  L 94.324783 83.16  z \" clip-path=\"url(#pa0abf45817)\" style=\"fill: #a1dab4; stroke: #444443; stroke-width: 0.5; stroke-linejoin: miter\" />\n   </g>\n   <g id=\"patch_30\">\n    <path d=\"M 102.33087 83.16  L 110.336957 83.16  L 110.336957 83.16  L 102.33087 83.16  z \" clip-path=\"url(#pa0abf45817)\" style=\"fill: #a1dab4; stroke: #444443; stroke-width: 0.5; stroke-linejoin: miter\" />\n   </g>\n   <g id=\"patch_31\">\n    <path d=\"M 110.336957 83.16  L 118.343043 83.16  L 118.343043 83.16  L 110.336957 83.16  z \" clip-path=\"url(#pa0abf45817)\" style=\"fill: #a1dab4; stroke: #444443; stroke-width: 0.5; stroke-linejoin: miter\" />\n   </g>\n   <g id=\"patch_32\">\n    <path d=\"M 118.343043 83.16  L 126.34913 83.16  L 126.34913 83.16  L 118.343043 83.16  z \" clip-path=\"url(#pa0abf45817)\" style=\"fill: #a1dab4; stroke: #444443; stroke-width: 0.5; stroke-linejoin: miter\" />\n   </g>\n   <g id=\"patch_33\">\n    <path d=\"M 126.34913 83.16  L 134.355217 83.16  L 134.355217 83.16  L 126.34913 83.16  z \" clip-path=\"url(#pa0abf45817)\" style=\"fill: #a1dab4; stroke: #444443; stroke-width: 0.5; stroke-linejoin: miter\" />\n   </g>\n   <g id=\"patch_34\">\n    <path d=\"M 134.355217 83.16  L 142.361304 83.16  L 142.361304 83.16  L 134.355217 83.16  z \" clip-path=\"url(#pa0abf45817)\" style=\"fill: #a1dab4; stroke: #444443; stroke-width: 0.5; stroke-linejoin: miter\" />\n   </g>\n   <g id=\"patch_35\">\n    <path d=\"M 142.361304 83.16  L 150.367391 83.16  L 150.367391 83.16  L 142.361304 83.16  z \" clip-path=\"url(#pa0abf45817)\" style=\"fill: #a1dab4; stroke: #444443; stroke-width: 0.5; stroke-linejoin: miter\" />\n   </g>\n   <g id=\"patch_36\">\n    <path d=\"M 150.367391 83.16  L 158.373478 83.16  L 158.373478 83.16  L 150.367391 83.16  z \" clip-path=\"url(#pa0abf45817)\" style=\"fill: #a1dab4; stroke: #444443; stroke-width: 0.5; stroke-linejoin: miter\" />\n   </g>\n   <g id=\"patch_37\">\n    <path d=\"M 158.373478 83.16  L 166.379565 83.16  L 166.379565 83.16  L 158.373478 83.16  z \" clip-path=\"url(#pa0abf45817)\" style=\"fill: #a1dab4; stroke: #444443; stroke-width: 0.5; stroke-linejoin: miter\" />\n   </g>\n   <g id=\"patch_38\">\n    <path d=\"M 166.379565 83.16  L 174.385652 83.16  L 174.385652 83.16  L 166.379565 83.16  z \" clip-path=\"url(#pa0abf45817)\" style=\"fill: #a1dab4; stroke: #444443; stroke-width: 0.5; stroke-linejoin: miter\" />\n   </g>\n   <g id=\"patch_39\">\n    <path d=\"M 174.385652 83.16  L 182.391739 83.16  L 182.391739 83.16  L 174.385652 83.16  z \" clip-path=\"url(#pa0abf45817)\" style=\"fill: #a1dab4; stroke: #444443; stroke-width: 0.5; stroke-linejoin: miter\" />\n   </g>\n   <g id=\"patch_40\">\n    <path d=\"M 182.391739 72.041802  L 190.397826 72.041802  L 190.397826 40.059827  L 182.391739 40.059827  z \" clip-path=\"url(#pa0abf45817)\" style=\"fill: #a1dab4; stroke: #444443; stroke-width: 0.5; stroke-linejoin: miter\" />\n   </g>\n   <g id=\"patch_41\">\n    <path d=\"M 114.34 83.9916  L 111.02548 92.3076  L 117.65452 92.3076  z \" style=\"fill: #444443; stroke: #ffffff; stroke-linejoin: miter\" />\n   </g>\n   <g id=\"patch_42\">\n    <path d=\"M 22.27 83.16  L 22.27 0  \" style=\"fill: none; stroke: #444443; stroke-width: 0.3; stroke-linejoin: miter; stroke-linecap: square\" />\n   </g>\n   <g id=\"patch_43\">\n    <path d=\"M 22.27 83.16  L 206.41 83.16  \" style=\"fill: none; stroke: #444443; stroke-width: 0.3; stroke-linejoin: miter; stroke-linecap: square\" />\n   </g>\n  </g>\n </g>\n <defs>\n  <clipPath id=\"pa0abf45817\">\n   <rect x=\"22.27\" y=\"-0\" width=\"184.14\" height=\"83.16\" />\n  </clipPath>\n </defs>\n</svg></g>\n\n<g id=\"edge7\" class=\"edge\">\n<title>node0-&gt;node1</title>\n<path fill=\"none\" stroke=\"#444443\" stroke-width=\"0.3\" d=\"M129.59,-190.98C121.97,-181.65 114.13,-172.06 107.04,-163.38\" />\n<polygon fill=\"#444443\" stroke=\"#444443\" stroke-width=\"0.3\" points=\"108.08,-162.44 104.46,-160.22 105.91,-164.21 108.08,-162.44\" />\n<text text-anchor=\"start\" x=\"122\" y=\"-171.8\" font-family=\"sans-serif\" font-size=\"14.00\" fill=\"#444443\"> &#160;&#8804;</text>\n</g>\n\n<g id=\"edge8\" class=\"edge\">\n<title>node0-&gt;node4</title>\n<path fill=\"none\" stroke=\"#444443\" stroke-width=\"0.3\" d=\"M207.3,-190.98C215.51,-181.15 223.96,-171.04 231.51,-162\" />\n<polygon fill=\"#444443\" stroke=\"#444443\" stroke-width=\"0.3\" points=\"232.76,-162.69 234.25,-158.72 230.61,-160.89 232.76,-162.69\" />\n<text text-anchor=\"start\" x=\"226\" y=\"-171.8\" font-family=\"sans-serif\" font-size=\"14.00\" fill=\"#444443\"> &#160;&gt;</text>\n</g>\n\n\n\n<g id=\"node8\" class=\"node\">\n<title>legend</title>\n<polygon fill=\"none\" stroke=\"black\" stroke-width=\"0\" points=\"313.5,-263.5 256.5,-263.5 256.5,-214.5 313.5,-214.5 313.5,-263.5\" />\n<svg width=\"53px\" height=\"45px\" viewBox=\"0 0 70.657813 60.034375\" version=\"1.1\" preserveAspectRatio=\"xMinYMin meet\" x=\"259\" y=\"-261\">\n <metadata>\n  <rdf:RDF>\n   <ns2:Work>\n    <dc:type rdf:resource=\"http://purl.org/dc/dcmitype/StillImage\" />\n    <dc:date>2023-11-02T12:34:41.868444</dc:date>\n    <dc:format>image/svg+xml</dc:format>\n    <dc:creator>\n     <ns2:Agent>\n      <dc:title>Matplotlib v3.7.1, https://matplotlib.org/</dc:title>\n     </ns2:Agent>\n    </dc:creator>\n   </ns2:Work>\n  </rdf:RDF>\n </metadata>\n <defs>\n  <style type=\"text/css\">*{stroke-linejoin: round; stroke-linecap: butt}</style>\n </defs>\n <g id=\"figure_1\">\n  <g id=\"patch_1\">\n   <path d=\"M 0 60.034375  L 70.657813 60.034375  L 70.657813 0  L 0 0  z \" style=\"fill: #ffffff\" />\n  </g>\n  <g id=\"axes_1\">\n   <g id=\"legend_1\">\n    <g id=\"patch_2\">\n     <path d=\"M 2 60.034375  L 63.657813 60.034375  Q 65.657813 60.034375 65.657813 58.034375  L 65.657813 7  Q 65.657813 5 63.657813 5  L 2 5  Q 0 5 0 7  L 0 58.034375  Q 0 60.034375 2 60.034375  z \" style=\"fill: #ffffff; opacity: 0.8; stroke: #444443; stroke-width: 0.5; stroke-linejoin: miter\" />\n    </g>\n    <g id=\"text_1\">\n     \n     <g style=\"fill: #444443\" transform=\"translate(8 20.598438) scale(0.1 -0.1)\">\n      <defs>\n       <path id=\"DejaVuSans-Bold-53\" d=\"M 3834 4519  L 3834 3531  Q 3450 3703 3084 3790  Q 2719 3878 2394 3878  Q 1963 3878 1756 3759  Q 1550 3641 1550 3391  Q 1550 3203 1689 3098  Q 1828 2994 2194 2919  L 2706 2816  Q 3484 2659 3812 2340  Q 4141 2022 4141 1434  Q 4141 663 3683 286  Q 3225 -91 2284 -91  Q 1841 -91 1394 -6  Q 947 78 500 244  L 500 1259  Q 947 1022 1364 901  Q 1781 781 2169 781  Q 2563 781 2772 912  Q 2981 1044 2981 1288  Q 2981 1506 2839 1625  Q 2697 1744 2272 1838  L 1806 1941  Q 1106 2091 782 2419  Q 459 2747 459 3303  Q 459 4000 909 4375  Q 1359 4750 2203 4750  Q 2588 4750 2994 4692  Q 3400 4634 3834 4519  z \" transform=\"scale(0.015625)\" />\n       <path id=\"DejaVuSans-Bold-75\" d=\"M 500 1363  L 500 3500  L 1625 3500  L 1625 3150  Q 1625 2866 1622 2436  Q 1619 2006 1619 1863  Q 1619 1441 1641 1255  Q 1663 1069 1716 984  Q 1784 875 1895 815  Q 2006 756 2150 756  Q 2500 756 2700 1025  Q 2900 1294 2900 1772  L 2900 3500  L 4019 3500  L 4019 0  L 2900 0  L 2900 506  Q 2647 200 2364 54  Q 2081 -91 1741 -91  Q 1134 -91 817 281  Q 500 653 500 1363  z \" transform=\"scale(0.015625)\" />\n       <path id=\"DejaVuSans-Bold-72\" d=\"M 3138 2547  Q 2991 2616 2845 2648  Q 2700 2681 2553 2681  Q 2122 2681 1889 2404  Q 1656 2128 1656 1613  L 1656 0  L 538 0  L 538 3500  L 1656 3500  L 1656 2925  Q 1872 3269 2151 3426  Q 2431 3584 2822 3584  Q 2878 3584 2943 3579  Q 3009 3575 3134 3559  L 3138 2547  z \" transform=\"scale(0.015625)\" />\n       <path id=\"DejaVuSans-Bold-76\" d=\"M 97 3500  L 1216 3500  L 2088 1081  L 2956 3500  L 4078 3500  L 2700 0  L 1472 0  L 97 3500  z \" transform=\"scale(0.015625)\" />\n       <path id=\"DejaVuSans-Bold-69\" d=\"M 538 3500  L 1656 3500  L 1656 0  L 538 0  L 538 3500  z M 538 4863  L 1656 4863  L 1656 3950  L 538 3950  L 538 4863  z \" transform=\"scale(0.015625)\" />\n       <path id=\"DejaVuSans-Bold-65\" d=\"M 4031 1759  L 4031 1441  L 1416 1441  Q 1456 1047 1700 850  Q 1944 653 2381 653  Q 2734 653 3104 758  Q 3475 863 3866 1075  L 3866 213  Q 3469 63 3072 -14  Q 2675 -91 2278 -91  Q 1328 -91 801 392  Q 275 875 275 1747  Q 275 2603 792 3093  Q 1309 3584 2216 3584  Q 3041 3584 3536 3087  Q 4031 2591 4031 1759  z M 2881 2131  Q 2881 2450 2695 2645  Q 2509 2841 2209 2841  Q 1884 2841 1681 2658  Q 1478 2475 1428 2131  L 2881 2131  z \" transform=\"scale(0.015625)\" />\n       <path id=\"DejaVuSans-Bold-64\" d=\"M 2919 2988  L 2919 4863  L 4044 4863  L 4044 0  L 2919 0  L 2919 506  Q 2688 197 2409 53  Q 2131 -91 1766 -91  Q 1119 -91 703 423  Q 288 938 288 1747  Q 288 2556 703 3070  Q 1119 3584 1766 3584  Q 2128 3584 2408 3439  Q 2688 3294 2919 2988  z M 2181 722  Q 2541 722 2730 984  Q 2919 1247 2919 1747  Q 2919 2247 2730 2509  Q 2541 2772 2181 2772  Q 1825 2772 1636 2509  Q 1447 2247 1447 1747  Q 1447 1247 1636 984  Q 1825 722 2181 722  z \" transform=\"scale(0.015625)\" />\n      </defs>\n      <use xlink:href=\"#DejaVuSans-Bold-53\" />\n      <use xlink:href=\"#DejaVuSans-Bold-75\" x=\"72.021484\" />\n      <use xlink:href=\"#DejaVuSans-Bold-72\" x=\"143.212891\" />\n      <use xlink:href=\"#DejaVuSans-Bold-76\" x=\"192.529297\" />\n      <use xlink:href=\"#DejaVuSans-Bold-69\" x=\"257.714844\" />\n      <use xlink:href=\"#DejaVuSans-Bold-76\" x=\"291.992188\" />\n      <use xlink:href=\"#DejaVuSans-Bold-65\" x=\"357.177734\" />\n      <use xlink:href=\"#DejaVuSans-Bold-64\" x=\"425\" />\n     </g>\n    </g>\n    <g id=\"patch_3\">\n     <path d=\"M 13.00625 35.276563  L 33.00625 35.276563  L 33.00625 28.276563  L 13.00625 28.276563  z \" style=\"fill: #fefebb; stroke: #444443; stroke-width: 0.4; stroke-linejoin: miter\" />\n    </g>\n    <g id=\"text_2\">\n     \n     <g style=\"fill: #444443\" transform=\"translate(36.50625 35.276563) scale(0.1 -0.1)\">\n      <defs>\n       <path id=\"DejaVuSans-4e\" d=\"M 628 4666  L 1478 4666  L 3547 763  L 3547 4666  L 4159 4666  L 4159 0  L 3309 0  L 1241 3903  L 1241 0  L 628 0  L 628 4666  z \" transform=\"scale(0.015625)\" />\n       <path id=\"DejaVuSans-6f\" d=\"M 1959 3097  Q 1497 3097 1228 2736  Q 959 2375 959 1747  Q 959 1119 1226 758  Q 1494 397 1959 397  Q 2419 397 2687 759  Q 2956 1122 2956 1747  Q 2956 2369 2687 2733  Q 2419 3097 1959 3097  z M 1959 3584  Q 2709 3584 3137 3096  Q 3566 2609 3566 1747  Q 3566 888 3137 398  Q 2709 -91 1959 -91  Q 1206 -91 779 398  Q 353 888 353 1747  Q 353 2609 779 3096  Q 1206 3584 1959 3584  z \" transform=\"scale(0.015625)\" />\n      </defs>\n      <use xlink:href=\"#DejaVuSans-4e\" />\n      <use xlink:href=\"#DejaVuSans-6f\" x=\"74.804688\" />\n     </g>\n    </g>\n    <g id=\"patch_4\">\n     <path d=\"M 13.00625 49.954688  L 33.00625 49.954688  L 33.00625 42.954688  L 13.00625 42.954688  z \" style=\"fill: #a1dab4; stroke: #444443; stroke-width: 0.4; stroke-linejoin: miter\" />\n    </g>\n    <g id=\"text_3\">\n     \n     <g style=\"fill: #444443\" transform=\"translate(36.50625 49.954688) scale(0.1 -0.1)\">\n      <defs>\n       <path id=\"DejaVuSans-59\" d=\"M -13 4666  L 666 4666  L 1959 2747  L 3244 4666  L 3922 4666  L 2272 2222  L 2272 0  L 1638 0  L 1638 2222  L -13 4666  z \" transform=\"scale(0.015625)\" />\n       <path id=\"DejaVuSans-65\" d=\"M 3597 1894  L 3597 1613  L 953 1613  Q 991 1019 1311 708  Q 1631 397 2203 397  Q 2534 397 2845 478  Q 3156 559 3463 722  L 3463 178  Q 3153 47 2828 -22  Q 2503 -91 2169 -91  Q 1331 -91 842 396  Q 353 884 353 1716  Q 353 2575 817 3079  Q 1281 3584 2069 3584  Q 2775 3584 3186 3129  Q 3597 2675 3597 1894  z M 3022 2063  Q 3016 2534 2758 2815  Q 2500 3097 2075 3097  Q 1594 3097 1305 2825  Q 1016 2553 972 2059  L 3022 2063  z \" transform=\"scale(0.015625)\" />\n       <path id=\"DejaVuSans-73\" d=\"M 2834 3397  L 2834 2853  Q 2591 2978 2328 3040  Q 2066 3103 1784 3103  Q 1356 3103 1142 2972  Q 928 2841 928 2578  Q 928 2378 1081 2264  Q 1234 2150 1697 2047  L 1894 2003  Q 2506 1872 2764 1633  Q 3022 1394 3022 966  Q 3022 478 2636 193  Q 2250 -91 1575 -91  Q 1294 -91 989 -36  Q 684 19 347 128  L 347 722  Q 666 556 975 473  Q 1284 391 1588 391  Q 1994 391 2212 530  Q 2431 669 2431 922  Q 2431 1156 2273 1281  Q 2116 1406 1581 1522  L 1381 1569  Q 847 1681 609 1914  Q 372 2147 372 2553  Q 372 3047 722 3315  Q 1072 3584 1716 3584  Q 2034 3584 2315 3537  Q 2597 3491 2834 3397  z \" transform=\"scale(0.015625)\" />\n      </defs>\n      <use xlink:href=\"#DejaVuSans-59\" />\n      <use xlink:href=\"#DejaVuSans-65\" x=\"47.833984\" />\n      <use xlink:href=\"#DejaVuSans-73\" x=\"109.357422\" />\n     </g>\n    </g>\n   </g>\n  </g>\n </g>\n</svg></g>\n</g>\n</svg>"
          },
          "metadata": {},
          "execution_count": 38
        }
      ]
    },
    {
      "cell_type": "markdown",
      "source": [
        "## Exercises - Your Turn"
      ],
      "metadata": {
        "id": "3YWMXeh_He7t"
      }
    },
    {
      "cell_type": "markdown",
      "source": [
        "* Experiment with trees with different configurations, using hyper-parameters such as `max_depth`, `min_samples_split`, and `min_samples_leaf`. Make use of grid search for hyper-parameter search.\n",
        "\n",
        "* For each, do a quick analysis of accuracy on train and test. If promising, you might want to go deeper and visualise the tree with `export_text` or `dtreeviz`, and use a confusion matrix for a better understanding of the model's performance.\n",
        "\n",
        "* Make use of cross validation for the measurement of the accuracy of models on the training data.\n",
        "\n",
        "* Use this week's lecture as inspiration for looking into the ranking of results and, together with the graphical representation of the tree, make a justified decision for one or more of the tree models built."
      ],
      "metadata": {
        "id": "sGVvO9ohHjAI"
      }
    },
    {
      "cell_type": "code",
      "source": [],
      "metadata": {
        "id": "IDEC8YWvI0u7"
      },
      "execution_count": 38,
      "outputs": []
    },
    {
      "cell_type": "markdown",
      "source": [
        "**Cross validation**"
      ],
      "metadata": {
        "id": "cHf36Gj6_fuS"
      }
    },
    {
      "cell_type": "code",
      "source": [
        "dtt = DecisionTreeClassifier(max_depth=3)\n",
        "dtt.fit(X_train, y_train)\n",
        "print(\n",
        "    balanced_accuracy_score(y_train, dtt.predict(X_train)),\n",
        "    balanced_accuracy_score(y_test, dtt.predict(X_test))\n",
        ")"
      ],
      "metadata": {
        "id": "q63BSMn7Aj28",
        "outputId": "3ec3ce5a-1dc9-450f-d94a-3d20bb005842",
        "colab": {
          "base_uri": "https://localhost:8080/"
        }
      },
      "execution_count": 39,
      "outputs": [
        {
          "output_type": "stream",
          "name": "stdout",
          "text": [
            "0.8160616373605596 0.8007022953066119\n"
          ]
        }
      ]
    },
    {
      "cell_type": "code",
      "source": [
        "from sklearn.model_selection import cross_val_score"
      ],
      "metadata": {
        "id": "idtwLiGY_jxS"
      },
      "execution_count": 40,
      "outputs": []
    },
    {
      "cell_type": "code",
      "source": [
        "scores = cross_val_score(dtt, X, y, cv=5)\n",
        "scores.mean(), scores.std()"
      ],
      "metadata": {
        "id": "Fc9oVutm__pM",
        "outputId": "837b09ea-6c37-40a8-bf27-65ada7638019",
        "colab": {
          "base_uri": "https://localhost:8080/"
        }
      },
      "execution_count": 41,
      "outputs": [
        {
          "output_type": "execute_result",
          "data": {
            "text/plain": [
              "(0.8114430983616849, 0.012674341383654898)"
            ]
          },
          "metadata": {},
          "execution_count": 41
        }
      ]
    },
    {
      "cell_type": "code",
      "source": [
        "scores = cross_val_score(dtt, X, y, cv=10)\n",
        "scores.mean(), scores.std()"
      ],
      "metadata": {
        "id": "bIn0kQ2iAHij",
        "outputId": "7fb0073b-c6cc-4b81-d5dc-cd8638f1c5c5",
        "colab": {
          "base_uri": "https://localhost:8080/"
        }
      },
      "execution_count": 42,
      "outputs": [
        {
          "output_type": "execute_result",
          "data": {
            "text/plain": [
              "(0.8137078651685392, 0.02970120104077843)"
            ]
          },
          "metadata": {},
          "execution_count": 42
        }
      ]
    },
    {
      "cell_type": "markdown",
      "source": [
        "**Hyper-Parameter Search with Grid Search**"
      ],
      "metadata": {
        "id": "ZmE-KH_v8wIj"
      }
    },
    {
      "cell_type": "code",
      "source": [
        "param_grid = {\n",
        "    'max_depth': [ 1, 3, 4, 8 ],\n",
        "    'min_samples_leaf': [ 10, 20, 30 ]\n",
        "}"
      ],
      "metadata": {
        "id": "0B0Mjhqh83A5"
      },
      "execution_count": 43,
      "outputs": []
    },
    {
      "cell_type": "code",
      "source": [
        "from sklearn.model_selection import ParameterGrid\n",
        "# this is the Parameter Grid of the above: all possible combinations of the values\n",
        "# of the two hyper-parameters (4 max_depth x 3 min_sample_leaf = 12 configuration)\n",
        "list(ParameterGrid(param_grid))"
      ],
      "metadata": {
        "id": "dN2KFj8x9IO7",
        "outputId": "3c81ee01-dc39-4ec8-8ccd-1a69940e144c",
        "colab": {
          "base_uri": "https://localhost:8080/"
        }
      },
      "execution_count": 44,
      "outputs": [
        {
          "output_type": "execute_result",
          "data": {
            "text/plain": [
              "[{'max_depth': 1, 'min_samples_leaf': 10},\n",
              " {'max_depth': 1, 'min_samples_leaf': 20},\n",
              " {'max_depth': 1, 'min_samples_leaf': 30},\n",
              " {'max_depth': 3, 'min_samples_leaf': 10},\n",
              " {'max_depth': 3, 'min_samples_leaf': 20},\n",
              " {'max_depth': 3, 'min_samples_leaf': 30},\n",
              " {'max_depth': 4, 'min_samples_leaf': 10},\n",
              " {'max_depth': 4, 'min_samples_leaf': 20},\n",
              " {'max_depth': 4, 'min_samples_leaf': 30},\n",
              " {'max_depth': 8, 'min_samples_leaf': 10},\n",
              " {'max_depth': 8, 'min_samples_leaf': 20},\n",
              " {'max_depth': 8, 'min_samples_leaf': 30}]"
            ]
          },
          "metadata": {},
          "execution_count": 44
        }
      ]
    },
    {
      "cell_type": "code",
      "source": [
        "from sklearn.model_selection import GridSearchCV"
      ],
      "metadata": {
        "id": "l9V3dpi49Sxh"
      },
      "execution_count": 45,
      "outputs": []
    },
    {
      "cell_type": "code",
      "source": [
        "# Instantiate gridsearch\n",
        "clf = GridSearchCV(dtt, param_grid, return_train_score=True)"
      ],
      "metadata": {
        "id": "o6YfS5C19u9L"
      },
      "execution_count": 46,
      "outputs": []
    },
    {
      "cell_type": "code",
      "source": [
        "# fit to data\n",
        "gs_results = clf.fit(X_train, y_train)"
      ],
      "metadata": {
        "id": "d_-gb89lBIws"
      },
      "execution_count": 47,
      "outputs": []
    },
    {
      "cell_type": "code",
      "source": [
        "# convert to dataframe\n",
        "gs_df = pd.DataFrame(gs_results.cv_results_)\n",
        "\n",
        "gs_df.columns"
      ],
      "metadata": {
        "id": "gUE-8p0cBbjF",
        "outputId": "64ad6ec8-0375-4cf5-9fe3-dc8b97b4aec4",
        "colab": {
          "base_uri": "https://localhost:8080/"
        }
      },
      "execution_count": 48,
      "outputs": [
        {
          "output_type": "execute_result",
          "data": {
            "text/plain": [
              "Index(['mean_fit_time', 'std_fit_time', 'mean_score_time', 'std_score_time',\n",
              "       'param_max_depth', 'param_min_samples_leaf', 'params',\n",
              "       'split0_test_score', 'split1_test_score', 'split2_test_score',\n",
              "       'split3_test_score', 'split4_test_score', 'mean_test_score',\n",
              "       'std_test_score', 'rank_test_score', 'split0_train_score',\n",
              "       'split1_train_score', 'split2_train_score', 'split3_train_score',\n",
              "       'split4_train_score', 'mean_train_score', 'std_train_score'],\n",
              "      dtype='object')"
            ]
          },
          "metadata": {},
          "execution_count": 48
        }
      ]
    },
    {
      "cell_type": "code",
      "source": [
        "gs_df.head(1)"
      ],
      "metadata": {
        "id": "ZBKPDLxgBrA6",
        "outputId": "9fb02b14-19d0-449b-c52e-c5b69bb8c8d8",
        "colab": {
          "base_uri": "https://localhost:8080/",
          "height": 165
        }
      },
      "execution_count": 49,
      "outputs": [
        {
          "output_type": "execute_result",
          "data": {
            "text/plain": [
              "   mean_fit_time  std_fit_time  mean_score_time  std_score_time  \\\n",
              "0       0.004033      0.001229         0.003777        0.001629   \n",
              "\n",
              "  param_max_depth param_min_samples_leaf  \\\n",
              "0               1                     10   \n",
              "\n",
              "                                     params  split0_test_score  \\\n",
              "0  {'max_depth': 1, 'min_samples_leaf': 10}           0.776119   \n",
              "\n",
              "   split1_test_score  split2_test_score  ...  mean_test_score  std_test_score  \\\n",
              "0           0.798507           0.776119  ...         0.788946        0.014158   \n",
              "\n",
              "   rank_test_score  split0_train_score  split1_train_score  \\\n",
              "0                8            0.792135            0.786517   \n",
              "\n",
              "   split2_train_score  split3_train_score  split4_train_score  \\\n",
              "0            0.792135            0.790654            0.783178   \n",
              "\n",
              "   mean_train_score  std_train_score  \n",
              "0          0.788924         0.003534  \n",
              "\n",
              "[1 rows x 22 columns]"
            ],
            "text/html": [
              "\n",
              "  <div id=\"df-79acd722-cdf1-40c3-8fba-80213d888462\" class=\"colab-df-container\">\n",
              "    <div>\n",
              "<style scoped>\n",
              "    .dataframe tbody tr th:only-of-type {\n",
              "        vertical-align: middle;\n",
              "    }\n",
              "\n",
              "    .dataframe tbody tr th {\n",
              "        vertical-align: top;\n",
              "    }\n",
              "\n",
              "    .dataframe thead th {\n",
              "        text-align: right;\n",
              "    }\n",
              "</style>\n",
              "<table border=\"1\" class=\"dataframe\">\n",
              "  <thead>\n",
              "    <tr style=\"text-align: right;\">\n",
              "      <th></th>\n",
              "      <th>mean_fit_time</th>\n",
              "      <th>std_fit_time</th>\n",
              "      <th>mean_score_time</th>\n",
              "      <th>std_score_time</th>\n",
              "      <th>param_max_depth</th>\n",
              "      <th>param_min_samples_leaf</th>\n",
              "      <th>params</th>\n",
              "      <th>split0_test_score</th>\n",
              "      <th>split1_test_score</th>\n",
              "      <th>split2_test_score</th>\n",
              "      <th>...</th>\n",
              "      <th>mean_test_score</th>\n",
              "      <th>std_test_score</th>\n",
              "      <th>rank_test_score</th>\n",
              "      <th>split0_train_score</th>\n",
              "      <th>split1_train_score</th>\n",
              "      <th>split2_train_score</th>\n",
              "      <th>split3_train_score</th>\n",
              "      <th>split4_train_score</th>\n",
              "      <th>mean_train_score</th>\n",
              "      <th>std_train_score</th>\n",
              "    </tr>\n",
              "  </thead>\n",
              "  <tbody>\n",
              "    <tr>\n",
              "      <th>0</th>\n",
              "      <td>0.004033</td>\n",
              "      <td>0.001229</td>\n",
              "      <td>0.003777</td>\n",
              "      <td>0.001629</td>\n",
              "      <td>1</td>\n",
              "      <td>10</td>\n",
              "      <td>{'max_depth': 1, 'min_samples_leaf': 10}</td>\n",
              "      <td>0.776119</td>\n",
              "      <td>0.798507</td>\n",
              "      <td>0.776119</td>\n",
              "      <td>...</td>\n",
              "      <td>0.788946</td>\n",
              "      <td>0.014158</td>\n",
              "      <td>8</td>\n",
              "      <td>0.792135</td>\n",
              "      <td>0.786517</td>\n",
              "      <td>0.792135</td>\n",
              "      <td>0.790654</td>\n",
              "      <td>0.783178</td>\n",
              "      <td>0.788924</td>\n",
              "      <td>0.003534</td>\n",
              "    </tr>\n",
              "  </tbody>\n",
              "</table>\n",
              "<p>1 rows × 22 columns</p>\n",
              "</div>\n",
              "    <div class=\"colab-df-buttons\">\n",
              "\n",
              "  <div class=\"colab-df-container\">\n",
              "    <button class=\"colab-df-convert\" onclick=\"convertToInteractive('df-79acd722-cdf1-40c3-8fba-80213d888462')\"\n",
              "            title=\"Convert this dataframe to an interactive table.\"\n",
              "            style=\"display:none;\">\n",
              "\n",
              "  <svg xmlns=\"http://www.w3.org/2000/svg\" height=\"24px\" viewBox=\"0 -960 960 960\">\n",
              "    <path d=\"M120-120v-720h720v720H120Zm60-500h600v-160H180v160Zm220 220h160v-160H400v160Zm0 220h160v-160H400v160ZM180-400h160v-160H180v160Zm440 0h160v-160H620v160ZM180-180h160v-160H180v160Zm440 0h160v-160H620v160Z\"/>\n",
              "  </svg>\n",
              "    </button>\n",
              "\n",
              "  <style>\n",
              "    .colab-df-container {\n",
              "      display:flex;\n",
              "      gap: 12px;\n",
              "    }\n",
              "\n",
              "    .colab-df-convert {\n",
              "      background-color: #E8F0FE;\n",
              "      border: none;\n",
              "      border-radius: 50%;\n",
              "      cursor: pointer;\n",
              "      display: none;\n",
              "      fill: #1967D2;\n",
              "      height: 32px;\n",
              "      padding: 0 0 0 0;\n",
              "      width: 32px;\n",
              "    }\n",
              "\n",
              "    .colab-df-convert:hover {\n",
              "      background-color: #E2EBFA;\n",
              "      box-shadow: 0px 1px 2px rgba(60, 64, 67, 0.3), 0px 1px 3px 1px rgba(60, 64, 67, 0.15);\n",
              "      fill: #174EA6;\n",
              "    }\n",
              "\n",
              "    .colab-df-buttons div {\n",
              "      margin-bottom: 4px;\n",
              "    }\n",
              "\n",
              "    [theme=dark] .colab-df-convert {\n",
              "      background-color: #3B4455;\n",
              "      fill: #D2E3FC;\n",
              "    }\n",
              "\n",
              "    [theme=dark] .colab-df-convert:hover {\n",
              "      background-color: #434B5C;\n",
              "      box-shadow: 0px 1px 3px 1px rgba(0, 0, 0, 0.15);\n",
              "      filter: drop-shadow(0px 1px 2px rgba(0, 0, 0, 0.3));\n",
              "      fill: #FFFFFF;\n",
              "    }\n",
              "  </style>\n",
              "\n",
              "    <script>\n",
              "      const buttonEl =\n",
              "        document.querySelector('#df-79acd722-cdf1-40c3-8fba-80213d888462 button.colab-df-convert');\n",
              "      buttonEl.style.display =\n",
              "        google.colab.kernel.accessAllowed ? 'block' : 'none';\n",
              "\n",
              "      async function convertToInteractive(key) {\n",
              "        const element = document.querySelector('#df-79acd722-cdf1-40c3-8fba-80213d888462');\n",
              "        const dataTable =\n",
              "          await google.colab.kernel.invokeFunction('convertToInteractive',\n",
              "                                                    [key], {});\n",
              "        if (!dataTable) return;\n",
              "\n",
              "        const docLinkHtml = 'Like what you see? Visit the ' +\n",
              "          '<a target=\"_blank\" href=https://colab.research.google.com/notebooks/data_table.ipynb>data table notebook</a>'\n",
              "          + ' to learn more about interactive tables.';\n",
              "        element.innerHTML = '';\n",
              "        dataTable['output_type'] = 'display_data';\n",
              "        await google.colab.output.renderOutput(dataTable, element);\n",
              "        const docLink = document.createElement('div');\n",
              "        docLink.innerHTML = docLinkHtml;\n",
              "        element.appendChild(docLink);\n",
              "      }\n",
              "    </script>\n",
              "  </div>\n",
              "\n",
              "    </div>\n",
              "  </div>\n"
            ]
          },
          "metadata": {},
          "execution_count": 49
        }
      ]
    },
    {
      "cell_type": "code",
      "source": [
        "# sort performance metric\n",
        "\n",
        "gs_df[ [\n",
        "    'param_max_depth', 'param_min_samples_leaf',\n",
        "    'mean_train_score', 'std_train_score',\n",
        "    'mean_test_score', 'std_test_score', 'rank_test_score'\n",
        "] ].sort_values('rank_test_score')"
      ],
      "metadata": {
        "id": "R5uruSCAB-Zq",
        "outputId": "858c1d62-81bd-4562-ad06-562b09cadbcf",
        "colab": {
          "base_uri": "https://localhost:8080/",
          "height": 425
        }
      },
      "execution_count": 50,
      "outputs": [
        {
          "output_type": "execute_result",
          "data": {
            "text/plain": [
              "   param_max_depth param_min_samples_leaf  mean_train_score  std_train_score  \\\n",
              "3                3                     10          0.829338         0.006388   \n",
              "5                3                     30          0.809879         0.003318   \n",
              "8                4                     30          0.809879         0.003318   \n",
              "11               8                     30          0.809879         0.003318   \n",
              "6                4                     10          0.835324         0.007227   \n",
              "4                3                     20          0.818113         0.002267   \n",
              "9                8                     10          0.849172         0.008491   \n",
              "0                1                     10          0.788924         0.003534   \n",
              "1                1                     20          0.788924         0.003534   \n",
              "2                1                     30          0.788924         0.003534   \n",
              "7                4                     20          0.819236         0.002553   \n",
              "10               8                     20          0.819985         0.002152   \n",
              "\n",
              "    mean_test_score  std_test_score  rank_test_score  \n",
              "3          0.811458        0.035447                1  \n",
              "5          0.797890        0.008491                2  \n",
              "8          0.797890        0.008491                2  \n",
              "11         0.797890        0.008491                2  \n",
              "6          0.794973        0.043143                5  \n",
              "4          0.793401        0.019919                6  \n",
              "9          0.792032        0.061849                7  \n",
              "0          0.788946        0.014158                8  \n",
              "1          0.788946        0.014158                8  \n",
              "2          0.788946        0.014158                8  \n",
              "7          0.784446        0.035978               11  \n",
              "10         0.782954        0.034882               12  "
            ],
            "text/html": [
              "\n",
              "  <div id=\"df-2c620ea3-c86f-4e57-afd8-ec3b56230bc1\" class=\"colab-df-container\">\n",
              "    <div>\n",
              "<style scoped>\n",
              "    .dataframe tbody tr th:only-of-type {\n",
              "        vertical-align: middle;\n",
              "    }\n",
              "\n",
              "    .dataframe tbody tr th {\n",
              "        vertical-align: top;\n",
              "    }\n",
              "\n",
              "    .dataframe thead th {\n",
              "        text-align: right;\n",
              "    }\n",
              "</style>\n",
              "<table border=\"1\" class=\"dataframe\">\n",
              "  <thead>\n",
              "    <tr style=\"text-align: right;\">\n",
              "      <th></th>\n",
              "      <th>param_max_depth</th>\n",
              "      <th>param_min_samples_leaf</th>\n",
              "      <th>mean_train_score</th>\n",
              "      <th>std_train_score</th>\n",
              "      <th>mean_test_score</th>\n",
              "      <th>std_test_score</th>\n",
              "      <th>rank_test_score</th>\n",
              "    </tr>\n",
              "  </thead>\n",
              "  <tbody>\n",
              "    <tr>\n",
              "      <th>3</th>\n",
              "      <td>3</td>\n",
              "      <td>10</td>\n",
              "      <td>0.829338</td>\n",
              "      <td>0.006388</td>\n",
              "      <td>0.811458</td>\n",
              "      <td>0.035447</td>\n",
              "      <td>1</td>\n",
              "    </tr>\n",
              "    <tr>\n",
              "      <th>5</th>\n",
              "      <td>3</td>\n",
              "      <td>30</td>\n",
              "      <td>0.809879</td>\n",
              "      <td>0.003318</td>\n",
              "      <td>0.797890</td>\n",
              "      <td>0.008491</td>\n",
              "      <td>2</td>\n",
              "    </tr>\n",
              "    <tr>\n",
              "      <th>8</th>\n",
              "      <td>4</td>\n",
              "      <td>30</td>\n",
              "      <td>0.809879</td>\n",
              "      <td>0.003318</td>\n",
              "      <td>0.797890</td>\n",
              "      <td>0.008491</td>\n",
              "      <td>2</td>\n",
              "    </tr>\n",
              "    <tr>\n",
              "      <th>11</th>\n",
              "      <td>8</td>\n",
              "      <td>30</td>\n",
              "      <td>0.809879</td>\n",
              "      <td>0.003318</td>\n",
              "      <td>0.797890</td>\n",
              "      <td>0.008491</td>\n",
              "      <td>2</td>\n",
              "    </tr>\n",
              "    <tr>\n",
              "      <th>6</th>\n",
              "      <td>4</td>\n",
              "      <td>10</td>\n",
              "      <td>0.835324</td>\n",
              "      <td>0.007227</td>\n",
              "      <td>0.794973</td>\n",
              "      <td>0.043143</td>\n",
              "      <td>5</td>\n",
              "    </tr>\n",
              "    <tr>\n",
              "      <th>4</th>\n",
              "      <td>3</td>\n",
              "      <td>20</td>\n",
              "      <td>0.818113</td>\n",
              "      <td>0.002267</td>\n",
              "      <td>0.793401</td>\n",
              "      <td>0.019919</td>\n",
              "      <td>6</td>\n",
              "    </tr>\n",
              "    <tr>\n",
              "      <th>9</th>\n",
              "      <td>8</td>\n",
              "      <td>10</td>\n",
              "      <td>0.849172</td>\n",
              "      <td>0.008491</td>\n",
              "      <td>0.792032</td>\n",
              "      <td>0.061849</td>\n",
              "      <td>7</td>\n",
              "    </tr>\n",
              "    <tr>\n",
              "      <th>0</th>\n",
              "      <td>1</td>\n",
              "      <td>10</td>\n",
              "      <td>0.788924</td>\n",
              "      <td>0.003534</td>\n",
              "      <td>0.788946</td>\n",
              "      <td>0.014158</td>\n",
              "      <td>8</td>\n",
              "    </tr>\n",
              "    <tr>\n",
              "      <th>1</th>\n",
              "      <td>1</td>\n",
              "      <td>20</td>\n",
              "      <td>0.788924</td>\n",
              "      <td>0.003534</td>\n",
              "      <td>0.788946</td>\n",
              "      <td>0.014158</td>\n",
              "      <td>8</td>\n",
              "    </tr>\n",
              "    <tr>\n",
              "      <th>2</th>\n",
              "      <td>1</td>\n",
              "      <td>30</td>\n",
              "      <td>0.788924</td>\n",
              "      <td>0.003534</td>\n",
              "      <td>0.788946</td>\n",
              "      <td>0.014158</td>\n",
              "      <td>8</td>\n",
              "    </tr>\n",
              "    <tr>\n",
              "      <th>7</th>\n",
              "      <td>4</td>\n",
              "      <td>20</td>\n",
              "      <td>0.819236</td>\n",
              "      <td>0.002553</td>\n",
              "      <td>0.784446</td>\n",
              "      <td>0.035978</td>\n",
              "      <td>11</td>\n",
              "    </tr>\n",
              "    <tr>\n",
              "      <th>10</th>\n",
              "      <td>8</td>\n",
              "      <td>20</td>\n",
              "      <td>0.819985</td>\n",
              "      <td>0.002152</td>\n",
              "      <td>0.782954</td>\n",
              "      <td>0.034882</td>\n",
              "      <td>12</td>\n",
              "    </tr>\n",
              "  </tbody>\n",
              "</table>\n",
              "</div>\n",
              "    <div class=\"colab-df-buttons\">\n",
              "\n",
              "  <div class=\"colab-df-container\">\n",
              "    <button class=\"colab-df-convert\" onclick=\"convertToInteractive('df-2c620ea3-c86f-4e57-afd8-ec3b56230bc1')\"\n",
              "            title=\"Convert this dataframe to an interactive table.\"\n",
              "            style=\"display:none;\">\n",
              "\n",
              "  <svg xmlns=\"http://www.w3.org/2000/svg\" height=\"24px\" viewBox=\"0 -960 960 960\">\n",
              "    <path d=\"M120-120v-720h720v720H120Zm60-500h600v-160H180v160Zm220 220h160v-160H400v160Zm0 220h160v-160H400v160ZM180-400h160v-160H180v160Zm440 0h160v-160H620v160ZM180-180h160v-160H180v160Zm440 0h160v-160H620v160Z\"/>\n",
              "  </svg>\n",
              "    </button>\n",
              "\n",
              "  <style>\n",
              "    .colab-df-container {\n",
              "      display:flex;\n",
              "      gap: 12px;\n",
              "    }\n",
              "\n",
              "    .colab-df-convert {\n",
              "      background-color: #E8F0FE;\n",
              "      border: none;\n",
              "      border-radius: 50%;\n",
              "      cursor: pointer;\n",
              "      display: none;\n",
              "      fill: #1967D2;\n",
              "      height: 32px;\n",
              "      padding: 0 0 0 0;\n",
              "      width: 32px;\n",
              "    }\n",
              "\n",
              "    .colab-df-convert:hover {\n",
              "      background-color: #E2EBFA;\n",
              "      box-shadow: 0px 1px 2px rgba(60, 64, 67, 0.3), 0px 1px 3px 1px rgba(60, 64, 67, 0.15);\n",
              "      fill: #174EA6;\n",
              "    }\n",
              "\n",
              "    .colab-df-buttons div {\n",
              "      margin-bottom: 4px;\n",
              "    }\n",
              "\n",
              "    [theme=dark] .colab-df-convert {\n",
              "      background-color: #3B4455;\n",
              "      fill: #D2E3FC;\n",
              "    }\n",
              "\n",
              "    [theme=dark] .colab-df-convert:hover {\n",
              "      background-color: #434B5C;\n",
              "      box-shadow: 0px 1px 3px 1px rgba(0, 0, 0, 0.15);\n",
              "      filter: drop-shadow(0px 1px 2px rgba(0, 0, 0, 0.3));\n",
              "      fill: #FFFFFF;\n",
              "    }\n",
              "  </style>\n",
              "\n",
              "    <script>\n",
              "      const buttonEl =\n",
              "        document.querySelector('#df-2c620ea3-c86f-4e57-afd8-ec3b56230bc1 button.colab-df-convert');\n",
              "      buttonEl.style.display =\n",
              "        google.colab.kernel.accessAllowed ? 'block' : 'none';\n",
              "\n",
              "      async function convertToInteractive(key) {\n",
              "        const element = document.querySelector('#df-2c620ea3-c86f-4e57-afd8-ec3b56230bc1');\n",
              "        const dataTable =\n",
              "          await google.colab.kernel.invokeFunction('convertToInteractive',\n",
              "                                                    [key], {});\n",
              "        if (!dataTable) return;\n",
              "\n",
              "        const docLinkHtml = 'Like what you see? Visit the ' +\n",
              "          '<a target=\"_blank\" href=https://colab.research.google.com/notebooks/data_table.ipynb>data table notebook</a>'\n",
              "          + ' to learn more about interactive tables.';\n",
              "        element.innerHTML = '';\n",
              "        dataTable['output_type'] = 'display_data';\n",
              "        await google.colab.output.renderOutput(dataTable, element);\n",
              "        const docLink = document.createElement('div');\n",
              "        docLink.innerHTML = docLinkHtml;\n",
              "        element.appendChild(docLink);\n",
              "      }\n",
              "    </script>\n",
              "  </div>\n",
              "\n",
              "\n",
              "<div id=\"df-f4c983b5-e19d-4f98-818b-4b10b1d0ff44\">\n",
              "  <button class=\"colab-df-quickchart\" onclick=\"quickchart('df-f4c983b5-e19d-4f98-818b-4b10b1d0ff44')\"\n",
              "            title=\"Suggest charts.\"\n",
              "            style=\"display:none;\">\n",
              "\n",
              "<svg xmlns=\"http://www.w3.org/2000/svg\" height=\"24px\"viewBox=\"0 0 24 24\"\n",
              "     width=\"24px\">\n",
              "    <g>\n",
              "        <path d=\"M19 3H5c-1.1 0-2 .9-2 2v14c0 1.1.9 2 2 2h14c1.1 0 2-.9 2-2V5c0-1.1-.9-2-2-2zM9 17H7v-7h2v7zm4 0h-2V7h2v10zm4 0h-2v-4h2v4z\"/>\n",
              "    </g>\n",
              "</svg>\n",
              "  </button>\n",
              "\n",
              "<style>\n",
              "  .colab-df-quickchart {\n",
              "      --bg-color: #E8F0FE;\n",
              "      --fill-color: #1967D2;\n",
              "      --hover-bg-color: #E2EBFA;\n",
              "      --hover-fill-color: #174EA6;\n",
              "      --disabled-fill-color: #AAA;\n",
              "      --disabled-bg-color: #DDD;\n",
              "  }\n",
              "\n",
              "  [theme=dark] .colab-df-quickchart {\n",
              "      --bg-color: #3B4455;\n",
              "      --fill-color: #D2E3FC;\n",
              "      --hover-bg-color: #434B5C;\n",
              "      --hover-fill-color: #FFFFFF;\n",
              "      --disabled-bg-color: #3B4455;\n",
              "      --disabled-fill-color: #666;\n",
              "  }\n",
              "\n",
              "  .colab-df-quickchart {\n",
              "    background-color: var(--bg-color);\n",
              "    border: none;\n",
              "    border-radius: 50%;\n",
              "    cursor: pointer;\n",
              "    display: none;\n",
              "    fill: var(--fill-color);\n",
              "    height: 32px;\n",
              "    padding: 0;\n",
              "    width: 32px;\n",
              "  }\n",
              "\n",
              "  .colab-df-quickchart:hover {\n",
              "    background-color: var(--hover-bg-color);\n",
              "    box-shadow: 0 1px 2px rgba(60, 64, 67, 0.3), 0 1px 3px 1px rgba(60, 64, 67, 0.15);\n",
              "    fill: var(--button-hover-fill-color);\n",
              "  }\n",
              "\n",
              "  .colab-df-quickchart-complete:disabled,\n",
              "  .colab-df-quickchart-complete:disabled:hover {\n",
              "    background-color: var(--disabled-bg-color);\n",
              "    fill: var(--disabled-fill-color);\n",
              "    box-shadow: none;\n",
              "  }\n",
              "\n",
              "  .colab-df-spinner {\n",
              "    border: 2px solid var(--fill-color);\n",
              "    border-color: transparent;\n",
              "    border-bottom-color: var(--fill-color);\n",
              "    animation:\n",
              "      spin 1s steps(1) infinite;\n",
              "  }\n",
              "\n",
              "  @keyframes spin {\n",
              "    0% {\n",
              "      border-color: transparent;\n",
              "      border-bottom-color: var(--fill-color);\n",
              "      border-left-color: var(--fill-color);\n",
              "    }\n",
              "    20% {\n",
              "      border-color: transparent;\n",
              "      border-left-color: var(--fill-color);\n",
              "      border-top-color: var(--fill-color);\n",
              "    }\n",
              "    30% {\n",
              "      border-color: transparent;\n",
              "      border-left-color: var(--fill-color);\n",
              "      border-top-color: var(--fill-color);\n",
              "      border-right-color: var(--fill-color);\n",
              "    }\n",
              "    40% {\n",
              "      border-color: transparent;\n",
              "      border-right-color: var(--fill-color);\n",
              "      border-top-color: var(--fill-color);\n",
              "    }\n",
              "    60% {\n",
              "      border-color: transparent;\n",
              "      border-right-color: var(--fill-color);\n",
              "    }\n",
              "    80% {\n",
              "      border-color: transparent;\n",
              "      border-right-color: var(--fill-color);\n",
              "      border-bottom-color: var(--fill-color);\n",
              "    }\n",
              "    90% {\n",
              "      border-color: transparent;\n",
              "      border-bottom-color: var(--fill-color);\n",
              "    }\n",
              "  }\n",
              "</style>\n",
              "\n",
              "  <script>\n",
              "    async function quickchart(key) {\n",
              "      const quickchartButtonEl =\n",
              "        document.querySelector('#' + key + ' button');\n",
              "      quickchartButtonEl.disabled = true;  // To prevent multiple clicks.\n",
              "      quickchartButtonEl.classList.add('colab-df-spinner');\n",
              "      try {\n",
              "        const charts = await google.colab.kernel.invokeFunction(\n",
              "            'suggestCharts', [key], {});\n",
              "      } catch (error) {\n",
              "        console.error('Error during call to suggestCharts:', error);\n",
              "      }\n",
              "      quickchartButtonEl.classList.remove('colab-df-spinner');\n",
              "      quickchartButtonEl.classList.add('colab-df-quickchart-complete');\n",
              "    }\n",
              "    (() => {\n",
              "      let quickchartButtonEl =\n",
              "        document.querySelector('#df-f4c983b5-e19d-4f98-818b-4b10b1d0ff44 button');\n",
              "      quickchartButtonEl.style.display =\n",
              "        google.colab.kernel.accessAllowed ? 'block' : 'none';\n",
              "    })();\n",
              "  </script>\n",
              "</div>\n",
              "    </div>\n",
              "  </div>\n"
            ]
          },
          "metadata": {},
          "execution_count": 50
        }
      ]
    },
    {
      "cell_type": "code",
      "source": [
        "# select best model\n",
        "gs_results.best_params_"
      ],
      "metadata": {
        "id": "QoE3A88sCX_-",
        "outputId": "8373c981-79f5-41d0-d815-dc628c3a7e4d",
        "colab": {
          "base_uri": "https://localhost:8080/"
        }
      },
      "execution_count": 51,
      "outputs": [
        {
          "output_type": "execute_result",
          "data": {
            "text/plain": [
              "{'max_depth': 3, 'min_samples_leaf': 10}"
            ]
          },
          "metadata": {},
          "execution_count": 51
        }
      ]
    }
  ]
}